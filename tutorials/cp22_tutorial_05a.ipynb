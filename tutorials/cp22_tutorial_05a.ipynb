{
 "cells": [
  {
   "cell_type": "markdown",
   "id": "informed-nepal",
   "metadata": {},
   "source": [
    "# Computerphysik Programmiertutorial 5a\n",
    "Prof. Dr. Matteo Rizzi und Dr. Markus Schmitt - Institut für Theoretische Physik, Universität zu Köln\n",
    "&nbsp;\n",
    "\n",
    "**Github**: [https://github.com/markusschmitt/compphys2022](https://github.com/markusschmitt/compphys2022)\n",
    "\n",
    "**Inhalt dieses Notebooks**: Jonglieren mit Arrays, dünne Matrizen, [E] Zusammengesetzte Datentypen: `struct`s\n",
    "\n",
    "\n",
    "## Jonglieren mit Arrays\n",
    "\n"
   ]
  },
  {
   "cell_type": "code",
   "execution_count": null,
   "id": "mysterious-cross",
   "metadata": {},
   "outputs": [],
   "source": []
  },
  {
   "cell_type": "markdown",
   "id": "friendly-creativity",
   "metadata": {},
   "source": [
    "Dimensionen ändern: `reshape`"
   ]
  },
  {
   "cell_type": "code",
   "execution_count": null,
   "id": "descending-review",
   "metadata": {
    "scrolled": true
   },
   "outputs": [],
   "source": []
  },
  {
   "cell_type": "code",
   "execution_count": null,
   "id": "dimensional-traffic",
   "metadata": {},
   "outputs": [],
   "source": []
  },
  {
   "cell_type": "code",
   "execution_count": null,
   "id": "injured-champagne",
   "metadata": {},
   "outputs": [],
   "source": []
  },
  {
   "cell_type": "markdown",
   "id": "terminal-trace",
   "metadata": {},
   "source": [
    "Eine einzelne Spalte extrahieren"
   ]
  },
  {
   "cell_type": "code",
   "execution_count": null,
   "id": "german-county",
   "metadata": {},
   "outputs": [],
   "source": []
  },
  {
   "cell_type": "code",
   "execution_count": null,
   "id": "stupid-equity",
   "metadata": {},
   "outputs": [],
   "source": []
  },
  {
   "cell_type": "markdown",
   "id": "central-astronomy",
   "metadata": {},
   "source": [
    "Eine einzelne Zeile extrahieren"
   ]
  },
  {
   "cell_type": "code",
   "execution_count": null,
   "id": "anonymous-anderson",
   "metadata": {
    "scrolled": false
   },
   "outputs": [],
   "source": []
  },
  {
   "cell_type": "markdown",
   "id": "ethical-turning",
   "metadata": {},
   "source": [
    "Eine Untermatrix extrahieren"
   ]
  },
  {
   "cell_type": "code",
   "execution_count": null,
   "id": "nervous-millennium",
   "metadata": {
    "scrolled": false
   },
   "outputs": [],
   "source": []
  },
  {
   "cell_type": "code",
   "execution_count": null,
   "id": "fantastic-firmware",
   "metadata": {},
   "outputs": [],
   "source": []
  },
  {
   "cell_type": "markdown",
   "id": "armed-template",
   "metadata": {},
   "source": [
    "Indizes vom Ende zählen:"
   ]
  },
  {
   "cell_type": "code",
   "execution_count": null,
   "id": "virgin-punishment",
   "metadata": {},
   "outputs": [],
   "source": []
  },
  {
   "cell_type": "markdown",
   "id": "civilian-romance",
   "metadata": {},
   "source": [
    "## Dünne Matrizen\n",
    "\n",
    "Matrizen, die in physikalischen Anwendungen interessant sind, haben oft viel Struktur. In verschiednene Anwendungen tauchen z.B. Matrizen auf, die nur wenige von Null verschiedene Einträge haben -- sogenannte **dünn besetzte Matrizen**. In solchen Fällen ist es günstig nicht die komplette Matrix im Speicher abzulegen, sondern nur die wenigen Einträge, die nicht Null sind.\n",
    "\n",
    "Beispiel:\n",
    "\n",
    "$$\n",
    "M=\\begin{pmatrix}5&0&0&0\\\\0&8&0&0\\\\0&0&7&3\\\\0&4&0&1\\end{pmatrix}\n",
    "$$\n",
    "\n",
    "Um solche Matrizen effizient zu speichern gibt es verschiedene Datenstrukturen. Die Idee ist immer, dass es reicht die Werte der nicht-Null Einträge zu speichern, sowie ihre jeweilige Position in der Matrix.\n",
    "\n",
    "Eine Möglichkeit ist das **Compressed Sparse Column (CSC)** Format. In diesem Format werden drei Arrays verwendet um die dünne Matrix zu Beschreiben:\n",
    "\n",
    "1. Das erste Array enthält die **Werte** der nicht-Null Matrixeinträge entsprechend ihrer *spaltenweise* Reihenfolge:\n",
    "```\n",
    "values = [5, 8, 4, 7, 3, 1]\n",
    "```\n",
    "2. Das zweite Array enthält zugehörigen **Zeilenindizes** in der gleichen Reihenfolge:\n",
    "```\n",
    "row_idx = [1, 2, 4, 3, 3, 4]\n",
    "```\n",
    "3. Das dritte Array enthält die sogenannten **Spaltenzeiger**. Die Spaltenzeiger sind die Indizes des ersten Eintrags jeder Spalte im `values` bzw. `row_idx` Array. Das Array enthält außerdem immer einen zusätzlichen letzten Eintrag, der der Zahl der Einträge in `values` plus 1 entspricht:\n",
    "```\n",
    "col_ptr = [1, 2, 4, 5, 7]\n",
    "```\n",
    "\n",
    "Außerdem speichern wir die Dimension der Matrix, also $m$ und $n$ für eine $m\\times n$-Matrix.\n",
    "\n",
    "Eine solche Datenstruktur können wir zum Beispiel als Dictionary implementieren:"
   ]
  },
  {
   "cell_type": "code",
   "execution_count": null,
   "id": "developing-twenty",
   "metadata": {},
   "outputs": [],
   "source": []
  },
  {
   "cell_type": "markdown",
   "id": "united-bumper",
   "metadata": {},
   "source": [
    "Um die Funktionsweise zu illustrieren, implementieren wir ein Matrix-Vektor-Produkt für unsere dünne Matrix:"
   ]
  },
  {
   "cell_type": "code",
   "execution_count": null,
   "id": "union-arctic",
   "metadata": {},
   "outputs": [],
   "source": [
    "function sparse_mvp(A, x)\n",
    "    # Array für Ergebnis anlegen\n",
    "    res = zeros(A[\"n_rows\"])\n",
    "    \n",
    "    # zur Übersichtlichkeit\n",
    "    col_ptr = A[\"col_ptr\"]\n",
    "    row_idx = A[\"row_idx\"]\n",
    "    values = A[\"values\"]\n",
    "    \n",
    "    # Schleife für das Matrix-Vektor-Produkt\n",
    "    for j in 1:(size(col_ptr)[1]-1)\n",
    "        col_range = col_ptr[j]:col_ptr[j+1]-1 # Bereich der aktuellen Spalte im values Array\n",
    "        row_indices = row_idx[col_range]      # Zeilen-Indizes, die zur aktuellen Spalte gehören\n",
    "        \n",
    "        res[row_indices] += values[col_range] * x[j]\n",
    "    end\n",
    "    \n",
    "    return res\n",
    "end"
   ]
  },
  {
   "cell_type": "code",
   "execution_count": null,
   "id": "theoretical-laugh",
   "metadata": {},
   "outputs": [],
   "source": []
  },
  {
   "cell_type": "code",
   "execution_count": null,
   "id": "patient-girlfriend",
   "metadata": {},
   "outputs": [],
   "source": [
    "dense_M = float([5 0 0 0; 0 8 0 0; 0 0 7 3; 0 4 0 1])\n",
    "\n",
    "dense_M * mein_vektor"
   ]
  },
  {
   "cell_type": "markdown",
   "id": "narrative-villa",
   "metadata": {},
   "source": [
    "Julia stellt standardmäßig eine Datenstruktur für dünne Matrizen im CSC-Format bereit (im Standardpaket `SparseArrays`, [Dokumentation](https://docs.julialang.org/en/v1/stdlib/SparseArrays/)):"
   ]
  },
  {
   "cell_type": "code",
   "execution_count": null,
   "id": "egyptian-century",
   "metadata": {},
   "outputs": [],
   "source": []
  },
  {
   "cell_type": "markdown",
   "id": "individual-employment",
   "metadata": {},
   "source": [
    "Dünne Matrizen können damit auf unterschiedliche Weise erzeugt werden.\n",
    "\n",
    "Entweder aus einer dichten Matrix:"
   ]
  },
  {
   "cell_type": "code",
   "execution_count": null,
   "id": "center-softball",
   "metadata": {},
   "outputs": [],
   "source": []
  },
  {
   "cell_type": "markdown",
   "id": "following-operator",
   "metadata": {},
   "source": [
    "Oder durch Übergeben der Zeilenindizes, Spaltenindizes, und Werte aller Einträge"
   ]
  },
  {
   "cell_type": "code",
   "execution_count": null,
   "id": "plain-horse",
   "metadata": {
    "scrolled": true
   },
   "outputs": [],
   "source": []
  },
  {
   "cell_type": "markdown",
   "id": "sunrise-center",
   "metadata": {},
   "source": [
    "Genau wie bei dichten Matrizen können wir einzelene Einträge auslesen ..."
   ]
  },
  {
   "cell_type": "code",
   "execution_count": null,
   "id": "medieval-waters",
   "metadata": {},
   "outputs": [],
   "source": []
  },
  {
   "cell_type": "markdown",
   "id": "athletic-directory",
   "metadata": {},
   "source": [
    "... und ändern"
   ]
  },
  {
   "cell_type": "code",
   "execution_count": null,
   "id": "south-given",
   "metadata": {},
   "outputs": [],
   "source": []
  },
  {
   "cell_type": "markdown",
   "id": "sudden-burlington",
   "metadata": {},
   "source": [
    "Das Matrix-Vektor-Produkt ist mit dieser Datenstruktur auch bereits implementiert:"
   ]
  },
  {
   "cell_type": "code",
   "execution_count": null,
   "id": "thick-dictionary",
   "metadata": {},
   "outputs": [],
   "source": []
  },
  {
   "cell_type": "markdown",
   "id": "living-meeting",
   "metadata": {},
   "source": [
    "Genauso gibt es dünne Vektoren:"
   ]
  },
  {
   "cell_type": "code",
   "execution_count": null,
   "id": "trained-interaction",
   "metadata": {
    "scrolled": true
   },
   "outputs": [],
   "source": []
  },
  {
   "cell_type": "markdown",
   "id": "hazardous-suggestion",
   "metadata": {},
   "source": [
    "## [E] Zusammengesetzte Datentypen: `struct`s\n",
    "\n",
    "Julia bietet die Möglichkeit eigene Zusammengesetzte Datentypen als `struct`s zu definieren ([Dokumentation](https://docs.julialang.org/en/v1/manual/types/#Composite-Types))."
   ]
  },
  {
   "cell_type": "code",
   "execution_count": null,
   "id": "lucky-flower",
   "metadata": {},
   "outputs": [],
   "source": [
    "struct MySparse\n",
    "    n_rows::Int\n",
    "    n_cols::Int\n",
    "    values::Vector{Float64}\n",
    "    row_idx::Vector{Int}\n",
    "    col_ptr::Vector{Int}\n",
    "end"
   ]
  },
  {
   "cell_type": "code",
   "execution_count": null,
   "id": "strategic-preparation",
   "metadata": {},
   "outputs": [],
   "source": [
    "mat = MySparse(4, 4, float([5, 8 ,4 , 7, 3, 1]), [1, 2, 4, 3, 3, 4], [1, 2, 4, 5, 7])"
   ]
  },
  {
   "cell_type": "markdown",
   "id": "valid-membership",
   "metadata": {},
   "source": [
    "Unser neuer zusammengesetzter Datentyp ist Julia jetzt bekannt:"
   ]
  },
  {
   "cell_type": "code",
   "execution_count": null,
   "id": "excited-traveler",
   "metadata": {},
   "outputs": [],
   "source": []
  },
  {
   "cell_type": "markdown",
   "id": "united-monitor",
   "metadata": {},
   "source": [
    "Auf die einzelnen Felder können wir mit `.<Feldname>` zugreifen:"
   ]
  },
  {
   "cell_type": "code",
   "execution_count": null,
   "id": "sweet-voltage",
   "metadata": {},
   "outputs": [],
   "source": []
  },
  {
   "cell_type": "code",
   "execution_count": null,
   "id": "turned-hypothesis",
   "metadata": {
    "scrolled": true
   },
   "outputs": [],
   "source": []
  },
  {
   "cell_type": "markdown",
   "id": "demographic-seeking",
   "metadata": {},
   "source": [
    "Damit können wir unser dünnes Matrix-Vektor-Produkt umschreiben (*multiple dispatch*):"
   ]
  },
  {
   "cell_type": "code",
   "execution_count": null,
   "id": "bright-buddy",
   "metadata": {
    "scrolled": true
   },
   "outputs": [],
   "source": [
    "function sparse_mvp(A::MySparse, x)\n",
    "    # Array für Ergebnis anlegen\n",
    "    res = zeros(A.n_rows)\n",
    "    \n",
    "    # Schleife für das Matrix-Vektor-Produkt\n",
    "    for j in 1:(size(A.col_ptr)[1]-1)\n",
    "        col_range = A.col_ptr[j]:A.col_ptr[j+1]-1 # Bereich der aktuellen Spalte im values Array\n",
    "        row_indices = A.row_idx[col_range]        # Zeilen-Indizes, die zur aktuellen Spalte gehören\n",
    "        \n",
    "        res[row_indices] += A.values[col_range] * x[j]\n",
    "    end\n",
    "    \n",
    "    return res\n",
    "end\n",
    "\n",
    "sparse_mvp(mat, mein_vektor)"
   ]
  },
  {
   "cell_type": "markdown",
   "id": "original-technique",
   "metadata": {},
   "source": [
    "**Hinweis:** `struct`s sind *immutable*:"
   ]
  },
  {
   "cell_type": "code",
   "execution_count": null,
   "id": "standard-tourism",
   "metadata": {
    "scrolled": false
   },
   "outputs": [],
   "source": []
  },
  {
   "cell_type": "markdown",
   "id": "contrary-heading",
   "metadata": {},
   "source": [
    "Das kann mit `mutable struct`s umgangen werden:"
   ]
  },
  {
   "cell_type": "code",
   "execution_count": null,
   "id": "marked-lloyd",
   "metadata": {},
   "outputs": [],
   "source": [
    "mutable struct MyMutableSparse\n",
    "    n_rows::Int\n",
    "    n_cols::Int\n",
    "    values::Vector{Float64}\n",
    "    row_idx::Vector{Int}\n",
    "    col_ptr::Vector{Int}\n",
    "end"
   ]
  },
  {
   "cell_type": "code",
   "execution_count": null,
   "id": "involved-convenience",
   "metadata": {},
   "outputs": [],
   "source": [
    "mat_mutable = MyMutableSparse(4, 4, float([5, 8, 4, 7, 3, 1]), [1, 2, 4, 3, 3, 4], [1, 2, 4, 5, 7])\n",
    "\n",
    "mat_mutable.n_rows=5"
   ]
  },
  {
   "cell_type": "code",
   "execution_count": null,
   "id": "continent-pocket",
   "metadata": {},
   "outputs": [],
   "source": []
  }
 ],
 "metadata": {
  "kernelspec": {
   "display_name": "Julia 1.7.1",
   "language": "julia",
   "name": "julia-1.7"
  },
  "language_info": {
   "file_extension": ".jl",
   "mimetype": "application/julia",
   "name": "julia",
   "version": "1.7.1"
  }
 },
 "nbformat": 4,
 "nbformat_minor": 5
}
