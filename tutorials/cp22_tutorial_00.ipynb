{
 "cells": [
  {
   "cell_type": "markdown",
   "id": "significant-affect",
   "metadata": {},
   "source": [
    "# Computerphysik Programmiertutorial 0 (Erste Schritte)\n",
    "Prof. Dr. Matteo Rizzi und Dr. Markus Schmitt - Institut für Theoretische Physik, Universität zu Köln\n",
    "&nbsp;\n",
    "\n",
    "**Github**: [https://github.com/markusschmitt/compphys2022](https://github.com/markusschmitt/compphys2022)\n",
    "\n",
    "**Inhalt dieses Notebooks**: Jupyter notebook bedienen, Installation der benötigten Pakete"
   ]
  },
  {
   "cell_type": "markdown",
   "id": "sound-chemistry",
   "metadata": {},
   "source": [
    "## Jupyter notebooks bedienen"
   ]
  },
  {
   "cell_type": "markdown",
   "id": "republican-metro",
   "metadata": {},
   "source": [
    "`CTRL` = `STRG` = \"Steuerungstaste\" (Achtung: Auf Mac = `COMMAND`)\n",
    "\n",
    "`SHIFT` = \"Umschalttaste\"\n",
    "\n",
    "* `CTRL` + `ENTER` = Zelle ausführen\n",
    "* `SHIFT` + `ENTER` = Zelle ausführen und zur nächsten Zelle springen.\n",
    "* `ESC` danach `B` = Neue Zelle nach aktueller Zelle\n",
    "* `ESC` danach `A` = Neue Zelle vor aktueller Zelle\n",
    "* `ESC` danach `X` = Aktuelle Zelle löschen\n",
    "\n",
    "Tipp: `STRG + SHIFT + P`"
   ]
  },
  {
   "cell_type": "code",
   "execution_count": null,
   "id": "theoretical-missile",
   "metadata": {},
   "outputs": [],
   "source": []
  },
  {
   "cell_type": "markdown",
   "id": "editorial-species",
   "metadata": {},
   "source": [
    "Das ist ein **wichtiger** Kommentar!"
   ]
  },
  {
   "cell_type": "markdown",
   "id": "posted-shuttle",
   "metadata": {},
   "source": [
    "Ein Semikolon `;` am Ende einer Zelle unterdrückt die automatische Ausgabe."
   ]
  },
  {
   "cell_type": "code",
   "execution_count": null,
   "id": "legitimate-compatibility",
   "metadata": {},
   "outputs": [],
   "source": []
  },
  {
   "cell_type": "markdown",
   "id": "premium-bonus",
   "metadata": {},
   "source": [
    "## Installation der benötigten Pakete"
   ]
  },
  {
   "cell_type": "markdown",
   "id": "rotary-hindu",
   "metadata": {},
   "source": [
    "Durch Ausführen der nächsten beiden Zellen wird erst ein Installationsskript von unserem Computerphysik-Repository heruntergeladen, mit dem anschließend sehr einfach alle für die Programmiertutorials und für die Übungen benötigten Julia-Pakete installiert werden."
   ]
  },
  {
   "cell_type": "code",
   "execution_count": null,
   "id": "outdoor-loading",
   "metadata": {},
   "outputs": [],
   "source": [
    "# Herunterladen und einbinden eines kleinen Helferskripts\n",
    "download(\"https://raw.githubusercontent.com/markusschmitt/compphys2022/main/tutorials/install.jl\", \"install.jl\")\n",
    "include(\"install.jl\")"
   ]
  },
  {
   "cell_type": "markdown",
   "id": "palestinian-somerset",
   "metadata": {},
   "source": [
    "Der folgende Befehl kann eine (ganze) Weile dauern. Erst wenn links in den eckigen Klammern **nach dem Ausführen** wieder eine Zahl (und kein `*`) mehr steht ist die Installation abgeschlossen."
   ]
  },
  {
   "cell_type": "code",
   "execution_count": null,
   "id": "strong-jewel",
   "metadata": {
    "scrolled": false
   },
   "outputs": [],
   "source": [
    "install_overwrite()"
   ]
  },
  {
   "cell_type": "markdown",
   "id": "needed-semester",
   "metadata": {},
   "source": [
    "> **Hinweis:** Sollte es mit dem Befehl `install()` zu Problemen kommen, kann `install_overwrite()` verwendet werden. Letzteres **überschreibt(!)** die vorhandene Julia-Umgebung, d.h. bereits installierte Pakete gehen verloren."
   ]
  }
 ],
 "metadata": {
  "kernelspec": {
   "display_name": "Julia 1.7.1",
   "language": "julia",
   "name": "julia-1.7"
  },
  "language_info": {
   "file_extension": ".jl",
   "mimetype": "application/julia",
   "name": "julia",
   "version": "1.7.1"
  }
 },
 "nbformat": 4,
 "nbformat_minor": 5
}
