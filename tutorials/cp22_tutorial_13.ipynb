{
 "cells": [
  {
   "cell_type": "markdown",
   "id": "informed-nepal",
   "metadata": {},
   "source": [
    "# Computerphysik Programmiertutorial 13\n",
    "Prof. Dr. Matteo Rizzi und Dr. Markus Schmitt - Institut für Theoretische Physik, Universität zu Köln\n",
    "&nbsp;\n",
    "\n",
    "**Github**: [https://github.com/markusschmitt/compphys2022](https://github.com/markusschmitt/compphys2022)\n",
    "\n",
    "**Inhalt dieses Notebooks**: Metropolis-MCMC Simulation des Potts Modells, Burn-in und Autokorrelation"
   ]
  },
  {
   "cell_type": "markdown",
   "id": "continuous-atlas",
   "metadata": {},
   "source": [
    "# Potts-Modell\n",
    "\n",
    "Das Potts-Modell ist eine Verallgemeinerung des Ising-Modells. \n",
    "\n",
    "Im Ising-Modell kann jeder Mikro-Maget zwei Ausrichtungen annehmen: \n",
    "\n",
    "* \"hoch\" $\\uparrow$ oder \"runter\" $\\downarrow$. \n",
    "\n",
    "Wir verallgemeinern das nun im Potts-Modell zu Mikro-Magneten, die in drei mögliche Richtungen zeigen können: \n",
    "\n",
    "* \"oben\" $\\uparrow$, \"unten rechts\" $\\searrow$ oder \"unten links\" $\\swarrow$\n",
    "\n",
    "Wir weisen den drei möglichen Ausrichtungen im folgenden die numerischen Werte $s=0,1,2$ zu, die den Winkeln $\\theta_n=\\frac{2\\pi n}{3}$ entsprechen.\n",
    "\n",
    "Analog zum Ising-Modell platzieren wir unsere Potts-Mikro-Magnete $\\vec s$ auf einem Quadratgitter und definieren die Energie-Funktion\n",
    "\n",
    "$$\n",
    "E(\\vec s) = -\\sum_{\\langle i,j\\rangle}\\cos\\Big(\\frac{2\\pi}{3} (s_i-s_j)\\Big)\n",
    "= -\\frac{1}{2}\\sum_i\\sum_{j\\in\\mathcal N(i)}\\cos\\Big(\\frac{2\\pi}{3} (s_i-s_j)\\Big)\n",
    "\\equiv\\frac12\\sum_i E_{i}(\\vec s)\n",
    "$$\n",
    "\n",
    "Die Energie wird also minimiert, wenn alle Mikro-Magnete $s_i$ parallel ausgerichtet sind.\n",
    "\n",
    "Wir wollen in diesem Tutorial das Temperaturabhängige Verhalten des Potts-Modells numerisch untersuchen. Die Basis dafür ist die *Boltzmann-Verteilung*, laut der bei einer Temperatur $T$ die Wahrscheinlichkeit, dass sich das System in der Konfiguration $\\vec s$ befindet, durch\n",
    "\n",
    "$$\n",
    "p_T(\\vec s)\\propto \\exp\\big(-E(\\vec s)/T\\big)\n",
    "$$\n",
    "\n",
    "gegeben ist (wir setzen hier die Naturkonstante $k_B=1$).\n",
    "\n",
    "Wie in der Vorlesung besprochen, können mit dem **Metropolis-Algorithmus** eine Menge von Konfigurationen $\\vec s_n$ erzeugen, in der jedes Element $\\vec s_n$ mit der Wahrscheinlichkeit $p_T(\\vec s_n)$ auftaucht. Sobald wir diese Konfigurationen haben, können wir Erwartungswerte bezüglich der Verteilung $p_T(\\vec s)$ schätzen.\n",
    "\n",
    "Der Metropolis-Algorithmus basiert auf einem Markov-Prozess auf den Konfigurationen $\\vec s$, in dem ausgehend von $\\vec s$ eine zufällige neue Konfiguration $\\vec s'$ vorgeschlagen und mit der Wahrscheinlichkeit\n",
    "\n",
    "$$\n",
    "p_{\\text{akz.}}^T(\\vec s',\\vec s)=\\text{min}\\big\\{e^{-[E(\\vec s')-E(\\vec s)]/T}, 1\\big\\}\n",
    "$$\n",
    "\n",
    "angenommen wird."
   ]
  },
  {
   "cell_type": "code",
   "execution_count": null,
   "id": "sealed-dividend",
   "metadata": {},
   "outputs": [],
   "source": [
    "using Plots\n",
    "using Random\n",
    "using LaTeXStrings"
   ]
  },
  {
   "cell_type": "markdown",
   "id": "described-concept",
   "metadata": {},
   "source": [
    "## Implementierung des Potts-Modells\n",
    "\n",
    "Die folgende Funktion generiert eine zufällige Konfiguration von Potts-Mikro-Magneten ($s_j\\in\\{0,1,2\\}$) auf einem Quadratgitter der größe $L\\times L$:"
   ]
  },
  {
   "cell_type": "code",
   "execution_count": null,
   "id": "military-ratio",
   "metadata": {},
   "outputs": [],
   "source": [
    "function random_config(L)\n",
    "    return config = Int.(ceil.(3*rand(L,L))).-1\n",
    "end"
   ]
  },
  {
   "cell_type": "code",
   "execution_count": null,
   "id": "clinical-federal",
   "metadata": {},
   "outputs": [],
   "source": [
    "heatmap(random_config(5), border=:none, legend=:none, aspect_ratio=:equal)"
   ]
  },
  {
   "cell_type": "markdown",
   "id": "egyptian-three",
   "metadata": {},
   "source": [
    "Wir werden im Folgenden die Konvention nutzen, dass die Nachbarn \"oben\", \"unten\", \"links\", und \"rechts\" mit 1,2,3,4 durchnummeriert sind. Die Funktion `neighbor` soll dann für den Gitterplatz $i,j$ in einem $L\\times L$-Gitter die Gitterindizes des $k$-ten Nachbarn zurückgeben:"
   ]
  },
  {
   "cell_type": "code",
   "execution_count": null,
   "id": "polar-chain",
   "metadata": {},
   "outputs": [],
   "source": [
    "function neighbor(i,j,k,L)\n",
    "    # k= 1 - oben, 2 - unten, 3 - links, 4 - rechts\n",
    "    if k==1\n",
    "        return 1+(L+i-2)%L, j\n",
    "    end\n",
    "    if k==2\n",
    "        return 1+i%L, j\n",
    "    end\n",
    "    if k==3\n",
    "        return i, 1+(L+j-2)%L\n",
    "    end\n",
    "    if k==4\n",
    "        return i, 1+j%L\n",
    "    end\n",
    "end"
   ]
  },
  {
   "cell_type": "markdown",
   "id": "bound-attachment",
   "metadata": {},
   "source": [
    "Test der `neighbor`-Funktion:"
   ]
  },
  {
   "cell_type": "code",
   "execution_count": null,
   "id": "fancy-provision",
   "metadata": {},
   "outputs": [],
   "source": [
    "i,j=1,1\n",
    "println(\"$i,$j -> oben: \", neighbor(i,j,1,13))\n",
    "println(\"$i,$j -> unten: \", neighbor(i,j,2,13))\n",
    "println(\"$i,$j -> links: \", neighbor(i,j,3,13))\n",
    "println(\"$i,$j -> rechts: \", neighbor(i,j,4,13))"
   ]
  },
  {
   "cell_type": "markdown",
   "id": "suspected-refund",
   "metadata": {},
   "source": [
    "Als nächstes brauchen wir eine Funktion, mit der wir einen zufälligen Vorschlag für $\\vec s'$ generieren können. Eine einfache Wahl ist ausgehend von einer Konfiguration $\\vec s$ einen einzelnen Mikro-Magneten im Gitter auszuwählen und seine Richtung zu ändern. Dafür schreiben wir eine Funktion, die die Koordinaten eines zufälligen Gitterplatzes zurückgibt und einen zufälligen Wert, um den die Richtung des Mikro-Magneten gedreht werden soll:"
   ]
  },
  {
   "cell_type": "code",
   "execution_count": null,
   "id": "final-shoot",
   "metadata": {},
   "outputs": [],
   "source": [
    "function propose_update(L)\n",
    "    \n",
    "    # zufälliger Gitterplatz\n",
    "    i = Int(ceil(L*rand()))\n",
    "    j = Int(ceil(L*rand()))\n",
    "    \n",
    "    # zufälliger Drehwinkel\n",
    "    s = Int(ceil(2*rand()))\n",
    "    \n",
    "    return i,j,s\n",
    "    \n",
    "end"
   ]
  },
  {
   "cell_type": "code",
   "execution_count": null,
   "id": "blessed-sunday",
   "metadata": {},
   "outputs": [],
   "source": [
    "propose_update(10)"
   ]
  },
  {
   "cell_type": "markdown",
   "id": "professional-strength",
   "metadata": {},
   "source": [
    "Da sich in unserem Fall die Konfigurationen $\\vec s$ und $\\vec s'$ bei der Berechnung der Energiedifferenz für die Akzeptanzwahrscheinlichkeit nur in einem Gitterplatz unterscheiden werden, reicht es statt der Energiedifferenz die Differenz der lokalen Enerigen\n",
    "\n",
    "$$\n",
    "E_{i}(\\vec s)=-\\sum_{j\\in\\mathcal N(i)}\\cos\\Big(\\frac{2\\pi}{3} (s_i-s_j)\\Big)\n",
    "$$\n",
    "\n",
    "zu berechnen. Das macht die folgende Funktion:"
   ]
  },
  {
   "cell_type": "code",
   "execution_count": null,
   "id": "amended-istanbul",
   "metadata": {},
   "outputs": [],
   "source": [
    "function site_energy(i,j,config)\n",
    "    L = size(config)[1]\n",
    "    \n",
    "    E = 0\n",
    "    \n",
    "    theta = 2*pi/3\n",
    "    \n",
    "    for k in 1:4\n",
    "        ni, nj = neighbor(i,j,k,L)\n",
    "        E -= cos((config[i,j] - config[ni,nj]) * theta)\n",
    "    end\n",
    "    \n",
    "    return E\n",
    "end"
   ]
  },
  {
   "cell_type": "markdown",
   "id": "terminal-chart",
   "metadata": {},
   "source": [
    "Außerdem möchten wir gerne die Gesamtenergie berechnen können:"
   ]
  },
  {
   "cell_type": "code",
   "execution_count": null,
   "id": "controlling-record",
   "metadata": {},
   "outputs": [],
   "source": [
    "function energy(config)\n",
    "    L = size(config)[1]\n",
    "    \n",
    "    E=0\n",
    "    for i in 1:L\n",
    "        for j in 1:L\n",
    "            E += site_energy(i,j,config)\n",
    "        end\n",
    "    end\n",
    "    \n",
    "    return 0.5*E\n",
    "end"
   ]
  },
  {
   "cell_type": "markdown",
   "id": "changed-warner",
   "metadata": {},
   "source": [
    "## Metropolis Algorithmus\n",
    "\n",
    "Der Kern des Metropolis-Algorithmus ist der Update-Schritt, in dem eine neue Konfiguration vorgeschlagen und dann entsprechend der Akzeptanzwahrscheinlichkeit angenommen oder verworfen wird:"
   ]
  },
  {
   "cell_type": "code",
   "execution_count": null,
   "id": "sexual-snowboard",
   "metadata": {},
   "outputs": [],
   "source": [
    "function step!(config, T)\n",
    "    L = size(config)[1]\n",
    "    \n",
    "\n",
    "end"
   ]
  },
  {
   "cell_type": "markdown",
   "id": "miniature-sleep",
   "metadata": {},
   "source": [
    "Zwischen zwei Konfigurationen, die wir später zur Berechnung von Observablen verwenden, sollte immer eine Reihe von Update-Schritten liegen (wir werden weiter unten sehen warum). Der Prozess dieser Folge von Updates wird oft *Sweep* genannt. Die folgende Funktion führt einen Sweep mit einer Gewunschten Zahl an Update-Schitten durch:"
   ]
  },
  {
   "cell_type": "code",
   "execution_count": null,
   "id": "overhead-excitement",
   "metadata": {},
   "outputs": [],
   "source": [
    "function sweep!(config, T, sweep_steps)\n",
    "\n",
    "end"
   ]
  },
  {
   "cell_type": "markdown",
   "id": "victorian-mission",
   "metadata": {},
   "source": [
    "Nun haben wir alle Zutaten um den eigentlichen Metropolis-Algorithmus zu schreiben:\n",
    "\n",
    "**Parameter:**\n",
    "* `L` Kantenlänge des Quadratgitters\n",
    "* `T` Temperatur\n",
    "* `num_samples` Zahl der Konfigurationen, die generiert werden sollen\n",
    "* `sweep_steps` Zahl der Update-Schritte zwischen berücksichtigten Konfigurationen\n",
    "* `burn_in_steps` Zahl der Update-Schritte vor der ersten berücksichtigten Konfiguration"
   ]
  },
  {
   "cell_type": "code",
   "execution_count": null,
   "id": "integrated-hypothetical",
   "metadata": {},
   "outputs": [],
   "source": [
    "function mcmc(L, T, num_samples, sweep_steps, burn_in_steps)\n",
    "    # zufällige Anfangskonfiguration\n",
    "    config = random_config(L)\n",
    "\n",
    "    # Container, der mit Konfigurationen gefüllt wird\n",
    "    samples = zeros(Int, (L,L,num_samples))\n",
    "    \n",
    "    # \"Burn-in\": Einige Updates am Anfang um die stationäre Region zu erreichen\n",
    "    for n in 1:burn_in_steps\n",
    "        step!(config, T)\n",
    "    end\n",
    "    \n",
    "    # Sammeln von Konfigurationen\n",
    "    for n in 1:num_samples\n",
    "        sweep!(config, T, sweep_steps)\n",
    "        \n",
    "        samples[:,:,n] = config\n",
    "    end\n",
    "    \n",
    "    return samples\n",
    "end"
   ]
  },
  {
   "cell_type": "code",
   "execution_count": null,
   "id": "becoming-apple",
   "metadata": {
    "scrolled": true
   },
   "outputs": [],
   "source": [
    "configs = mcmc(10, 5, 100, 1, 0)"
   ]
  },
  {
   "cell_type": "code",
   "execution_count": null,
   "id": "fifty-graduation",
   "metadata": {},
   "outputs": [],
   "source": [
    "heatmap(configs[:,:,67], border=:none, legend=:none, aspect_ratio=:equal)"
   ]
  },
  {
   "cell_type": "markdown",
   "id": "adapted-productivity",
   "metadata": {},
   "source": [
    "## Simulation\n",
    "\n",
    "Nun können wir das Potts-Modell bei verschiedenen Temperaturen simulieren.\n",
    "\n",
    "Wir möchten gerne die Temperaturabhängigkeit der spezifischen Wärme\n",
    "\n",
    "$$\n",
    "C_V(T)=\\frac{1}{T}\\Big(\\langle E^2\\rangle_T-\\big(\\langle E\\rangle_T\\big)^2\\Big)\n",
    "$$\n",
    "\n",
    "bestimmen. Hier ist $\\langle X\\rangle_T$ der Erwartungswert der größe $X(s)$ bezüglich der Boltzmann-Verteilung $p_T(\\vec s)$."
   ]
  },
  {
   "cell_type": "code",
   "execution_count": null,
   "id": "considerable-campbell",
   "metadata": {},
   "outputs": [],
   "source": [
    "using Statistics\n",
    "\n",
    "# Hilfsfunktion, die die Funktion `f` auf der Liste von Konfigurationen `configs` auswertet\n",
    "function eval(f, configs)\n",
    "    return [f(configs[:,:,j]) for j in 1:size(configs)[3]]\n",
    "end\n",
    "\n",
    "Random.seed!(1234)\n",
    "\n",
    "L = 10 # Systemgröße\n",
    "num_samples = 10000 # Anzahl von Konfigurationen\n",
    "sweep_steps = L*L \n",
    "burn_in_steps = 10000\n",
    "Ts = range(0.5,5,step=0.25) # Temperaturbereich\n",
    "\n",
    "cv = []\n",
    "\n",
    "for T in Ts\n",
    "    configs = mcmc(L, T, num_samples, sweep_steps, burn_in_steps)\n",
    "    push!(cv, var(eval(energy, configs))/T^2)\n",
    "end\n",
    "\n",
    "plot(Ts, cv)\n",
    "xlabel!(\"Temperatur\")\n",
    "ylabel!(\"Spezifische Wärme\")"
   ]
  },
  {
   "cell_type": "code",
   "execution_count": null,
   "id": "adult-probe",
   "metadata": {},
   "outputs": [],
   "source": [
    "L=20\n",
    "T=1.75;"
   ]
  },
  {
   "cell_type": "markdown",
   "id": "regular-sleeping",
   "metadata": {},
   "source": [
    "# Stolpersteine in MCMC\n",
    "\n",
    "Für verlässliche Ergebnisse ist eine gute Wahl der Parameter `sweep_steps` und `burn_in_steps` essenziell.\n",
    "\n",
    "## Burn-in\n",
    "\n",
    "Die Anfangskonfiguration ist in diesen Simulationen beliebig gewählt und kann in einer Region mit sehr kleinen Boltzmann-Gewichten liegen.\n",
    "\n",
    "Was passiert, wenn wir keine \"Burn-in\" Schritte machen und `sweep_steps=1` setzen?"
   ]
  },
  {
   "cell_type": "code",
   "execution_count": null,
   "id": "chubby-clinton",
   "metadata": {},
   "outputs": [],
   "source": [
    "configs = mcmc(L, T, 20000, 1, 0)\n",
    "\n",
    "E = eval(energy, configs)\n",
    "\n",
    "plot(E)\n",
    "xlabel!(L\"Metropolis-Schritt $n$\")\n",
    "ylabel!(L\"Energie $E(\\vec s_n)$\")"
   ]
  },
  {
   "cell_type": "markdown",
   "id": "duplicate-shanghai",
   "metadata": {},
   "source": [
    "Die Energien am Anfang der Simulation haben nichts mit dem späteren Gleichgewichtswert zu tun. Wir sollten daher genügend \"Burn-in\" Schritte machen."
   ]
  },
  {
   "cell_type": "code",
   "execution_count": null,
   "id": "massive-found",
   "metadata": {},
   "outputs": [],
   "source": [
    "configs = mcmc(L, T, 20000, 1, 5000)\n",
    "\n",
    "E = eval(energy, configs)\n",
    "\n",
    "plot(E)\n",
    "xlabel!(L\"Metropolis-Schritt $n$\")\n",
    "ylabel!(L\"Energie $E(\\vec s_n)$\")"
   ]
  },
  {
   "cell_type": "markdown",
   "id": "pretty-couple",
   "metadata": {},
   "source": [
    "## Autokorrelation / Autokorrelationszeit\n",
    "\n",
    "Im Bild oben ist zu sehen, dass aufeinanderfolgende Konfigurationen sich ähnlicher sind als Korrelationen mit größerem \"zeitlichen\" Abstand. Diese Eigenschaft wird mit der Autokorrelationsfunktion quantifiziert:\n",
    "\n",
    "$$\n",
    "C_X(t)=\\big\\langle(X_n-\\langle X\\rangle)(X_{n+t}-\\langle X\\rangle)\\big\\rangle=\\langle X_nX_{n+t}\\rangle-\\langle X\\rangle^2\n",
    "$$\n",
    "\n",
    "Hier bezeichnet $\\langle\\cdot\\rangle$ den Mittelwert über unsere Datenreihe."
   ]
  },
  {
   "cell_type": "code",
   "execution_count": null,
   "id": "positive-zimbabwe",
   "metadata": {},
   "outputs": [],
   "source": [
    "function autocorrelation(X, tmax)\n",
    "    C = zeros(tmax+1)\n",
    "    Xmean = mean(X)\n",
    "    Xnrm = X .- Xmean\n",
    "    \n",
    "    for t in 0:tmax\n",
    "        C[t+1] = mean(Xnrm[1:end-t] .* Xnrm[1+t:end])\n",
    "    end\n",
    "    \n",
    "    return C\n",
    "end"
   ]
  },
  {
   "cell_type": "code",
   "execution_count": null,
   "id": "isolated-dietary",
   "metadata": {},
   "outputs": [],
   "source": [
    "plot(autocorrelation(E, 500))\n",
    "xlabel!(L\"Abstand $t$\")\n",
    "ylabel!(L\"Autokorrelation $C_E(t)$\")"
   ]
  },
  {
   "cell_type": "code",
   "execution_count": null,
   "id": "great-egyptian",
   "metadata": {},
   "outputs": [],
   "source": [
    "configs = mcmc(L, T, 1000, 5000, 5000)\n",
    "\n",
    "E = eval(energy, configs)\n",
    "\n",
    "plot(E)\n",
    "xlabel!(L\"Metropolis-Schritt $n$\")\n",
    "ylabel!(L\"Energie $E(\\vec s_n)$\")"
   ]
  },
  {
   "cell_type": "code",
   "execution_count": null,
   "id": "great-scene",
   "metadata": {},
   "outputs": [],
   "source": [
    "plot(autocorrelation(E, 500))\n",
    "xlabel!(L\"Abstand $t$\")\n",
    "ylabel!(L\"Autokorrelation $C_E(t)$\")"
   ]
  },
  {
   "cell_type": "markdown",
   "id": "tough-tracy",
   "metadata": {},
   "source": [
    "### Warum ist Autokorrelation ein Problem?\n",
    "\n",
    "Wenn wir mit korrelierten Konfigurationen arbeiten, schätzen wir leicht die Qualität der Ergebnisse falsch ein!\n",
    "\n",
    "Der Standardfehler eines Mittelwerts wird angegeben als die Standardabweichung geteilt durch die Wurzel aus der Zahl der Verwendeten Konfigurationen:\n",
    "\n",
    "$$\n",
    "\\Delta_X=\\frac{\\sigma_X}{\\sqrt{N_{MC}}}\n",
    "$$\n",
    "\n",
    "Testen wir die Fehlerangaben mit verschiedenen Werten für `sweep_steps`:"
   ]
  },
  {
   "cell_type": "code",
   "execution_count": null,
   "id": "equivalent-picture",
   "metadata": {},
   "outputs": [],
   "source": [
    "num_samples=1000\n",
    "correlated_configs = mcmc(20, 1.75, num_samples, 1, 5000)\n",
    "correlated_E = mean(eval(energy, correlated_configs))\n",
    "correlated_E_err = std(eval(energy, correlated_configs))/sqrt(num_samples)\n",
    "\n",
    "good_configs = mcmc(20, 1.75, num_samples, 10000, 5000)\n",
    "good_E = mean(eval(energy, good_configs))\n",
    "good_E_err = std(eval(energy, good_configs))/sqrt(num_samples)\n",
    "\n",
    "println(\"Korrelierte Energie: $correlated_E +/- $correlated_E_err\")\n",
    "println(\"Gute Energie: $good_E +/- $good_E_err\")"
   ]
  },
  {
   "cell_type": "markdown",
   "id": "ordinary-richardson",
   "metadata": {},
   "source": [
    "Sind diese Fehlerbalken angemessen?"
   ]
  },
  {
   "cell_type": "code",
   "execution_count": null,
   "id": "congressional-anthropology",
   "metadata": {},
   "outputs": [],
   "source": [
    "corr=[]\n",
    "corr_err=[]\n",
    "good=[]\n",
    "good_err=[]\n",
    "\n",
    "for n = 1:10\n",
    "    correlated_configs = mcmc(20, 1.75, num_samples, 1, 5000)\n",
    "    correlated_E = mean(eval(energy, correlated_configs))\n",
    "    correlated_E_err = std(eval(energy, correlated_configs))/sqrt(num_samples)\n",
    "\n",
    "    good_configs = mcmc(20, 1.75, num_samples, 10000, 5000)\n",
    "    good_E = mean(eval(energy, good_configs))\n",
    "    good_E_err = std(eval(energy, good_configs))/sqrt(num_samples)\n",
    "    \n",
    "    push!(corr, correlated_E)\n",
    "    push!(corr_err, correlated_E_err)\n",
    "    push!(good, good_E)\n",
    "    push!(good_err, good_E_err)\n",
    "end"
   ]
  },
  {
   "cell_type": "code",
   "execution_count": null,
   "id": "square-question",
   "metadata": {
    "scrolled": false
   },
   "outputs": [],
   "source": [
    "plot(collect(1:10), corr, yerr=corr_err, label=\"korreliert\")\n",
    "plot!(collect(1:10), good, yerr=good_err, label=\"unkorreliert\")\n",
    "xlabel!(\"Realisierung\")\n",
    "ylabel!(L\"Mittelwert $\\langle E\\rangle_T$\")"
   ]
  },
  {
   "cell_type": "markdown",
   "id": "satisfied-citation",
   "metadata": {},
   "source": [
    "Wenn mit MCMC erzeugte Konfigurationen **nicht unkorreliert** sind, muss man von einer **effektiv reduzierten Zahl an Konfigurationen** ausgehen:\n",
    "\n",
    "$$\n",
    "\\tilde N_{MC}=\\frac{N_{MC}}{\\tau_C}\n",
    "$$\n",
    "\n",
    "wobei $\\tau_C$ die **Autokorrelationszeit** ist, die angibt wie viele aufeinanderfolgende Konfigurationen signifikant korreliert sind."
   ]
  },
  {
   "cell_type": "markdown",
   "id": "medieval-bradley",
   "metadata": {},
   "source": [
    "## Was passiert im Potts-Modell bei $T\\approx1.5$?"
   ]
  },
  {
   "cell_type": "code",
   "execution_count": null,
   "id": "generous-nursery",
   "metadata": {},
   "outputs": [],
   "source": [
    "using Printf\n",
    "\n",
    "L=100\n",
    "\n",
    "config = random_config(L)\n",
    "\n",
    "T0=2.5\n",
    "Ts = range(T0,0.5,step=-0.05)\n",
    "\n",
    "for n in 1:10\n",
    "    sweep!(config, T0, L^2)\n",
    "end\n",
    "config0 = copy(config)\n",
    "\n",
    "# pygui(true)\n",
    "# axis(\"off\")\n",
    "anim = @animate for T in Ts\n",
    "    for n in 1:20\n",
    "        sweep!(config, T, L^2)\n",
    "    end\n",
    "    \n",
    "    heatmap(config, border=:none, legend=:none, aspect_ratio=:equal, title=@sprintf(\"T = %.2f\", T))\n",
    "#     title(@sprintf(\"T = %.2f\", T))\n",
    "#     show()\n",
    "#     sleep(0.1)\n",
    "end\n",
    "# pygui(false);\n",
    "\n",
    "gif(anim, \"potts_cooling.gif\", fps = 5)"
   ]
  },
  {
   "cell_type": "code",
   "execution_count": null,
   "id": "reduced-browse",
   "metadata": {},
   "outputs": [],
   "source": [
    "\n",
    "p1 = heatmap(config0, border=:none, legend=:none, aspect_ratio=:equal, title=\"T=2.5\")\n",
    "p2 = heatmap(config, border=:none, legend=:none, aspect_ratio=:equal, title=\"T=0.5\")\n",
    "plot(p1,p2, size=(600,300))"
   ]
  }
 ],
 "metadata": {
  "kernelspec": {
   "display_name": "Julia 1.7.1",
   "language": "julia",
   "name": "julia-1.7"
  },
  "language_info": {
   "file_extension": ".jl",
   "mimetype": "application/julia",
   "name": "julia",
   "version": "1.7.1"
  }
 },
 "nbformat": 4,
 "nbformat_minor": 5
}
