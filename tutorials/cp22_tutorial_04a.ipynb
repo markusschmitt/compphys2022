{
 "cells": [
  {
   "cell_type": "markdown",
   "id": "informed-nepal",
   "metadata": {},
   "source": [
    "# Computerphysik Programmiertutorial 4a\n",
    "Prof. Dr. Matteo Rizzi und Dr. Markus Schmitt - Institut für Theoretische Physik, Universität zu Köln\n",
    "&nbsp;\n",
    "\n",
    "**Github**: [https://github.com/markusschmitt/compphys2022](https://github.com/markusschmitt/compphys2022)\n",
    "\n",
    "**Inhalt dieses Notebooks**: Rechnen auf dem Rechner: Maschinengenauigkeit, Vergleichen von Fließkommazahlen"
   ]
  },
  {
   "cell_type": "markdown",
   "id": "virgin-coordinate",
   "metadata": {},
   "source": [
    "## Rechnen auf dem Rechner: Maschinengenauigkeit\n",
    "\n",
    "Zahlen werden im Computer in einem Binärcode dargestellt und für jede Zahl steht nur eine begrenzte Anzahl von Bits zur Verfügung. Es können daher weder alle ganzen Zahlen $\\mathbb Z$ noch alle reellen Zahlen $\\mathbb R$ dargestellt werden.\n",
    "\n",
    "### Ganze Zahlen - `Int`\n",
    "\n",
    "Wir haben schon in einem früheren Tutorial gesehen, dass Ganzzahlen in 64 bits als Binärzahlen dargestellt werden. Das ergibt automatisch eine Grenze für die größte darstellbare Zahl. Schauen wir uns diese Grenze an:"
   ]
  },
  {
   "cell_type": "code",
   "execution_count": null,
   "id": "structural-strap",
   "metadata": {},
   "outputs": [],
   "source": []
  },
  {
   "cell_type": "code",
   "execution_count": null,
   "id": "abandoned-destiny",
   "metadata": {},
   "outputs": [],
   "source": []
  },
  {
   "cell_type": "code",
   "execution_count": null,
   "id": "julian-forward",
   "metadata": {},
   "outputs": [],
   "source": []
  },
  {
   "cell_type": "code",
   "execution_count": null,
   "id": "impossible-portugal",
   "metadata": {},
   "outputs": [],
   "source": []
  },
  {
   "cell_type": "markdown",
   "id": "active-antique",
   "metadata": {},
   "source": [
    "Die ganzen Zahlen auf dem Computer sind ein \"Kreis\":"
   ]
  },
  {
   "cell_type": "code",
   "execution_count": null,
   "id": "hispanic-people",
   "metadata": {},
   "outputs": [],
   "source": [
    "start=2^63-4\n",
    "for i in 1:6\n",
    "    println(\"$start + $i = $(start+i)\")\n",
    "end"
   ]
  },
  {
   "cell_type": "markdown",
   "id": "beneficial-median",
   "metadata": {},
   "source": [
    "### Fließkommazahlen - `Float`\n",
    "\n",
    "Auf dem Computer können wir sehr leicht große Summen ausrechnen. Ein Beispiel ist die **Harmonische Reihe**\n",
    "\n",
    "$$H_n=\\sum_{k=1}^n\\frac{1}{k}$$\n",
    "\n",
    "Schreiben wir eine Funktion, die die $n$-te Harmonische Zahl $H_n$ berechnet:"
   ]
  },
  {
   "cell_type": "code",
   "execution_count": null,
   "id": "suspended-greenhouse",
   "metadata": {},
   "outputs": [],
   "source": [
    "function H_forward(n, mytype=Float32)\n",
    "    S = mytype(0.0)\n",
    "    for k in 1:n\n",
    "        S += mytype(1.0)/k\n",
    "    end\n",
    "\n",
    "    return S\n",
    "end\n",
    "    \n",
    "println(H_forward(1000))"
   ]
  },
  {
   "cell_type": "markdown",
   "id": "nasty-begin",
   "metadata": {},
   "source": [
    "Da Addition kommutativ ist, können wir die Summe in beliebiger Reihenfolge ausrechnen, z.B. auch in umgekehrter Reihenfolge:"
   ]
  },
  {
   "cell_type": "code",
   "execution_count": null,
   "id": "billion-typing",
   "metadata": {},
   "outputs": [],
   "source": [
    "function H_backward(n, mytype=Float32)\n",
    "    S = mytype(0.0)\n",
    "    for k in n:-1:1\n",
    "        S += mytype(1.0)/k\n",
    "    end\n",
    "\n",
    "    return S\n",
    "end\n",
    "    \n",
    "println(H_backward(1000))"
   ]
  },
  {
   "cell_type": "markdown",
   "id": "beneficial-reverse",
   "metadata": {},
   "source": [
    "Mit unterschiedlicher Reihenfolge der Summation erhalten wir unterschiedliche Ergebnisse!"
   ]
  },
  {
   "cell_type": "code",
   "execution_count": null,
   "id": "advised-chosen",
   "metadata": {
    "scrolled": true
   },
   "outputs": [],
   "source": []
  },
  {
   "cell_type": "markdown",
   "id": "incoming-homeless",
   "metadata": {},
   "source": [
    "Reelle Zahlen werden im Computer als **Fließkommazahlen** behandelt. Das bedeutet, dass sie bezüglich einer festen **Basis** $b$ in **Vorzeichen** $\\pm$, **Mantisse** $m$ und **Exponent** $e$ zerlegt werden. Eine reelle Zahl $r\\in\\mathbb R$ wird also geschrieben als\n",
    "\n",
    "$$r = \\pm m\\times b^e$$\n",
    "\n",
    "Das Vorzeichen wird in einem Bit kodiert, für Mantisse und Exponent steht jeweils eine feste Zahl weiterer Bits zur Verfügung. Das Kodieren der Mantisse in einer begrenzten Anzahl von Bits bedeutet, dass wir bei jeder Zahl nur eine feste Anzahl von **signifikanten Ziffern** kennen. Die begrenzte Anzahl von Bits für den Exponenten bedeutet, dass es wie bei Ganzzahlen auch eine größte und kleinste darstellbare Fließkommazahl gibt.\n",
    "\n",
    "Da der Computer nur mit einer bestimmten Zahl von signifikanten Ziffern rechnet, ist der Unterschied zwischen Zahlen nur begrenzt auflösbar. Diese \"Auflösung\" können wir experimentell bestimmen, indem wir fragen was die kleinste Zahl $\\epsilon$ ist, so dass auf dem Computer $1.0+\\epsilon>1.0$:"
   ]
  },
  {
   "cell_type": "code",
   "execution_count": null,
   "id": "detailed-stanford",
   "metadata": {},
   "outputs": [],
   "source": [
    "eps = 1.0\n",
    "n=0\n",
    "\n",
    "while 1.0+eps > 1.0\n",
    "    eps /= 2.0\n",
    "    n += 1\n",
    "end\n",
    "\n",
    "println(\"n = $n\")\n",
    "println(\"eps = 1/2^$n = $eps\")\n",
    "println(\"1 + eps = $(1+eps)\")\n",
    "println(\"1 + 2eps = $(1+2eps)\")"
   ]
  },
  {
   "cell_type": "markdown",
   "id": "brown-lyric",
   "metadata": {},
   "source": [
    "Die 64 bits des Datentyps `Float64` sind wie folgt aufgeteilt (Bild gestohlen von [benjaminjurke.com](https://benjaminjurke.com/content/articles/2015/loss-of-significance-in-floating-point-computations/)):\n",
    "\n",
    "<img src=\"https://benjaminjurke.com/assets/images/articles/double64_bit_sequence.png\">\n",
    "\n",
    "Wir haben also 1 Bit für das Vorzeichen, 11 Bits kodieren den Exponenten als ganze Zahl zwischen $-1022$ und $1023$. Als Basis wird $b=2$ verwendet. Die darstellbaren Zahlen bewegen sich also (in etwa) zwischen $2^{-1022}\\approx10^{-308}$ und $2^{1023}\\approx10^{308}$. Die übrigen 52 Bits werden verwendet um die Mantisse als \n",
    "\n",
    "$$m=1+\\sum_{n=1}^{52}\\text{bit}_n\\frac{1}{2^n}$$\n",
    "\n",
    "zu kodieren.\n",
    "\n",
    "Die folgende Funktion stellt eine gegebnene Fließkommazahl entsprechend dar."
   ]
  },
  {
   "cell_type": "code",
   "execution_count": null,
   "id": "piano-sport",
   "metadata": {},
   "outputs": [],
   "source": [
    "using Printf\n",
    "\n",
    "function maschinendarstellung(x::Float64)\n",
    "    \n",
    "    bits = bitstring(x)\n",
    "    sgn = bits[1]\n",
    "    exponent = bits[2:12]\n",
    "    mantissa = bits[13:64]\n",
    "    \n",
    "    println(\"Dezimal               | Vorz.  Exponent     Mantisse\")\n",
    "    println(@sprintf(\"%.15e |   %s    %s  %s\", x, sgn, exponent, mantissa))\n",
    "    return nothing\n",
    "end"
   ]
  },
  {
   "cell_type": "markdown",
   "id": "desirable-istanbul",
   "metadata": {},
   "source": [
    "Schauen wir uns also an wie $1+\\epsilon=1$ zustande kommt:"
   ]
  },
  {
   "cell_type": "code",
   "execution_count": null,
   "id": "emotional-trash",
   "metadata": {},
   "outputs": [],
   "source": []
  },
  {
   "cell_type": "code",
   "execution_count": null,
   "id": "subtle-reproduction",
   "metadata": {
    "scrolled": true
   },
   "outputs": [],
   "source": []
  },
  {
   "cell_type": "code",
   "execution_count": null,
   "id": "informed-ideal",
   "metadata": {},
   "outputs": [],
   "source": []
  },
  {
   "cell_type": "markdown",
   "id": "respective-hamilton",
   "metadata": {},
   "source": [
    "**Beim Addieren zweier Zahlen unterschiedlicher Größenordnung geht Information über die kleinere Zahl verloren.** Summationen sollten also immer so durchgeführt werden, dass nur ähnlich große Zahlen miteinander addiert werden.\n",
    "\n",
    "Zurück zur Harmonischen Reihe. Welcher Summationsreihenfolge können wir also trauen? Für großes $n$ gilt\n",
    "\n",
    "$$H_n\\approx\\log(n)+\\gamma+\\frac{1}{2n}-\\frac{1}{12n^2}+\\frac{1}{120n^4}$$\n",
    "\n",
    "mit der Euler-Gamma Konstante $\\gamma$. Wir können also unsere beiden Ergebnisse damit vergleichen:"
   ]
  },
  {
   "cell_type": "code",
   "execution_count": null,
   "id": "elegant-blade",
   "metadata": {
    "scrolled": false
   },
   "outputs": [],
   "source": [
    "using Plots\n",
    "\n",
    "function H_approx(n)\n",
    "    n = Float64(n)\n",
    "    return log(n)+Base.MathConstants.eulergamma+1.0/(2n)-1.0/(12n^2)+1.0/(120n^4)\n",
    "end\n",
    "\n",
    "n_werte = [2^n for n in 1:20]\n",
    "\n",
    "Hn_fwd = [H_forward(2^n) for n in 1:20]\n",
    "Hn_bwd = [H_backward(2^n) for n in 1:20]\n",
    "Hn_approx = [H_approx(2^n) for n in 1:20]\n",
    "\n",
    "plot(n_werte, abs.(Hn_fwd.-Hn_approx), label=\"forward\", xaxis=:log)\n",
    "plot!(n_werte, abs.(Hn_bwd.-Hn_approx), label=\"backward\", xaxis=:log)\n",
    "xlabel!(\"n\")\n",
    "ylabel!(\"Differenz\")"
   ]
  },
  {
   "cell_type": "markdown",
   "id": "express-future",
   "metadata": {},
   "source": [
    "## Vergleichen von Fließkommazahlen\n",
    "\n",
    "Wegen der endlichen Maschinenpräzision müssen wir beim Vergleichen von Fließkommazahlen etwas vorsichtig sein. Dabei ergibt nämlich üblicherweise nur der *Vergleich innerhalb der numerischen Genauigkeit* Sinn.\n",
    "\n",
    "Prüfen wir zum Beispiel naiv, ob $1.32$ gleich $1.2+0.12$ ist:"
   ]
  },
  {
   "cell_type": "code",
   "execution_count": null,
   "id": "dynamic-biotechnology",
   "metadata": {},
   "outputs": [],
   "source": []
  },
  {
   "cell_type": "code",
   "execution_count": null,
   "id": "political-electric",
   "metadata": {},
   "outputs": [],
   "source": []
  },
  {
   "cell_type": "code",
   "execution_count": null,
   "id": "valuable-graduation",
   "metadata": {},
   "outputs": [],
   "source": []
  },
  {
   "cell_type": "markdown",
   "id": "wanted-tolerance",
   "metadata": {},
   "source": [
    "Zum Verlgeich von Fließkommazahlen innerhalb der numerischen Genauigkeit gibt es die `isapprox()` Funktion:"
   ]
  },
  {
   "cell_type": "code",
   "execution_count": null,
   "id": "japanese-sterling",
   "metadata": {},
   "outputs": [],
   "source": []
  }
 ],
 "metadata": {
  "kernelspec": {
   "display_name": "Julia 1.7.1",
   "language": "julia",
   "name": "julia-1.7"
  },
  "language_info": {
   "file_extension": ".jl",
   "mimetype": "application/julia",
   "name": "julia",
   "version": "1.7.1"
  }
 },
 "nbformat": 4,
 "nbformat_minor": 5
}
