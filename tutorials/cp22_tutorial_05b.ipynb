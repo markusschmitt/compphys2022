{
 "cells": [
  {
   "cell_type": "markdown",
   "id": "informed-nepal",
   "metadata": {},
   "source": [
    "# Computerphysik Programmiertutorial 5b\n",
    "Prof. Dr. Matteo Rizzi und Dr. Markus Schmitt - Institut für Theoretische Physik, Universität zu Köln\n",
    "&nbsp;\n",
    "\n",
    "**Github**: [https://github.com/markusschmitt/compphys2021](https://github.com/markusschmitt/compphys2021)\n",
    "\n",
    "**Inhalt dieses Notebooks**: Timing (`BenchmarkTools`), Komplexität\n",
    "\n",
    "\n",
    "## Timing\n",
    "\n",
    "Bei wissenschaftlichen Programmen kommt es oft auf die Effizienz an. Um die zu optimieren ist es wichtig die Resourcen bestimmen zu können, die zum Ausführen des Programms benötigt werden. Die wichtigen Resourcen sind Speicherplatz und Laufzeit. Wir werden uns hier auf Zeitmessungen beschränken."
   ]
  },
  {
   "cell_type": "code",
   "execution_count": null,
   "id": "mysterious-cross",
   "metadata": {},
   "outputs": [],
   "source": [
    "function f(x)\n",
    "    for j in eachindex(x)\n",
    "        x[j] += 3.7\n",
    "    end\n",
    "\n",
    "    return nothing\n",
    "end"
   ]
  },
  {
   "cell_type": "markdown",
   "id": "worst-district",
   "metadata": {},
   "source": [
    "Das Makro `@time` wird einem Funktionsaufruf vorangestellt um eine Ausgabe der verwendeten Resourcen zu erhalten:"
   ]
  },
  {
   "cell_type": "code",
   "execution_count": null,
   "id": "african-carroll",
   "metadata": {
    "scrolled": true
   },
   "outputs": [],
   "source": []
  },
  {
   "cell_type": "markdown",
   "id": "auburn-sociology",
   "metadata": {},
   "source": [
    "Achtung: Der erste Funktionsaufruf dauert länger, weil die Funktion dann [just-in-time-kompiliert](https://de.wikipedia.org/wiki/Just-in-time-Kompilierung) (jit-kompiliert) wird."
   ]
  },
  {
   "cell_type": "code",
   "execution_count": null,
   "id": "peripheral-activity",
   "metadata": {
    "scrolled": true
   },
   "outputs": [],
   "source": []
  },
  {
   "cell_type": "markdown",
   "id": "distinguished-detail",
   "metadata": {},
   "source": [
    "`@elapsed` gibt nur die Laufzeit (in Sekunden) zurück."
   ]
  },
  {
   "cell_type": "code",
   "execution_count": null,
   "id": "convinced-scanner",
   "metadata": {},
   "outputs": [],
   "source": []
  },
  {
   "cell_type": "markdown",
   "id": "empty-windows",
   "metadata": {},
   "source": [
    "Mit dem Paket `BenchmarkTools` können genauere Messungen vorgenommen werden"
   ]
  },
  {
   "cell_type": "code",
   "execution_count": null,
   "id": "freelance-banks",
   "metadata": {},
   "outputs": [],
   "source": []
  },
  {
   "cell_type": "code",
   "execution_count": null,
   "id": "cutting-season",
   "metadata": {},
   "outputs": [],
   "source": []
  },
  {
   "cell_type": "code",
   "execution_count": null,
   "id": "fallen-justice",
   "metadata": {},
   "outputs": [],
   "source": []
  },
  {
   "cell_type": "markdown",
   "id": "focused-coach",
   "metadata": {},
   "source": [
    "## Komplexität"
   ]
  },
  {
   "cell_type": "code",
   "execution_count": null,
   "id": "desirable-revelation",
   "metadata": {},
   "outputs": [],
   "source": [
    "using Plots\n",
    "using LinearAlgebra"
   ]
  },
  {
   "cell_type": "markdown",
   "id": "miniature-reference",
   "metadata": {},
   "source": [
    "Zur Anschauung definieren wir eine eigene Funktion für Matrixmultiplikation:"
   ]
  },
  {
   "cell_type": "code",
   "execution_count": null,
   "id": "qualified-electric",
   "metadata": {},
   "outputs": [],
   "source": [
    "function my_matmul(A,B)\n",
    "    C = Array{Float64}(undef,size(A)[1], size(B)[2])\n",
    "\n",
    "    for j in 1:size(C)[2]\n",
    "        for i in 1:size(C)[1]\n",
    "            C[i,j] = 0.0\n",
    "            for k in 1:size(A)[2]\n",
    "                C[i,j] += A[i,k] * B[k,j]\n",
    "            end\n",
    "        end\n",
    "    end\n",
    "\n",
    "    return C\n",
    "end"
   ]
  },
  {
   "cell_type": "code",
   "execution_count": null,
   "id": "spiritual-journalist",
   "metadata": {},
   "outputs": [],
   "source": []
  },
  {
   "cell_type": "markdown",
   "id": "certified-amsterdam",
   "metadata": {},
   "source": [
    "Benchmark unserer Funktion:"
   ]
  },
  {
   "cell_type": "code",
   "execution_count": null,
   "id": "typical-wholesale",
   "metadata": {},
   "outputs": [],
   "source": []
  },
  {
   "cell_type": "markdown",
   "id": "consistent-viewer",
   "metadata": {},
   "source": [
    "Benchmark der vorimplementierten Matrixmultiplikation:"
   ]
  },
  {
   "cell_type": "code",
   "execution_count": null,
   "id": "painted-province",
   "metadata": {},
   "outputs": [],
   "source": []
  },
  {
   "cell_type": "markdown",
   "id": "aggressive-latvia",
   "metadata": {},
   "source": [
    "Schauen wir uns das etwas systematischer für verschiedene Matrixgrößen an:"
   ]
  },
  {
   "cell_type": "code",
   "execution_count": null,
   "id": "consecutive-network",
   "metadata": {},
   "outputs": [],
   "source": [
    "BLAS.set_num_threads(1);\n",
    "\n",
    "ns=2 .^ (collect(5:10))\n",
    "\n",
    "times1=Float64[]\n",
    "times2=Float64[]\n",
    "\n",
    "for n in ns\n",
    "    # zwei Matrizen erstellen\n",
    "    A=rand(n,n)\n",
    "    B=rand(n,n)\n",
    "    \n",
    "    # Zeit für Multiplikation messen\n",
    "    t1 = @elapsed A*B\n",
    "    t2 = @elapsed my_matmul(A,B)\n",
    "    \n",
    "    # Ausgabe\n",
    "    println(\"n=$n:\")\n",
    "    println(\"  Zeit für A*B: $(t1)s\")\n",
    "    println(\"  Zeit für my_matmul(A,B): $(t2)s\")\n",
    "    \n",
    "    # Messergebnis an Arrays anhängen\n",
    "    push!(times1, t1)\n",
    "    push!(times2, t2)\n",
    "end"
   ]
  },
  {
   "cell_type": "code",
   "execution_count": null,
   "id": "organizational-transcription",
   "metadata": {},
   "outputs": [],
   "source": [
    "plot(ns,times1, marker=:o, label=\"*\")\n",
    "plot!(ns,times2, marker=:o, label=\"my_matmul\")\n",
    "xlabel!(\"Matrizengröße n\")\n",
    "ylabel!(\"Rechenzeit [s]\")"
   ]
  },
  {
   "cell_type": "markdown",
   "id": "beginning-cabin",
   "metadata": {},
   "source": [
    "Die **Komplexität** eines Algorithmus gibt an wie die benötigten *Rechenresourcen* (Rechenzeit oder Speicherplatz) wachsen, wenn man das zu lösende Problem vergrößert. In unserem Beispiel ist die entspricht die Größe des Problems der Größe unserer $n\\times n$-Matrizen.\n",
    "\n",
    "Um eine Gesetzmäßigkeit zu finden, schauen wir noch einmal genauer hin, indem wir doppelt-logarithmisch plotten:"
   ]
  },
  {
   "cell_type": "code",
   "execution_count": null,
   "id": "activated-hollywood",
   "metadata": {},
   "outputs": [],
   "source": [
    "plot(ns,times1, marker=:o, xaxis=:log, yaxis=:log, label=\"*\")\n",
    "plot!(ns,times2, marker=:o, xaxis=:log, yaxis=:log, label=\"my_matmul\")\n",
    "xlabel!(\"Matrizengröße n\")\n",
    "ylabel!(\"Rechenzeit [s]\")"
   ]
  },
  {
   "cell_type": "markdown",
   "id": "commercial-nursing",
   "metadata": {},
   "source": [
    "Die Komplexität von Algorithmen wird in $O$-Notation angegeben. Die Multiplikation von zwei $n\\times n$ Matrizen wie wir sie hier implementiert haben ist z.B. $O(n^3)$. Das bedeutet, dass die Rechenzeit bei großen Matrizen kubisch wächst. Der Vorfaktor dieses Wachstumsgesetzes kann jedoch von den Details der Implementierung abhängen.\n",
    "\n",
    "Eine Zusammenfassung der Komplexität bekannter Algorithmen steht auf [Wikipedia](https://en.wikipedia.org/wiki/Computational_complexity_of_mathematical_operations#Matrix_algebra)."
   ]
  },
  {
   "cell_type": "code",
   "execution_count": null,
   "id": "flush-strip",
   "metadata": {},
   "outputs": [],
   "source": [
    "ns=2 .^ (collect(5:10))\n",
    "times1=Float64[]\n",
    "times2=Float64[]\n",
    "\n",
    "for n in ns\n",
    "    # Matrix und Vektor erstellen\n",
    "    A=rand(n,n)\n",
    "    B=rand(n,1) # Diesmal Matrix-Vektor Produkt\n",
    "    \n",
    "    # Zeit für Multiplikation messen\n",
    "    t1 = @elapsed A*B\n",
    "    t2 = @elapsed my_matmul(A,B)\n",
    "    \n",
    "    # Ausgabe\n",
    "    println(\"n=$n:\")\n",
    "    println(\"  Zeit für A*B: $t1\")\n",
    "    println(\"  Zeit für my_matmul(A,B): $t2\")\n",
    "    \n",
    "    # Messergebnis an Arrays anhängen\n",
    "    push!(times1, t1)\n",
    "    push!(times2, t2)\n",
    "end"
   ]
  },
  {
   "cell_type": "code",
   "execution_count": null,
   "id": "dependent-salvation",
   "metadata": {},
   "outputs": [],
   "source": [
    "using LaTeXStrings\n",
    "\n",
    "plot(ns,times1, marker=:o, xaxis=:log, yaxis=:log, label=\"*\")\n",
    "plot!(ns,times2, marker=:o, xaxis=:log, yaxis=:log, label=\"my_matmul\")\n",
    "plot!(ns, 5e-10*ns.^2, linestyle=:dash, xaxis=:log, yaxis=:log, label=L\"n^2\")\n",
    "xlabel!(\"Matrizengröße n\")\n",
    "ylabel!(\"Rechenzeit\")"
   ]
  }
 ],
 "metadata": {
  "kernelspec": {
   "display_name": "Julia 1.7.1",
   "language": "julia",
   "name": "julia-1.7"
  },
  "language_info": {
   "file_extension": ".jl",
   "mimetype": "application/julia",
   "name": "julia",
   "version": "1.7.1"
  }
 },
 "nbformat": 4,
 "nbformat_minor": 5
}
