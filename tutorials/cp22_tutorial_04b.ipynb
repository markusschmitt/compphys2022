{
 "cells": [
  {
   "cell_type": "markdown",
   "id": "informed-nepal",
   "metadata": {},
   "source": [
    "# Computerphysik Programmiertutorial 4b\n",
    "Prof. Dr. Matteo Rizzi und Dr. Markus Schmitt - Institut für Theoretische Physik, Universität zu Köln\n",
    "&nbsp;\n",
    "\n",
    "**Github**: [https://github.com/markusschmitt/compphys2022](https://github.com/markusschmitt/compphys2022)\n",
    "\n",
    "**Inhalt dieses Notebooks**: Array-Abstraktionen, LinearAlgebra: Matrix/Vektor-Produkte, spezielle Matrizen, Matrixinversion, besondere Funktionen von Matrizen und Vektoren, Eigenwertprobleme, Singulärwertzerlegung, QR-Zerlegung"
   ]
  },
  {
   "cell_type": "markdown",
   "id": "adequate-prototype",
   "metadata": {},
   "source": [
    "## Array-Abstraktionen (Array Comprehension)\n",
    "\n",
    "Mit Array-Abstraktionen können Arrays oder andere iterierbare Datenstrukturen einfach \"weiterverarbeitet\" werden um daraus neue Arrays zu erzeugen.\n",
    "\n",
    "Syntax:\n",
    "```julia\n",
    "neues_array = [<Anweisung> for <Variable> in <iterierbare Datenstruktur> if <Bedingung>]\n",
    "```\n",
    "\n",
    "Beispiel:"
   ]
  },
  {
   "cell_type": "code",
   "execution_count": null,
   "id": "fatal-crown",
   "metadata": {},
   "outputs": [],
   "source": []
  },
  {
   "cell_type": "code",
   "execution_count": null,
   "id": "direct-sound",
   "metadata": {},
   "outputs": [],
   "source": []
  },
  {
   "cell_type": "markdown",
   "id": "affiliated-jungle",
   "metadata": {},
   "source": [
    "## Lineare Algebra\n",
    "\n",
    "Hier führen wir einen Teil der Funktionen des `LinearAlgebra` Pakets ein. Für einen vollständigen Überblick, siehe [Dokumentation](https://docs.julialang.org/en/v1/stdlib/LinearAlgebra/)."
   ]
  },
  {
   "cell_type": "code",
   "execution_count": null,
   "id": "dependent-documentary",
   "metadata": {},
   "outputs": [],
   "source": [
    "using LinearAlgebra"
   ]
  },
  {
   "cell_type": "markdown",
   "id": "extraordinary-insider",
   "metadata": {},
   "source": [
    "### Matrixprodukte und -transformationen\n",
    "\n",
    "Wir beschaffen uns zunächst zwei $3\\times3$ Matrizen"
   ]
  },
  {
   "cell_type": "code",
   "execution_count": null,
   "id": "contemporary-guest",
   "metadata": {
    "scrolled": true
   },
   "outputs": [],
   "source": [
    "A = reshape([1.0*n for n in 1:9], 3,3)"
   ]
  },
  {
   "cell_type": "code",
   "execution_count": null,
   "id": "rolled-stability",
   "metadata": {},
   "outputs": [],
   "source": [
    "B=rand(3,3)"
   ]
  },
  {
   "cell_type": "markdown",
   "id": "handed-insulation",
   "metadata": {},
   "source": [
    "Das übliche Matrixprodukt wird durch den `*` Operator berechnet:"
   ]
  },
  {
   "cell_type": "code",
   "execution_count": null,
   "id": "threatened-enemy",
   "metadata": {},
   "outputs": [],
   "source": []
  },
  {
   "cell_type": "markdown",
   "id": "overhead-hanging",
   "metadata": {},
   "source": [
    "Elementweise Multiplikation der Einträge erfolgt durch `.*`"
   ]
  },
  {
   "cell_type": "code",
   "execution_count": null,
   "id": "alive-madison",
   "metadata": {
    "scrolled": true
   },
   "outputs": [],
   "source": []
  },
  {
   "cell_type": "markdown",
   "id": "explicit-singing",
   "metadata": {},
   "source": [
    "Eine Matrix kann durch die Funktion `transpose` transponiert werden."
   ]
  },
  {
   "cell_type": "code",
   "execution_count": null,
   "id": "smart-intensity",
   "metadata": {},
   "outputs": [],
   "source": []
  },
  {
   "cell_type": "markdown",
   "id": "threatened-practitioner",
   "metadata": {},
   "source": [
    "Durch Nachstellen von `'` wird die Matrix transponiert und komplex konjugiert:"
   ]
  },
  {
   "cell_type": "code",
   "execution_count": null,
   "id": "mathematical-clone",
   "metadata": {},
   "outputs": [],
   "source": []
  },
  {
   "cell_type": "markdown",
   "id": "emotional-librarian",
   "metadata": {},
   "source": [
    "### Vektorprodukte\n",
    "\n",
    "Es gibt verschiedene Optionen das Skalarprodukt zweier Vektoren zu berechnen:"
   ]
  },
  {
   "cell_type": "code",
   "execution_count": null,
   "id": "legislative-remedy",
   "metadata": {},
   "outputs": [],
   "source": [
    "v1=[1.0im,2.0,3.0]\n",
    "v2=[3.0,6.0,9.0]"
   ]
  },
  {
   "cell_type": "code",
   "execution_count": null,
   "id": "identical-recovery",
   "metadata": {},
   "outputs": [],
   "source": []
  },
  {
   "cell_type": "code",
   "execution_count": null,
   "id": "quantitative-niger",
   "metadata": {},
   "outputs": [],
   "source": []
  },
  {
   "cell_type": "markdown",
   "id": "friendly-camping",
   "metadata": {},
   "source": [
    "Transponieren des ersten Vektors funktioniert ebenfalls bei reellen Zahlen, aber liefert bei komplexen Zahlen natürlich nicht das gewünschte Ergebnis:"
   ]
  },
  {
   "cell_type": "code",
   "execution_count": null,
   "id": "convenient-clothing",
   "metadata": {},
   "outputs": [],
   "source": []
  },
  {
   "cell_type": "markdown",
   "id": "described-binding",
   "metadata": {},
   "source": [
    "Außerdem ist das Kreuzprodukt in der Funktion `cross` implementiert:"
   ]
  },
  {
   "cell_type": "code",
   "execution_count": null,
   "id": "silver-medicare",
   "metadata": {},
   "outputs": [],
   "source": []
  },
  {
   "cell_type": "markdown",
   "id": "integral-memory",
   "metadata": {},
   "source": [
    "### Spezielle Matrizen\n",
    "\n",
    "Spezielle Matrizen, die weitere Struktur haben, können besonders behandelt werden, z.B. aus Effizienzgründen. Die vollständige Liste besonderer Matrixformate ist in der [Dokumentation](https://docs.julialang.org/en/v1/stdlib/LinearAlgebra/#Special-matrices) zu finden.\n",
    "\n",
    "Hier beschränken wir uns auf Diagonalmatrizen `Diagonal`:"
   ]
  },
  {
   "cell_type": "code",
   "execution_count": null,
   "id": "ranking-storage",
   "metadata": {},
   "outputs": [],
   "source": []
  },
  {
   "cell_type": "markdown",
   "id": "provincial-being",
   "metadata": {},
   "source": [
    "### Matrixinversion\n",
    "\n",
    "Das Inverse einer Matrix kann mit der Funktion `inv()` berechnet werden:"
   ]
  },
  {
   "cell_type": "code",
   "execution_count": null,
   "id": "noted-acceptance",
   "metadata": {},
   "outputs": [],
   "source": [
    "M = rand(3,3)\n",
    "M_inv = inv(M)"
   ]
  },
  {
   "cell_type": "code",
   "execution_count": null,
   "id": "abandoned-number",
   "metadata": {},
   "outputs": [],
   "source": []
  },
  {
   "cell_type": "markdown",
   "id": "editorial-importance",
   "metadata": {},
   "source": [
    "Ein typisches Problem, das durch Matrixinversion gelöst werden kann, ist das Lösen eines linearen Gleichungssystems, z.B.\n",
    "\n",
    "$$\\begin{pmatrix}1&2&3\\\\-3&2&5\\\\0&6&23\\end{pmatrix}\\begin{pmatrix}x_1\\\\x_2\\\\x_3\\end{pmatrix}=\\begin{pmatrix}42\\\\13\\\\1\\end{pmatrix}$$\n",
    "\n",
    "Wir legen also entsprechend eine Matrix und einen Vektor an:"
   ]
  },
  {
   "cell_type": "code",
   "execution_count": null,
   "id": "ceramic-choice",
   "metadata": {},
   "outputs": [],
   "source": [
    "A = [1.0 -3.0 0.0; 2.0 2.0 6.0; 3.0 5.0 23.0]\n",
    "b = [42.0, 13.0, 1.0]"
   ]
  },
  {
   "cell_type": "markdown",
   "id": "plastic-eligibility",
   "metadata": {},
   "source": [
    "Und wir erhalten die Lösung als $\\vec x=A^{-1}\\vec b$"
   ]
  },
  {
   "cell_type": "code",
   "execution_count": null,
   "id": "invisible-investigation",
   "metadata": {
    "scrolled": true
   },
   "outputs": [],
   "source": []
  },
  {
   "cell_type": "markdown",
   "id": "devoted-description",
   "metadata": {},
   "source": [
    "\"Probe Rechnen\":"
   ]
  },
  {
   "cell_type": "code",
   "execution_count": null,
   "id": "vocal-terrorist",
   "metadata": {},
   "outputs": [],
   "source": []
  },
  {
   "cell_type": "markdown",
   "id": "swiss-brooks",
   "metadata": {},
   "source": [
    "Übersichtlicheres \"Probe Rechnen\" mit `isapprox()`:"
   ]
  },
  {
   "cell_type": "code",
   "execution_count": null,
   "id": "basic-outdoors",
   "metadata": {},
   "outputs": [],
   "source": []
  },
  {
   "cell_type": "markdown",
   "id": "muslim-portsmouth",
   "metadata": {},
   "source": [
    "Alternativ kannn das Gleichungssystem durch den Linksdivisionsoperator `\\` gelöst werden. Da wir uns am Ende nur für das Produkt $A^{-1}\\vec b$ interessieren, kann es Julia in diesem Fall vermeiden, die Matrix explizit zu invertieren, und stattdessen einen effizienteren Algorithmus verwenden:"
   ]
  },
  {
   "cell_type": "code",
   "execution_count": null,
   "id": "differential-green",
   "metadata": {},
   "outputs": [],
   "source": []
  },
  {
   "cell_type": "code",
   "execution_count": null,
   "id": "canadian-integrity",
   "metadata": {},
   "outputs": [],
   "source": []
  },
  {
   "cell_type": "markdown",
   "id": "meaningful-tours",
   "metadata": {},
   "source": [
    "### Besondere Funktionen von Matrizen und Vektoren\n",
    "\n",
    "Die üblichen Funktionen, die wir auf Matrizen und Vektoren ausrechnen wollen, sind implementiert:\n",
    "\n",
    "Norm `norm()` (standardmäßig $L^2$ Norm):"
   ]
  },
  {
   "cell_type": "code",
   "execution_count": null,
   "id": "seasonal-atlas",
   "metadata": {},
   "outputs": [],
   "source": []
  },
  {
   "cell_type": "code",
   "execution_count": null,
   "id": "designing-starter",
   "metadata": {},
   "outputs": [],
   "source": []
  },
  {
   "cell_type": "markdown",
   "id": "adverse-cursor",
   "metadata": {},
   "source": [
    "$L^p$ Norm durch ein weiteres Argument:"
   ]
  },
  {
   "cell_type": "code",
   "execution_count": null,
   "id": "cloudy-anatomy",
   "metadata": {},
   "outputs": [],
   "source": []
  },
  {
   "cell_type": "markdown",
   "id": "applicable-cardiff",
   "metadata": {},
   "source": [
    "Determinante `det()`:"
   ]
  },
  {
   "cell_type": "code",
   "execution_count": null,
   "id": "elegant-stick",
   "metadata": {},
   "outputs": [],
   "source": []
  },
  {
   "cell_type": "markdown",
   "id": "conscious-display",
   "metadata": {},
   "source": [
    "Spur `tr()`:"
   ]
  },
  {
   "cell_type": "code",
   "execution_count": null,
   "id": "meaningful-alabama",
   "metadata": {},
   "outputs": [],
   "source": []
  },
  {
   "cell_type": "markdown",
   "id": "constant-syracuse",
   "metadata": {},
   "source": [
    "Rang `rank()`:"
   ]
  },
  {
   "cell_type": "code",
   "execution_count": null,
   "id": "stuffed-heritage",
   "metadata": {},
   "outputs": [],
   "source": []
  },
  {
   "cell_type": "markdown",
   "id": "genetic-denver",
   "metadata": {},
   "source": [
    "### Eigenwertprobleme\n",
    "\n",
    "Durch Eigenzerlegung einer Matrix $M$ finden wir Eigenwerte $\\vec\\lambda$ und eine Matrix $V$, deren Spalten den Eigenvektoren entsprechen, so dass\n",
    "\n",
    "$$M = V \\cdot \\text{diag}\\big(\\vec\\lambda\\big) \\cdot V^{-1}$$\n",
    "\n",
    "Auch das ist in Julia ein Einzeiler:"
   ]
  },
  {
   "cell_type": "code",
   "execution_count": null,
   "id": "incoming-auckland",
   "metadata": {},
   "outputs": [],
   "source": []
  },
  {
   "cell_type": "code",
   "execution_count": null,
   "id": "common-undergraduate",
   "metadata": {
    "scrolled": true
   },
   "outputs": [],
   "source": []
  },
  {
   "cell_type": "markdown",
   "id": "loose-vietnamese",
   "metadata": {},
   "source": [
    "Es können auch jeweils nur Eigenwerte oder nur Eigenvektoren berechnet werden:"
   ]
  },
  {
   "cell_type": "code",
   "execution_count": null,
   "id": "innocent-turner",
   "metadata": {},
   "outputs": [],
   "source": []
  },
  {
   "cell_type": "code",
   "execution_count": null,
   "id": "elder-universal",
   "metadata": {
    "scrolled": true
   },
   "outputs": [],
   "source": []
  },
  {
   "cell_type": "markdown",
   "id": "entire-record",
   "metadata": {},
   "source": [
    "### Singulärwertzerlegung\n",
    "\n",
    "Durch Eigenzerlegung einer Matrix $M$ finden wir Singulärwerte $\\vec\\sigma$ und zwei unitäre Matrizen $U$ und $V$, so dass\n",
    "\n",
    "$$M = U \\cdot \\text{diag}\\big(\\vec\\sigma\\big) \\cdot V^{\\dagger}$$\n",
    "\n",
    "Auch das ist in Julia ein Einzeiler:"
   ]
  },
  {
   "cell_type": "code",
   "execution_count": null,
   "id": "dangerous-preference",
   "metadata": {},
   "outputs": [],
   "source": []
  },
  {
   "cell_type": "code",
   "execution_count": null,
   "id": "introductory-champion",
   "metadata": {},
   "outputs": [],
   "source": []
  },
  {
   "cell_type": "code",
   "execution_count": null,
   "id": "assisted-parcel",
   "metadata": {},
   "outputs": [],
   "source": []
  },
  {
   "cell_type": "markdown",
   "id": "turkish-yukon",
   "metadata": {},
   "source": [
    "### QR-Zerlegung\n",
    "\n",
    "Durch Eigenzerlegung einer Matrix $M$ finden wir eine unitäre Matrix $Q$ und eine obere Dreiecksmatrix $R$, so dass\n",
    "\n",
    "$$M = Q\\cdot R$$\n",
    "\n",
    "Auch das ist in Julia ein Einzeiler:"
   ]
  },
  {
   "cell_type": "code",
   "execution_count": null,
   "id": "happy-providence",
   "metadata": {},
   "outputs": [],
   "source": []
  },
  {
   "cell_type": "code",
   "execution_count": null,
   "id": "eight-rebound",
   "metadata": {},
   "outputs": [],
   "source": []
  },
  {
   "cell_type": "code",
   "execution_count": null,
   "id": "assisted-hanging",
   "metadata": {},
   "outputs": [],
   "source": []
  },
  {
   "cell_type": "code",
   "execution_count": null,
   "id": "offshore-scientist",
   "metadata": {},
   "outputs": [],
   "source": []
  }
 ],
 "metadata": {
  "kernelspec": {
   "display_name": "Julia 1.7.1",
   "language": "julia",
   "name": "julia-1.7"
  },
  "language_info": {
   "file_extension": ".jl",
   "mimetype": "application/julia",
   "name": "julia",
   "version": "1.7.1"
  }
 },
 "nbformat": 4,
 "nbformat_minor": 5
}
