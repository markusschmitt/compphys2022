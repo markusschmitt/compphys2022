{
 "cells": [
  {
   "cell_type": "markdown",
   "id": "informed-nepal",
   "metadata": {},
   "source": [
    "# Computerphysik Programmiertutorial 11\n",
    "Prof. Dr. Matteo Rizzi und Dr. Markus Schmitt - Institut für Theoretische Physik, Universität zu Köln\n",
    "&nbsp;\n",
    "\n",
    "**Github**: [https://github.com/markusschmitt/compphys2022](https://github.com/markusschmitt/compphys2022)\n",
    "\n",
    "**Inhalt dieses Notebooks**: Dateien lesen und schreiben \"zu Fuß\", Dateien lesen und schreiben mit `JLD`, `do`-Block Syntax, Pipelines von Funktionen, Unicode Zeichen"
   ]
  },
  {
   "cell_type": "markdown",
   "id": "trained-microphone",
   "metadata": {},
   "source": [
    "# Dateien lesen und schreiben \"zu Fuß\"\n",
    "\n",
    "Bisher haben wir gesehen wie man `DataFrame`s aus `.csv`-Dateien auslesen oder in `.csv`-Dateien schreiben kann.\n",
    "\n",
    "Julia bietet auch die Möglichkeit Daten unstrukturiert in Dateien zu schreiben.\n",
    "\n",
    "Die Funktion `write(<Dateiname>, <Variable>)` schreibt den Wert von `<Variable>` in die Datei `<Dateiname>`."
   ]
  },
  {
   "cell_type": "code",
   "execution_count": null,
   "id": "elder-tsunami",
   "metadata": {
    "scrolled": true
   },
   "outputs": [],
   "source": []
  },
  {
   "cell_type": "markdown",
   "id": "attractive-metallic",
   "metadata": {},
   "source": [
    "Falls die Datei bereits existiert, wird sie überschrieben:"
   ]
  },
  {
   "cell_type": "code",
   "execution_count": null,
   "id": "comparative-manual",
   "metadata": {},
   "outputs": [],
   "source": []
  },
  {
   "cell_type": "markdown",
   "id": "congressional-snowboard",
   "metadata": {},
   "source": [
    "Es können auch mehrere Variablen hintereinander geschrieben werden:"
   ]
  },
  {
   "cell_type": "code",
   "execution_count": null,
   "id": "indoor-mystery",
   "metadata": {},
   "outputs": [],
   "source": []
  },
  {
   "cell_type": "markdown",
   "id": "synthetic-buffer",
   "metadata": {},
   "source": [
    "Der Rückgabewert von `write()` gibt an wie viele Bytes geschrieben wurden."
   ]
  },
  {
   "cell_type": "markdown",
   "id": "brutal-lobby",
   "metadata": {},
   "source": [
    "## Dateien explizit öffnen\n",
    "\n",
    "Die Funktion `open(<Dateiname>, <(Schreib-/Lese-)modus>)` öffnet eine Datei und gibt einen `IOStream` zurück. Ein `IOStream` ist eine Datenstruktur, die die geöffnete Datei \"verwaltet\" und uns ermöglicht in der Datei zu schreiben/lesen.\n",
    "\n",
    "Bei Öffnen können wir den Schreib-/Lesemodus wählen. Optionen sind:\n",
    "- `\"w\"`: Schreiben und Datei überschreiben, falls sie bereits existiert. \n",
    "- `\"a\"`: Schreiben und an Datei anhängen, falls sie bereits existiert.\n",
    "- `\"r\"`: Lesen."
   ]
  },
  {
   "cell_type": "code",
   "execution_count": null,
   "id": "south-butter",
   "metadata": {},
   "outputs": [],
   "source": []
  },
  {
   "cell_type": "markdown",
   "id": "antique-nightlife",
   "metadata": {},
   "source": [
    "Überschreiben:"
   ]
  },
  {
   "cell_type": "code",
   "execution_count": null,
   "id": "dying-correspondence",
   "metadata": {},
   "outputs": [],
   "source": []
  },
  {
   "cell_type": "markdown",
   "id": "cubic-liabilities",
   "metadata": {},
   "source": [
    "Anhängen:"
   ]
  },
  {
   "cell_type": "code",
   "execution_count": null,
   "id": "diverse-relationship",
   "metadata": {},
   "outputs": [],
   "source": []
  },
  {
   "cell_type": "markdown",
   "id": "realistic-marijuana",
   "metadata": {},
   "source": [
    "In die geöffnete Datei können wir immer weitere Daten schreiben, indem wir `write()` wiederholt aufrufen. Hier schreiben wir eine Reihe von Zufallszahlen in die Datei, jede gefolgt von dem Zeichen `\\n`, das ein Zeilenende markiert."
   ]
  },
  {
   "cell_type": "code",
   "execution_count": null,
   "id": "stopped-dealer",
   "metadata": {},
   "outputs": [],
   "source": []
  },
  {
   "cell_type": "markdown",
   "id": "covered-african",
   "metadata": {},
   "source": [
    "## Dateien auslesen"
   ]
  },
  {
   "cell_type": "markdown",
   "id": "southwest-customs",
   "metadata": {},
   "source": [
    "Der Inhalt einer Datei kann mit `read(<Dateiname>, <Datentyp>)` ausgelesen werden. Dabei muss neben dem Dateinamen der `<Datentyp>` angegeben werden. Die Datei liegt auf der Festplatte als eine Folge von Bits, die Julia nur sinnvoll interpretieren kann, wenn wir vorgeben um welchen Datentyp es sich handelt."
   ]
  },
  {
   "cell_type": "code",
   "execution_count": null,
   "id": "integrated-correlation",
   "metadata": {},
   "outputs": [],
   "source": []
  },
  {
   "cell_type": "markdown",
   "id": "sitting-shade",
   "metadata": {},
   "source": [
    "Die Funktion `readline(<IOStream>)` liest die Datei nur bis zum nächsten Zeilenende, das mit `\\n` markiert ist"
   ]
  },
  {
   "cell_type": "code",
   "execution_count": null,
   "id": "modular-kinase",
   "metadata": {},
   "outputs": [],
   "source": []
  },
  {
   "cell_type": "markdown",
   "id": "classified-statistics",
   "metadata": {},
   "source": [
    "Wenn wir eine Datei z.B. mit `readline` nur Stückweise auslesen, \"merkt sich\" die `IOStream` Datenstruktur die Stelle, bis zu der wir gelesen haben (mit einem \"file pointer\"). Beim nächsten Aufruf wird dann von dort weitergelesen:"
   ]
  },
  {
   "cell_type": "code",
   "execution_count": null,
   "id": "likely-safety",
   "metadata": {},
   "outputs": [],
   "source": []
  },
  {
   "cell_type": "code",
   "execution_count": null,
   "id": "other-clarity",
   "metadata": {},
   "outputs": [],
   "source": []
  },
  {
   "cell_type": "markdown",
   "id": "forty-medicare",
   "metadata": {},
   "source": [
    "Die Funktion `eof(<IOStream>)` testet ob beim Auslesen das Ende einer Datei erreicht ist. Das können wir nutzen um eine Datei vollständig zeilenweise auszulesen:"
   ]
  },
  {
   "cell_type": "code",
   "execution_count": null,
   "id": "periodic-conflict",
   "metadata": {},
   "outputs": [],
   "source": []
  },
  {
   "cell_type": "markdown",
   "id": "valid-motel",
   "metadata": {},
   "source": [
    "## Binäre Dateien\n",
    "\n",
    "Bisher haben wir nur `String`s in Dateien geschrieben. Tatsächlich schreibt `write` die Daten einfach in Binärformat in die Datei. Daher können wir Variablen von beliebigen Datentypen auf die Festplatte schreiben:"
   ]
  },
  {
   "cell_type": "code",
   "execution_count": null,
   "id": "unique-fever",
   "metadata": {},
   "outputs": [],
   "source": []
  },
  {
   "cell_type": "markdown",
   "id": "confident-associate",
   "metadata": {},
   "source": [
    "Diese Zufallszahlen vom Typ `Float64` können wir auch der Reihe nach wieder auslesen:"
   ]
  },
  {
   "cell_type": "code",
   "execution_count": null,
   "id": "peripheral-delaware",
   "metadata": {
    "scrolled": true
   },
   "outputs": [],
   "source": []
  },
  {
   "cell_type": "markdown",
   "id": "occasional-voice",
   "metadata": {},
   "source": [
    "**Achtung:** Beim Auslesen muss der Datentyp natürlich mit dem Datentyp übereinstimmen, der geschrieben wurde!\n",
    "\n",
    "Beispiel: Schreibe `String`s"
   ]
  },
  {
   "cell_type": "code",
   "execution_count": null,
   "id": "silent-carrier",
   "metadata": {},
   "outputs": [],
   "source": [
    "io = open(\"meine_datei.txt\", \"w\")\n",
    "\n",
    "for i in 1:10\n",
    "    r = rand()\n",
    "    write(io, \"$r\\n\")\n",
    "    println(r)\n",
    "end\n",
    "\n",
    "close(io)"
   ]
  },
  {
   "cell_type": "markdown",
   "id": "married-pakistan",
   "metadata": {},
   "source": [
    "Lese `Float64`s"
   ]
  },
  {
   "cell_type": "code",
   "execution_count": null,
   "id": "athletic-trademark",
   "metadata": {},
   "outputs": [],
   "source": [
    "io = open(\"meine_datei.txt\", \"r\")\n",
    "\n",
    "while !eof(io)\n",
    "    println(read(io, Float64))\n",
    "end\n",
    "\n",
    "close(io)"
   ]
  },
  {
   "cell_type": "markdown",
   "id": "forced-camcorder",
   "metadata": {},
   "source": [
    "Es können auch Arrays in Dateien geschrieben werden:"
   ]
  },
  {
   "cell_type": "code",
   "execution_count": null,
   "id": "selective-mercury",
   "metadata": {},
   "outputs": [],
   "source": []
  },
  {
   "cell_type": "code",
   "execution_count": null,
   "id": "obvious-caution",
   "metadata": {},
   "outputs": [],
   "source": []
  },
  {
   "cell_type": "markdown",
   "id": "australian-headline",
   "metadata": {},
   "source": [
    "Zum Auslesen legen wir ein leeres Array `B` mit gleicher Größe und gleichem Datentyp an und verwenden die `read!()` Funktion:"
   ]
  },
  {
   "cell_type": "code",
   "execution_count": null,
   "id": "dated-setup",
   "metadata": {},
   "outputs": [],
   "source": []
  },
  {
   "cell_type": "code",
   "execution_count": null,
   "id": "stuck-sister",
   "metadata": {},
   "outputs": [],
   "source": []
  },
  {
   "cell_type": "markdown",
   "id": "classical-symposium",
   "metadata": {},
   "source": [
    "# Daten lesen/schreiben mit `JLD`\n",
    "\n",
    "Mit dem Paket `JLD` können wir beliebige Datenstrukturen sehr einfach in Dateien schreiben und auslesen ([Dokumentation](https://github.com/JuliaIO/JLD.jl))."
   ]
  },
  {
   "cell_type": "code",
   "execution_count": null,
   "id": "central-progress",
   "metadata": {},
   "outputs": [],
   "source": [
    "using JLD"
   ]
  },
  {
   "cell_type": "markdown",
   "id": "established-assault",
   "metadata": {},
   "source": [
    "Daten verschiedener Datenstrukturen speichern:"
   ]
  },
  {
   "cell_type": "code",
   "execution_count": null,
   "id": "driving-navigator",
   "metadata": {},
   "outputs": [],
   "source": []
  },
  {
   "cell_type": "markdown",
   "id": "unable-confirmation",
   "metadata": {},
   "source": [
    "Gespeicherte Daten laden:"
   ]
  },
  {
   "cell_type": "code",
   "execution_count": null,
   "id": "gross-location",
   "metadata": {},
   "outputs": [],
   "source": []
  },
  {
   "cell_type": "code",
   "execution_count": null,
   "id": "blocked-posting",
   "metadata": {},
   "outputs": [],
   "source": []
  },
  {
   "cell_type": "markdown",
   "id": "consistent-change",
   "metadata": {},
   "source": [
    "# `do`-Block Syntax\n",
    "\n",
    "Der `do`-Block ist eine alternative Syntax um einer Funktion als erstes argument eine anonyme Funktion zu übergeben.\n",
    "\n",
    "Ein Beispiel ist die `map` funktion, die ihr erstes Argument (eine Funktion) elementweise auf das Array anwendet, das als zweites Argument übergeben wird:"
   ]
  },
  {
   "cell_type": "code",
   "execution_count": null,
   "id": "particular-polls",
   "metadata": {},
   "outputs": [],
   "source": [
    "arr = [17, -16, 0]\n",
    "\n",
    "map(x->begin\n",
    "           if x < 0 && iseven(x)\n",
    "               return 0\n",
    "           elseif x == 0\n",
    "               return 1\n",
    "           else\n",
    "               return x\n",
    "           end\n",
    "       end,\n",
    "    arr)"
   ]
  },
  {
   "cell_type": "markdown",
   "id": "northern-financing",
   "metadata": {},
   "source": [
    "Mit der `do`-Block Syntax kann das gleich in der folgenden Form geschieben werden:"
   ]
  },
  {
   "cell_type": "code",
   "execution_count": null,
   "id": "literary-italy",
   "metadata": {},
   "outputs": [],
   "source": []
  },
  {
   "cell_type": "markdown",
   "id": "forty-cooling",
   "metadata": {},
   "source": [
    "Die `do`-Block Syntax wird häufig zum Öffnen von Dateien verwendet, da die `open()`-Funktion die Datei dann automatisch wieder schließt:"
   ]
  },
  {
   "cell_type": "code",
   "execution_count": null,
   "id": "lined-destination",
   "metadata": {},
   "outputs": [],
   "source": [
    "open(\"meine_datei.txt\", \"w\") do io\n",
    "    for i in 1:10\n",
    "        write(io, \"$(rand())\\n\")\n",
    "    end\n",
    "end"
   ]
  },
  {
   "cell_type": "code",
   "execution_count": null,
   "id": "stylish-courtesy",
   "metadata": {},
   "outputs": [],
   "source": [
    "open(\"meine_datei.txt\", \"r\") do io\n",
    "    while !eof(io)\n",
    "        println(readline(io))\n",
    "    end\n",
    "end"
   ]
  },
  {
   "cell_type": "markdown",
   "id": "early-casting",
   "metadata": {},
   "source": [
    "# Pipelines von Funktionen\n",
    "\n",
    "Verschachtelte Funktionsaufrufe können alternativ als sogenannte *pipeline* geschrieben werden."
   ]
  },
  {
   "cell_type": "code",
   "execution_count": null,
   "id": "behind-fossil",
   "metadata": {},
   "outputs": [],
   "source": [
    "f(x) = 3*x + 5\n",
    "g(x) = x^2.4 - x"
   ]
  },
  {
   "cell_type": "markdown",
   "id": "industrial-degree",
   "metadata": {},
   "source": [
    "Verschachtelter Funktionsaufruf:"
   ]
  },
  {
   "cell_type": "code",
   "execution_count": null,
   "id": "desperate-polls",
   "metadata": {},
   "outputs": [],
   "source": []
  },
  {
   "cell_type": "markdown",
   "id": "statistical-grave",
   "metadata": {},
   "source": [
    "Das gleiche mit dem pipeline-Operator `|>`:"
   ]
  },
  {
   "cell_type": "code",
   "execution_count": null,
   "id": "accessible-brain",
   "metadata": {},
   "outputs": [],
   "source": []
  },
  {
   "cell_type": "markdown",
   "id": "light-stick",
   "metadata": {},
   "source": [
    "Eine weitere Möglichkeit ist, den Verknüpfungsoperator `∘` zu verwenden:"
   ]
  },
  {
   "cell_type": "code",
   "execution_count": null,
   "id": "established-possibility",
   "metadata": {},
   "outputs": [],
   "source": []
  },
  {
   "cell_type": "code",
   "execution_count": null,
   "id": "buried-harvard",
   "metadata": {
    "scrolled": true
   },
   "outputs": [],
   "source": []
  },
  {
   "cell_type": "code",
   "execution_count": null,
   "id": "academic-timothy",
   "metadata": {},
   "outputs": [],
   "source": []
  },
  {
   "cell_type": "markdown",
   "id": "intensive-registrar",
   "metadata": {},
   "source": [
    "# Unicode Zeichen"
   ]
  },
  {
   "cell_type": "markdown",
   "id": "several-balloon",
   "metadata": {},
   "source": [
    "Wie oben gesehen sind Unicode Zeichen, wie z.B. `∘` als Teil der Julia Syntax erlaubt.\n",
    "\n",
    "Diese Zeichen können in Julia Notebooks erzeugt werden, indem man den entsprechenden LaTex code eingibt und anschließend \"tab\" drückt.\n",
    "\n",
    "Einige Beispiele:"
   ]
  },
  {
   "cell_type": "markdown",
   "id": "falling-honor",
   "metadata": {},
   "source": [
    "Bezeichne eine Variable als `α`"
   ]
  },
  {
   "cell_type": "code",
   "execution_count": null,
   "id": "subject-jaguar",
   "metadata": {},
   "outputs": [],
   "source": []
  },
  {
   "cell_type": "code",
   "execution_count": null,
   "id": "convinced-positive",
   "metadata": {},
   "outputs": [],
   "source": []
  },
  {
   "cell_type": "markdown",
   "id": "mighty-aging",
   "metadata": {},
   "source": [
    "Das `∈`-Zeichen kann `in` ersetzen"
   ]
  },
  {
   "cell_type": "code",
   "execution_count": null,
   "id": "focused-poverty",
   "metadata": {},
   "outputs": [],
   "source": []
  },
  {
   "cell_type": "markdown",
   "id": "hazardous-portuguese",
   "metadata": {},
   "source": [
    "Den Vergleichsoperator `>=` können wir schreiben als `≥`"
   ]
  },
  {
   "cell_type": "code",
   "execution_count": null,
   "id": "victorian-defensive",
   "metadata": {},
   "outputs": [],
   "source": []
  },
  {
   "cell_type": "markdown",
   "id": "imposed-feature",
   "metadata": {},
   "source": [
    "Der Operator `≈` ist äquivalent zur `isapprox()` Funktion:"
   ]
  },
  {
   "cell_type": "code",
   "execution_count": null,
   "id": "outside-representation",
   "metadata": {},
   "outputs": [],
   "source": []
  },
  {
   "cell_type": "markdown",
   "id": "continuous-atlas",
   "metadata": {},
   "source": [
    "**Warnung:** \n",
    "\n",
    "1. Unicode Zeichen sind in anderen Editoren unter Umständen nicht so leicht einzufügen.\n",
    "2. Die großzügige Verwendung von Unicode Zeichen ist eine Besonderheit von Julia. In vielen anderen Programmiersprachen ist das nicht möglich."
   ]
  }
 ],
 "metadata": {
  "kernelspec": {
   "display_name": "Julia 1.7.1",
   "language": "julia",
   "name": "julia-1.7"
  },
  "language_info": {
   "file_extension": ".jl",
   "mimetype": "application/julia",
   "name": "julia",
   "version": "1.7.1"
  }
 },
 "nbformat": 4,
 "nbformat_minor": 5
}
