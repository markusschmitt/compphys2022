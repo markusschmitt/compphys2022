{
 "cells": [
  {
   "cell_type": "markdown",
   "id": "informed-nepal",
   "metadata": {},
   "source": [
    "# Computerphysik Programmiertutorial 10\n",
    "Prof. Dr. Matteo Rizzi und Dr. Markus Schmitt - Institut für Theoretische Physik, Universität zu Köln\n",
    "&nbsp;\n",
    "\n",
    "**Github**: [https://github.com/markusschmitt/compphys2022](https://github.com/markusschmitt/compphys2022)\n",
    "\n",
    "**Inhalt dieses Notebooks**: Pseudo-Zufallszahlen generieren, Reproduzierbare Pseudo-Zufallszahlen, Qualität von Pseudo-Zufallszahlen, Gleichverteilung auf der Kugeloberfläche\n",
    "\n",
    "# Pseudo-Zufallszahlen generieren\n",
    "\n",
    "Die Erzeugung von Pseudo-Zufallszahlen ist Teil der Standardfunktionalität von Julia: [Dokumentation](https://docs.julialang.org/en/v1/stdlib/Random/).\n",
    "\n",
    "Die `rand()`-Funktion erzeugt gleichverteilte reelle Zufallszahlen auf dem Intervall $[0,1]$."
   ]
  },
  {
   "cell_type": "code",
   "execution_count": null,
   "id": "sustainable-custom",
   "metadata": {},
   "outputs": [],
   "source": []
  },
  {
   "cell_type": "code",
   "execution_count": null,
   "id": "committed-majority",
   "metadata": {},
   "outputs": [],
   "source": []
  },
  {
   "cell_type": "markdown",
   "id": "parliamentary-indie",
   "metadata": {},
   "source": [
    "Es können auch Vektoren von Zufallszahlen erzeugt werden:"
   ]
  },
  {
   "cell_type": "code",
   "execution_count": null,
   "id": "owned-murder",
   "metadata": {},
   "outputs": [],
   "source": []
  },
  {
   "cell_type": "markdown",
   "id": "verified-maker",
   "metadata": {},
   "source": [
    "Mit der `Plots` Funktion `hist()` können wir ein Histogramm der erzeugten Zufallszahlen plotten:"
   ]
  },
  {
   "cell_type": "code",
   "execution_count": null,
   "id": "isolated-issue",
   "metadata": {},
   "outputs": [],
   "source": []
  },
  {
   "cell_type": "markdown",
   "id": "exposed-lyric",
   "metadata": {},
   "source": [
    "Ebenso können Matrizen mit Zufallszahlen gefüllt werden:"
   ]
  },
  {
   "cell_type": "code",
   "execution_count": null,
   "id": "mental-inventory",
   "metadata": {},
   "outputs": [],
   "source": []
  },
  {
   "cell_type": "markdown",
   "id": "economic-spell",
   "metadata": {},
   "source": [
    "Anzeigen der Zufallsmatrix mit `heatmap()`:"
   ]
  },
  {
   "cell_type": "code",
   "execution_count": null,
   "id": "accurate-agency",
   "metadata": {},
   "outputs": [],
   "source": []
  },
  {
   "cell_type": "code",
   "execution_count": null,
   "id": "differential-indiana",
   "metadata": {},
   "outputs": [],
   "source": []
  },
  {
   "cell_type": "markdown",
   "id": "lovely-moment",
   "metadata": {},
   "source": [
    "## Ganzzahlige Zufallszahlen\n",
    "\n",
    "Oft sind wir an ganzzahligen Zufallszahlen interessiert, z.B. wenn wir das Ergebnis eines Würfelwurfs simulieren wollen.\n",
    "\n",
    "Solche Zufallszahlen können wir auch aus den $x\\in[0,1]$ generieren, die `rand()` erzeugt:"
   ]
  },
  {
   "cell_type": "code",
   "execution_count": null,
   "id": "reasonable-matrix",
   "metadata": {},
   "outputs": [],
   "source": []
  },
  {
   "cell_type": "code",
   "execution_count": null,
   "id": "modular-marshall",
   "metadata": {},
   "outputs": [],
   "source": []
  },
  {
   "cell_type": "markdown",
   "id": "olive-weekend",
   "metadata": {},
   "source": [
    "Histogramm vieler Wiederholungen des Würfelwurfs:"
   ]
  },
  {
   "cell_type": "code",
   "execution_count": null,
   "id": "auburn-parcel",
   "metadata": {},
   "outputs": [],
   "source": []
  },
  {
   "cell_type": "markdown",
   "id": "suited-campus",
   "metadata": {},
   "source": [
    "## Bernoulli-Verteilung\n",
    "\n",
    "Häufig tauchen auch Bernoulli-Zufallsvariablen auf, also Zufallsvariablen $X$, die zwei verschiedene Werte annehmen können. Bezeichnen wir diese Werte als $0$ und $1$, dann gilt\n",
    "\n",
    "$$\n",
    "\\begin{aligned}\n",
    "P(X=0)&=p\\\\\n",
    "P(X=1)&=1-p\n",
    "\\end{aligned}\n",
    "$$\n",
    "\n",
    "Die Verteilung ist also durch den Parameter $p$ vollständig beschrieben.\n",
    "\n",
    "Ein Beispiel ist der faire Münzwurf, für den $p=1/2$. Diesen können wir verallgemeinern zum Wurf einer gezinkten Münze mit beliebigen $p\\in[0,1]$. Auch solche Zufallszahlen können wir basierend auf der `rand()`-Funktion implementieren:"
   ]
  },
  {
   "cell_type": "code",
   "execution_count": null,
   "id": "starting-romantic",
   "metadata": {},
   "outputs": [],
   "source": []
  },
  {
   "cell_type": "code",
   "execution_count": null,
   "id": "nominated-acquisition",
   "metadata": {},
   "outputs": [],
   "source": []
  },
  {
   "cell_type": "markdown",
   "id": "temporal-insert",
   "metadata": {},
   "source": [
    "Histogramm einer großen Zahl fairer Münzwürfe:"
   ]
  },
  {
   "cell_type": "code",
   "execution_count": null,
   "id": "hairy-backup",
   "metadata": {},
   "outputs": [],
   "source": []
  },
  {
   "cell_type": "markdown",
   "id": "seven-cologne",
   "metadata": {},
   "source": [
    "Histogramm einer großen Zahl gezinkter Münzwürfe:"
   ]
  },
  {
   "cell_type": "code",
   "execution_count": null,
   "id": "broken-spoke",
   "metadata": {
    "scrolled": false
   },
   "outputs": [],
   "source": []
  },
  {
   "cell_type": "markdown",
   "id": "agreed-assault",
   "metadata": {},
   "source": [
    "## Gauß-Normalverteilung"
   ]
  },
  {
   "cell_type": "markdown",
   "id": "attractive-compromise",
   "metadata": {},
   "source": [
    "Die Funktion `randn()` erzeugt normalverteilte Zufallszahlen:"
   ]
  },
  {
   "cell_type": "code",
   "execution_count": null,
   "id": "consistent-address",
   "metadata": {},
   "outputs": [],
   "source": []
  },
  {
   "cell_type": "code",
   "execution_count": null,
   "id": "continent-element",
   "metadata": {},
   "outputs": [],
   "source": [
    "histogram(gauss,bins=100,normed=true);\n",
    "\n",
    "xrange=range(-3,3,length=100)\n",
    "plot!(xrange, exp.(-0.5*xrange.^2)/sqrt(2pi))"
   ]
  },
  {
   "cell_type": "markdown",
   "id": "subject-agreement",
   "metadata": {},
   "source": [
    "# Reproduzierbare Pseudo-Zufallszahlen: Seeds\n",
    "\n",
    "Die Reproduzierbarkeit von Ergebnissen ist für wissenschaftliche Anwendungen essenziell. Bei Pseudo-Zufallszahlen-Generatoren kann der **seed** benutzt werden um identische Zufallszahlen zu reproduzieren.\n",
    "\n",
    "Für diesen Zweck verwenden wir das Julia Packet `Random`."
   ]
  },
  {
   "cell_type": "code",
   "execution_count": null,
   "id": "advance-example",
   "metadata": {},
   "outputs": [],
   "source": []
  },
  {
   "cell_type": "markdown",
   "id": "dressed-aspect",
   "metadata": {},
   "source": [
    "Der seed des Zufallszahlengenerators ist eine ganze Zahl, die mit der Funktion `seed!()` festgelegt wird:"
   ]
  },
  {
   "cell_type": "code",
   "execution_count": null,
   "id": "resistant-dakota",
   "metadata": {},
   "outputs": [],
   "source": []
  },
  {
   "cell_type": "markdown",
   "id": "residential-screen",
   "metadata": {},
   "source": [
    "Erzeuge eine Folge von Zufallszahlen"
   ]
  },
  {
   "cell_type": "code",
   "execution_count": null,
   "id": "fleet-specialist",
   "metadata": {},
   "outputs": [],
   "source": []
  },
  {
   "cell_type": "markdown",
   "id": "married-healing",
   "metadata": {},
   "source": [
    "Noch einmal so viele andere Zufallszahlen:"
   ]
  },
  {
   "cell_type": "code",
   "execution_count": null,
   "id": "economic-question",
   "metadata": {},
   "outputs": [],
   "source": []
  },
  {
   "cell_type": "markdown",
   "id": "educated-housing",
   "metadata": {},
   "source": [
    "Wenn wir jetzt den seed wieder auf den gleichen Wert setzen wie oben, können wir die Folge der Zufallszahlen reproduzieren:"
   ]
  },
  {
   "cell_type": "code",
   "execution_count": null,
   "id": "patent-festival",
   "metadata": {},
   "outputs": [],
   "source": []
  },
  {
   "cell_type": "code",
   "execution_count": null,
   "id": "sorted-vancouver",
   "metadata": {},
   "outputs": [],
   "source": []
  },
  {
   "cell_type": "code",
   "execution_count": null,
   "id": "comprehensive-transaction",
   "metadata": {},
   "outputs": [],
   "source": []
  },
  {
   "cell_type": "markdown",
   "id": "fifth-creation",
   "metadata": {},
   "source": [
    "# Pseudo-Zufallszahlen generieren\n",
    "\n",
    "Pseudo-Zufallszahlen (= zufällig aussehende Zahlenfolgen) können durch einfache iterative Vorschriften erzeugt werden.\n",
    "\n",
    "## Linearer Kongruenzgenerator\n",
    "\n",
    "Ein einfaches Beispiel ist der *lineare Kongruenzgenerator* mit der Iterationsvorschrift\n",
    "\n",
    "$$\n",
    "x_{n+1} = (ax_n+c)\\ \\text{mod}\\ m\n",
    "$$\n",
    "\n",
    "Hier ist $x_n$ ein Element unserer Folge von Zufallszahlen, und $a$, $c$ und $m$ sind positive ganze Zahlen. Die Qualität der erzeugten Zufallszahlen hängt von der Wahl der Parameter ab. Eine gute Wahl ist"
   ]
  },
  {
   "cell_type": "code",
   "execution_count": null,
   "id": "binding-going",
   "metadata": {},
   "outputs": [],
   "source": [
    "a = 16807\n",
    "c = 1\n",
    "m = 2^31-1;"
   ]
  },
  {
   "cell_type": "markdown",
   "id": "manual-patent",
   "metadata": {},
   "source": [
    "Implementieren wir damit also unseren eigenen linearen Kongruenzgenerator:"
   ]
  },
  {
   "cell_type": "code",
   "execution_count": null,
   "id": "national-beach",
   "metadata": {},
   "outputs": [],
   "source": []
  },
  {
   "cell_type": "markdown",
   "id": "sonic-decision",
   "metadata": {},
   "source": [
    "Erster Test:"
   ]
  },
  {
   "cell_type": "code",
   "execution_count": null,
   "id": "biological-control",
   "metadata": {},
   "outputs": [],
   "source": []
  },
  {
   "cell_type": "markdown",
   "id": "existing-pasta",
   "metadata": {},
   "source": [
    "Test mit bestimmtem seed:"
   ]
  },
  {
   "cell_type": "code",
   "execution_count": null,
   "id": "homeless-belfast",
   "metadata": {},
   "outputs": [],
   "source": []
  },
  {
   "cell_type": "code",
   "execution_count": null,
   "id": "hydraulic-overhead",
   "metadata": {},
   "outputs": [],
   "source": []
  },
  {
   "cell_type": "markdown",
   "id": "fewer-affiliation",
   "metadata": {},
   "source": [
    "Wir produzieren hier zufällige ganze Zahlen. Wie können wir zufällige Fließkommazahlen erzeugen?"
   ]
  },
  {
   "cell_type": "code",
   "execution_count": null,
   "id": "printable-behavior",
   "metadata": {},
   "outputs": [],
   "source": []
  },
  {
   "cell_type": "markdown",
   "id": "representative-lender",
   "metadata": {},
   "source": [
    "## Inkrementeller Generator"
   ]
  },
  {
   "cell_type": "markdown",
   "id": "younger-cattle",
   "metadata": {},
   "source": [
    "Hier implementieren wir noch einen weiteren Generator von Zufallszahlen für den Vergleich im nächsten Abschnitt:"
   ]
  },
  {
   "cell_type": "code",
   "execution_count": null,
   "id": "indoor-holocaust",
   "metadata": {},
   "outputs": [],
   "source": [
    "function inkrementeller_generator(n=1)\n",
    "    \n",
    "    random_numbers = [0.05*rand()]\n",
    "    for j in 1:n-1\n",
    "        \n",
    "        x = random_numbers[j] + 0.05*rand()\n",
    "        \n",
    "        if x > 1\n",
    "            x = x-1\n",
    "        end\n",
    "        push!(random_numbers, x)\n",
    "    end\n",
    "    \n",
    "    return random_numbers\n",
    "end"
   ]
  },
  {
   "cell_type": "markdown",
   "id": "small-dublin",
   "metadata": {},
   "source": [
    "# Qualität von Zufallszahlen\n",
    "\n",
    "Unterschiedliche Zufallszahlengeneratoren produzieren Zufallszahlen von unterschiedlicher Qualität. Das werden wir hier beleuchten.\n",
    "\n",
    "## Histogramme\n",
    "\n",
    "Schauen wir zunächst Histogramme der Samples unserer Verschiedenen Generatoren an.\n",
    "\n",
    "**Linearer Kongruenzgenerator**"
   ]
  },
  {
   "cell_type": "code",
   "execution_count": null,
   "id": "naughty-testing",
   "metadata": {},
   "outputs": [],
   "source": [
    "histogram(mein_lkg_real(1000000), bins=100)"
   ]
  },
  {
   "cell_type": "markdown",
   "id": "bulgarian-possibility",
   "metadata": {},
   "source": [
    "Julia's **Mersenne Twister**"
   ]
  },
  {
   "cell_type": "code",
   "execution_count": null,
   "id": "ethical-chorus",
   "metadata": {},
   "outputs": [],
   "source": [
    "histogram(rand(1000000), bins=100)"
   ]
  },
  {
   "cell_type": "markdown",
   "id": "trying-helmet",
   "metadata": {},
   "source": [
    "**Inkrementeller Generator**"
   ]
  },
  {
   "cell_type": "code",
   "execution_count": null,
   "id": "expanded-fortune",
   "metadata": {},
   "outputs": [],
   "source": [
    "histogram(inkrementeller_generator(1000000), bins=100)"
   ]
  },
  {
   "cell_type": "markdown",
   "id": "spanish-aerospace",
   "metadata": {},
   "source": [
    "## Korrelationen\n",
    "\n",
    "Eine wichtige Eigenschaft guter Pseudo-Zufallszahlen ist, dass aufeinanderfolgende Zahlen unkorreliert sind. Die Korrelationen zwischen aufeinanderfolgenden Zahlen können wir mit folgender Größe quantifizieren:\n",
    "\n",
    "$$\n",
    "\\chi=\\langle x_ix_{i+1}\\rangle-\\langle x_i\\rangle^2\n",
    "$$\n",
    "\n",
    "Schreiben wir eine Funktion, die für eine Folge von Zufallszahlen die Korrelationen $\\chi$ berechnet:"
   ]
  },
  {
   "cell_type": "code",
   "execution_count": null,
   "id": "convertible-cleaner",
   "metadata": {},
   "outputs": [],
   "source": []
  },
  {
   "cell_type": "markdown",
   "id": "powerful-guinea",
   "metadata": {},
   "source": [
    "Wie stark sind die aufeinanderfolgende Zahlen unserer verschiedenen Generatoren korreliert?\n",
    "\n",
    "**Linearer Kongruenzgenerator**"
   ]
  },
  {
   "cell_type": "code",
   "execution_count": null,
   "id": "based-vermont",
   "metadata": {},
   "outputs": [],
   "source": []
  },
  {
   "cell_type": "markdown",
   "id": "sufficient-amino",
   "metadata": {},
   "source": [
    "**Mersenne Twister**"
   ]
  },
  {
   "cell_type": "code",
   "execution_count": null,
   "id": "korean-birthday",
   "metadata": {},
   "outputs": [],
   "source": []
  },
  {
   "cell_type": "markdown",
   "id": "distinguished-bonus",
   "metadata": {},
   "source": [
    "**Inkrementeller Generator**"
   ]
  },
  {
   "cell_type": "code",
   "execution_count": null,
   "id": "grateful-angel",
   "metadata": {},
   "outputs": [],
   "source": []
  },
  {
   "cell_type": "markdown",
   "id": "wired-salmon",
   "metadata": {},
   "source": [
    "# Spektraltests\n",
    "\n",
    "Mit einem *Spektraltest* können wir noch genauer hinschauen. Dafür interpretieren wir drei aufeinanderfolgende Zahlen einer Folge von Pseudo-Zufallszahlen als Koordinaten in einem dreidimensionalen Raum:"
   ]
  },
  {
   "cell_type": "code",
   "execution_count": null,
   "id": "unnecessary-imperial",
   "metadata": {},
   "outputs": [],
   "source": [
    "function spectral_test(random_numbers)\n",
    "    x = Float64[]\n",
    "    y = Float64[]\n",
    "    z = Float64[]\n",
    "    \n",
    "    for i in 1:length(random_numbers)-2\n",
    "        if random_numbers[i] < 0.001\n",
    "            push!(x, random_numbers[i])\n",
    "            push!(y, random_numbers[i+1])\n",
    "            push!(z, random_numbers[i+2])\n",
    "        end\n",
    "    end\n",
    "    \n",
    "    return x, y, z\n",
    "end"
   ]
  },
  {
   "cell_type": "markdown",
   "id": "voluntary-installation",
   "metadata": {},
   "source": [
    "Spektraltest des linearen Kongruenzgenerators:"
   ]
  },
  {
   "cell_type": "code",
   "execution_count": null,
   "id": "funky-nowhere",
   "metadata": {},
   "outputs": [],
   "source": [
    "zahlen = mein_lkg_real(10000000)\n",
    "\n",
    "X, Y, Z = spectral_test(zahlen);"
   ]
  },
  {
   "cell_type": "markdown",
   "id": "environmental-sellers",
   "metadata": {},
   "source": [
    "Schauen wir uns einen Plot davon an:"
   ]
  },
  {
   "cell_type": "code",
   "execution_count": null,
   "id": "hindu-entrance",
   "metadata": {},
   "outputs": [],
   "source": [
    "plotlyjs()\n",
    "scatter(X,Y,Z, markersize=0.5)"
   ]
  },
  {
   "cell_type": "markdown",
   "id": "fatty-attempt",
   "metadata": {},
   "source": [
    "Spektraltest des Mersenne Twisters:"
   ]
  },
  {
   "cell_type": "code",
   "execution_count": null,
   "id": "passing-healthcare",
   "metadata": {},
   "outputs": [],
   "source": [
    "zahlen = rand(10000000)\n",
    "\n",
    "X, Y, Z = spectral_test(zahlen);\n",
    "\n",
    "plotlyjs()\n",
    "scatter(X,Y,Z, markersize=0.5)"
   ]
  },
  {
   "cell_type": "markdown",
   "id": "meaning-substitute",
   "metadata": {},
   "source": [
    "# Beispiel: Gleichverteilung auf der Kugeloberfläche\n",
    "\n",
    "<img src=\"https://www.biancahoegel.de/wissen/navigation/bilder/kugelkoord-def.png\"></img>\n",
    "\n",
    "Koordinaten auf der Kugeloberfläche ausgedrückt durch Polarwinkel $\\theta$ und Azimuthalwinkel $\\varphi$:\n",
    "\n",
    "$$\n",
    "\\begin{aligned}\n",
    "x &= \\sin\\varphi\\sin\\theta\\\\\n",
    "y &= \\cos\\varphi\\sin\\theta\\\\\n",
    "z &= \\cos\\theta\n",
    "\\end{aligned}\n",
    "$$\n",
    "\n",
    "**Idee:** Sample zufällige Winkel $\\varphi\\in[0,2\\pi]$ und $\\theta\\in[0,\\pi]$ und rechne anschließend in karthesische Koordinaten um:"
   ]
  },
  {
   "cell_type": "code",
   "execution_count": null,
   "id": "sacred-shape",
   "metadata": {},
   "outputs": [],
   "source": [
    "function rnd_sphere(n)\n",
    "    X = Float64[]\n",
    "    Y = Float64[]\n",
    "    Z = Float64[]\n",
    "    \n",
    "    for j in 1:n\n",
    "        phi = rand() * 2pi\n",
    "        theta = rand() * pi\n",
    "        \n",
    "        push!(X, sin(phi) * sin(theta))\n",
    "        push!(Y, cos(phi) * sin(theta))\n",
    "        push!(Z, cos(theta))\n",
    "    end\n",
    "    \n",
    "    return X, Y, Z\n",
    "end"
   ]
  },
  {
   "cell_type": "markdown",
   "id": "outdoor-shepherd",
   "metadata": {},
   "source": [
    "Plot zufällig generierter Punkte:"
   ]
  },
  {
   "cell_type": "code",
   "execution_count": null,
   "id": "hairy-palace",
   "metadata": {},
   "outputs": [],
   "source": [
    "X, Y, Z = rnd_sphere(1000)\n",
    "\n",
    "plotlyjs()\n",
    "scatter(X,Y,Z, markersize=0.5)"
   ]
  },
  {
   "cell_type": "markdown",
   "id": "secure-level",
   "metadata": {},
   "source": [
    "**Alternative:** Sample zufälligen Winkel $\\varphi\\in[0,2\\pi]$ und gleichverteilte $z$-Koordinate $z\\in[-1,1]$. Dann ergeben sich\n",
    "\n",
    "$$\n",
    "\\begin{aligned}\n",
    "x &= \\sqrt{1-z^2}\\sin\\varphi\\\\\n",
    "y &= \\sqrt{1-z^2}\\cos\\varphi\n",
    "\\end{aligned}\n",
    "$$"
   ]
  },
  {
   "cell_type": "code",
   "execution_count": null,
   "id": "jewish-liability",
   "metadata": {},
   "outputs": [],
   "source": [
    "function rnd_sphere_uniform(n)\n",
    "    X = Float64[]\n",
    "    Y = Float64[]\n",
    "    Z = Float64[]\n",
    "    \n",
    "    for j in 1:n\n",
    "        phi = rand() * 2pi\n",
    "        z = -1 + 2*rand()\n",
    "        \n",
    "        push!(X, sqrt(1-z^2) * cos(phi))\n",
    "        push!(Y, sqrt(1-z^2) * sin(phi))\n",
    "        push!(Z, z)\n",
    "    end\n",
    "    \n",
    "    return X, Y, Z\n",
    "end"
   ]
  },
  {
   "cell_type": "code",
   "execution_count": null,
   "id": "racial-peace",
   "metadata": {},
   "outputs": [],
   "source": [
    "X, Y, Z = rnd_sphere_uniform(1000);\n",
    "\n",
    "plotlyjs()\n",
    "scatter(X,Y,Z, markersize=0.5)"
   ]
  }
 ],
 "metadata": {
  "kernelspec": {
   "display_name": "Julia 1.7.1",
   "language": "julia",
   "name": "julia-1.7"
  },
  "language_info": {
   "file_extension": ".jl",
   "mimetype": "application/julia",
   "name": "julia",
   "version": "1.7.1"
  }
 },
 "nbformat": 4,
 "nbformat_minor": 5
}
