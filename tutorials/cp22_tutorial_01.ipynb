{
 "cells": [
  {
   "cell_type": "markdown",
   "id": "informed-nepal",
   "metadata": {},
   "source": [
    "# Computerphysik Programmiertutorial 1\n",
    "Prof. Dr. Matteo Rizzi und Dr. Markus Schmitt - Institut für Theoretische Physik, Universität zu Köln\n",
    "&nbsp;\n",
    "\n",
    "**ILIAS**: [https://www.ilias.uni-koeln.de/ilias/goto_uk_crs_3862489.html](https://www.ilias.uni-koeln.de/ilias/goto_uk_crs_3862489.html)\n",
    "\n",
    "**Github**: [https://github.com/markusschmitt/compphys2022](https://github.com/markusschmitt/compphys2022)\n",
    "\n",
    "**Inhalt dieses Notebooks**: \"Hello world!\", Variablen und elementare Operationen, Datentypen, Strings, Arrays, Dictionaries, Hilfe, Fehlermeldungen "
   ]
  },
  {
   "cell_type": "markdown",
   "id": "cathedral-wilderness",
   "metadata": {},
   "source": [
    "## Hello world!\n",
    "\n",
    "Essenziell für den Erfolg beim Erlernen einer neuen Programmiersprache ist es, als erstes ein Programm zu schreiben, das \"Hello world!\" ausgibt:"
   ]
  },
  {
   "cell_type": "code",
   "execution_count": null,
   "id": "naked-gather",
   "metadata": {},
   "outputs": [],
   "source": []
  },
  {
   "cell_type": "markdown",
   "id": "measured-freedom",
   "metadata": {},
   "source": [
    "## Variablen und elementare Operationen\n",
    "\n",
    "Variablen sind \"Behälter\" für Daten. Variablen haben einen Namen und sind mit einem bestimmten Ort im Speicher des Computers verknüpft, an dem die zugehörigen Daten liegen.\n",
    "\n",
    "Der erste Schritt ist die Zuweisung eines Wertes:"
   ]
  },
  {
   "cell_type": "code",
   "execution_count": null,
   "id": "substantial-custody",
   "metadata": {},
   "outputs": [],
   "source": []
  },
  {
   "cell_type": "markdown",
   "id": "motivated-variable",
   "metadata": {},
   "source": [
    "Nun können wir uns durch Ausgabe vergewissern, dass `a` den Wert `42` hat:"
   ]
  },
  {
   "cell_type": "code",
   "execution_count": null,
   "id": "defined-timothy",
   "metadata": {},
   "outputs": [],
   "source": []
  },
  {
   "cell_type": "code",
   "execution_count": null,
   "id": "vietnamese-departure",
   "metadata": {},
   "outputs": [],
   "source": []
  },
  {
   "cell_type": "markdown",
   "id": "declared-firmware",
   "metadata": {},
   "source": [
    "Julia ist sehr großzügig bei den erlaubten Variablennamen (im Vergleich zu anderen Programmiersprachen).\n",
    "\n",
    "**Nicht erlaubt** sind Namen, die mit Ziffern (`0-9`) oder Operatoren (z.B. `+` oder `*`) beginnen.\n",
    "\n",
    "**Zu vermeiden** sind außerdem Namen, die gleichzeitig eine andere Bedeutung haben, z.B. mathematische Funktionen wie `log`, die wir später noch kennen lernen.\n",
    "\n",
    "Jetzt initialisieren wir noch eine weitere Variable mit dem legalen Namen `klaus`:"
   ]
  },
  {
   "cell_type": "code",
   "execution_count": null,
   "id": "aggressive-andrews",
   "metadata": {},
   "outputs": [],
   "source": []
  },
  {
   "cell_type": "markdown",
   "id": "identical-relay",
   "metadata": {},
   "source": [
    "Daten, die im Speicher liegen kann der Computer verarbeiten. Wir können ihn zum Beispiel damit rechnen lassen. Grundliegende Rechenoperationen mit zwei Zahlen\n",
    "\n",
    "* Addition: `+`\n",
    "* Subtraktion: `-`\n",
    "* Multiplikation: `*`\n",
    "* Division: `/`\n",
    "* Ganzzahlige Division: `÷` oder `div`\n",
    "* Potenz: `^`\n",
    "* Modulo: `%`"
   ]
  },
  {
   "cell_type": "code",
   "execution_count": null,
   "id": "outstanding-primary",
   "metadata": {},
   "outputs": [],
   "source": []
  },
  {
   "cell_type": "markdown",
   "id": "flush-calibration",
   "metadata": {},
   "source": [
    "Außerdem sind viele mathematische Funktionen vordefiniert, z.B. `exp`, `log`, `sqrt`, `abs`"
   ]
  },
  {
   "cell_type": "code",
   "execution_count": null,
   "id": "respiratory-inspiration",
   "metadata": {},
   "outputs": [],
   "source": []
  },
  {
   "cell_type": "markdown",
   "id": "awful-matthew",
   "metadata": {},
   "source": [
    "Eine Zahl, die einer Variablen direkt vorgestellt ist, impliziert Multiplikation:"
   ]
  },
  {
   "cell_type": "code",
   "execution_count": null,
   "id": "earlier-asthma",
   "metadata": {},
   "outputs": [],
   "source": []
  },
  {
   "cell_type": "markdown",
   "id": "certified-wrestling",
   "metadata": {},
   "source": [
    "## Datentypen\n",
    "\n",
    "Jede Variable ist von einem bestimmten Datentyp, den wir mit `typeof` feststellen können:"
   ]
  },
  {
   "cell_type": "code",
   "execution_count": null,
   "id": "allied-payroll",
   "metadata": {},
   "outputs": [],
   "source": []
  },
  {
   "cell_type": "markdown",
   "id": "baking-recall",
   "metadata": {},
   "source": [
    "Neben den Ganzzahlentypen (`Int`) gibt es z.B. auch \n",
    "\n",
    "* Fließkommazahlen `Float`\n",
    "* komplexe Zahlen `Complex`\n",
    "* Wahrheitswerte `Bool`\n",
    "* Textzeichen `Char`"
   ]
  },
  {
   "cell_type": "code",
   "execution_count": null,
   "id": "exact-museum",
   "metadata": {},
   "outputs": [],
   "source": []
  },
  {
   "cell_type": "code",
   "execution_count": null,
   "id": "alert-planner",
   "metadata": {},
   "outputs": [],
   "source": []
  },
  {
   "cell_type": "code",
   "execution_count": null,
   "id": "painful-locator",
   "metadata": {},
   "outputs": [],
   "source": []
  },
  {
   "cell_type": "code",
   "execution_count": null,
   "id": "guided-perspective",
   "metadata": {},
   "outputs": [],
   "source": []
  },
  {
   "cell_type": "markdown",
   "id": "satellite-flush",
   "metadata": {},
   "source": [
    "In Julia ist es beim Programmieren von einfachen Anwendungen oft nicht wichtig sich der Variablentypen bewusst zu sein. Für den Computer ist es aber sehr wichtig, dass mit der Definition jeder Variable ein Typ verabredet wird, da unterschiedliche Typen unterschiedlich viel Speicher belegen.\n",
    "\n",
    "Im Speicher sind alle Variablen in Binärcode gespeichert. Diesen Code können wir uns mit `bitstring` ausgeben lassen. So sehen wir zum Beispiel, dass unsere Variable `klaus` vom Typ `Int64` 64 bits (oder 8 bytes) belegt:"
   ]
  },
  {
   "cell_type": "code",
   "execution_count": null,
   "id": "revolutionary-expert",
   "metadata": {},
   "outputs": [],
   "source": []
  },
  {
   "cell_type": "markdown",
   "id": "running-theta",
   "metadata": {},
   "source": [
    "Unsere Variable `c` vom Typ `Char` belegt dagegen nur 32 bits (4 bytes):"
   ]
  },
  {
   "cell_type": "code",
   "execution_count": null,
   "id": "surprising-surname",
   "metadata": {},
   "outputs": [],
   "source": []
  },
  {
   "cell_type": "markdown",
   "id": "considerable-extent",
   "metadata": {},
   "source": [
    "# Strings\n",
    "\n",
    "`Strings` sind Zeichenketten, also Aneinanderreihungen von Textzeichen (`Chars`).\n",
    "\n",
    "Zum Erstellen eines `Strings` wird die Zeichenkette mit Anführungszeichen `\"` umschlossen:"
   ]
  },
  {
   "cell_type": "code",
   "execution_count": null,
   "id": "polar-specific",
   "metadata": {},
   "outputs": [],
   "source": []
  },
  {
   "cell_type": "markdown",
   "id": "industrial-grain",
   "metadata": {},
   "source": [
    "Durch einen Index in eckigen Klammern `[]` können wir auf ein bestimmtes Zeichen im String zugreifen:"
   ]
  },
  {
   "cell_type": "code",
   "execution_count": null,
   "id": "timely-tracker",
   "metadata": {},
   "outputs": [],
   "source": []
  },
  {
   "cell_type": "markdown",
   "id": "ranking-transformation",
   "metadata": {},
   "source": [
    "Zwei Strings können durch den `*`-Operator aneinandergefügt werden:"
   ]
  },
  {
   "cell_type": "code",
   "execution_count": null,
   "id": "fifth-reservoir",
   "metadata": {},
   "outputs": [],
   "source": []
  },
  {
   "cell_type": "markdown",
   "id": "unable-stake",
   "metadata": {},
   "source": [
    "Werte von Variablen können durch `$variablenname` in Strings eingefügt werden:"
   ]
  },
  {
   "cell_type": "code",
   "execution_count": null,
   "id": "flexible-bennett",
   "metadata": {},
   "outputs": [],
   "source": []
  },
  {
   "cell_type": "markdown",
   "id": "micro-static",
   "metadata": {},
   "source": [
    "# Arrays\n",
    "\n",
    "Mit einem *Array* können wir mehrere (gleichartige) Daten in einer Datenstruktur zusammenfassen.\n",
    "\n",
    "Einer Variable können wir ein Array mit spezifischen Werten als Liste dieser Werte eingefasst in eckigen Klammern `[]` zuweisen:"
   ]
  },
  {
   "cell_type": "code",
   "execution_count": null,
   "id": "egyptian-supplier",
   "metadata": {},
   "outputs": [],
   "source": []
  },
  {
   "cell_type": "markdown",
   "id": "received-begin",
   "metadata": {},
   "source": [
    "Auf einzelen Elemente des Arrays wird mit eckigen Klammern Zugegriffen (**Achtung:** Indizierung startet mit 1!):"
   ]
  },
  {
   "cell_type": "code",
   "execution_count": null,
   "id": "french-subdivision",
   "metadata": {},
   "outputs": [],
   "source": []
  },
  {
   "cell_type": "markdown",
   "id": "aggregate-subdivision",
   "metadata": {},
   "source": [
    "So kann auch dem Eintrag im Array ein neuer Wert zugewiesen werden:"
   ]
  },
  {
   "cell_type": "code",
   "execution_count": null,
   "id": "saved-leonard",
   "metadata": {},
   "outputs": [],
   "source": []
  },
  {
   "cell_type": "markdown",
   "id": "damaged-lover",
   "metadata": {},
   "source": [
    "Neue Elemente am Anfang oder am Ende des Arrays werden mit `pushfirst!` oder `push!` hinzugefügt:"
   ]
  },
  {
   "cell_type": "code",
   "execution_count": null,
   "id": "educational-daniel",
   "metadata": {},
   "outputs": [],
   "source": []
  },
  {
   "cell_type": "code",
   "execution_count": null,
   "id": "invalid-reasoning",
   "metadata": {},
   "outputs": [],
   "source": []
  },
  {
   "cell_type": "markdown",
   "id": "unauthorized-bronze",
   "metadata": {},
   "source": [
    "Elemente am Anfang oder Ende eines Arrays können mit `popfirst!` oder `pop!` entfernt werden:"
   ]
  },
  {
   "cell_type": "code",
   "execution_count": null,
   "id": "fluid-remove",
   "metadata": {},
   "outputs": [],
   "source": []
  },
  {
   "cell_type": "code",
   "execution_count": null,
   "id": "painted-effects",
   "metadata": {},
   "outputs": [],
   "source": []
  },
  {
   "cell_type": "code",
   "execution_count": null,
   "id": "directed-athens",
   "metadata": {},
   "outputs": [],
   "source": []
  },
  {
   "cell_type": "markdown",
   "id": "political-violation",
   "metadata": {},
   "source": [
    "Zweidimensionale Arrays können ebenfalls direkt durch eine Liste von Werten in eckigen Klammern erstellt werden. Werte einer Zeile werden mit Leerzeichen getrennt, Zeilen werden voneinander durch Semikolon `;` getrennt:"
   ]
  },
  {
   "cell_type": "code",
   "execution_count": null,
   "id": "southeast-judgment",
   "metadata": {},
   "outputs": [],
   "source": []
  },
  {
   "cell_type": "markdown",
   "id": "stunning-secret",
   "metadata": {},
   "source": [
    "Auf Elemente des zweidimensionalen Arrays kann per Doppelindex zugegriffen werden. Der erste Index ist der *Zeilenindex*, der zweite Index ist der *Spaltenindex*:"
   ]
  },
  {
   "cell_type": "code",
   "execution_count": null,
   "id": "compound-statistics",
   "metadata": {},
   "outputs": [],
   "source": []
  },
  {
   "cell_type": "markdown",
   "id": "loose-mustang",
   "metadata": {},
   "source": [
    "Alternativ kann ein einzelner Index verwendet werden. Die Abbildung von Doppel- auf Einzelindex ist dabei\n",
    "\n",
    "    Einzelindex = Zeilenindex + Spaltenlänge x Spaltenindex\n",
    "    \n",
    "Daran sehen wir, das in Julia die Daten zweidimensionaler Arrays spaltenweise hintereinander im Speicher abgelegt werden. Diese Konvention wird als *column-major* Sortierung von höherdimensionalen Arrays bezeichnet."
   ]
  },
  {
   "cell_type": "code",
   "execution_count": null,
   "id": "hollow-means",
   "metadata": {},
   "outputs": [],
   "source": []
  },
  {
   "cell_type": "markdown",
   "id": "tribal-sweden",
   "metadata": {},
   "source": [
    "Oft brauchen wir viel größere und höherdimensionale Arrays, die wir nicht wie zuvor manuell initialisieren können. Um solche Arrays zu erstellen gibt es verschiedene Möglichkeiten.\n",
    "\n",
    "Ein dreidimensionales Array von Nullen mit Dimension 3x27x9:"
   ]
  },
  {
   "cell_type": "code",
   "execution_count": null,
   "id": "executive-beginning",
   "metadata": {},
   "outputs": [],
   "source": []
  },
  {
   "cell_type": "markdown",
   "id": "discrete-electric",
   "metadata": {},
   "source": [
    "Ein Array von Zufallszahlen mit Dimension 4x3"
   ]
  },
  {
   "cell_type": "code",
   "execution_count": null,
   "id": "tender-value",
   "metadata": {},
   "outputs": [],
   "source": []
  },
  {
   "cell_type": "markdown",
   "id": "higher-environment",
   "metadata": {},
   "source": [
    "Ein Array der Dimension 2x3x3, das nicht mit spezifischen Werten initialisiert ist. Hier müssen wir dem Computer mitteilen, welchen Datentyp das Array enthalten soll, damit er entsprechend Speicher reservieren kann."
   ]
  },
  {
   "cell_type": "code",
   "execution_count": null,
   "id": "stable-connectivity",
   "metadata": {},
   "outputs": [],
   "source": []
  },
  {
   "cell_type": "markdown",
   "id": "exotic-palestinian",
   "metadata": {},
   "source": [
    "Arrays in Julia können verschiedene Datentypen beinhalten:"
   ]
  },
  {
   "cell_type": "code",
   "execution_count": null,
   "id": "sunset-announcement",
   "metadata": {},
   "outputs": [],
   "source": []
  },
  {
   "cell_type": "markdown",
   "id": "yellow-victorian",
   "metadata": {},
   "source": [
    "# Dictionaries\n",
    "\n",
    "Mit einem *Dictionary* können wir mehrere Daten in einer Datenstruktur zusammenfassen und dabei nicht-numerische Schlüssel verwenden:"
   ]
  },
  {
   "cell_type": "code",
   "execution_count": null,
   "id": "finite-swiss",
   "metadata": {},
   "outputs": [],
   "source": []
  },
  {
   "cell_type": "code",
   "execution_count": null,
   "id": "stupid-hawaiian",
   "metadata": {},
   "outputs": [],
   "source": []
  },
  {
   "cell_type": "code",
   "execution_count": null,
   "id": "touched-marsh",
   "metadata": {},
   "outputs": [],
   "source": []
  },
  {
   "cell_type": "markdown",
   "id": "ranking-associate",
   "metadata": {},
   "source": [
    "# Hilfe\n",
    "\n",
    "Die Funktionen von Julia sind in der Dokumentation erklärt. Zur Dokumentation führen zwei Wege\n",
    "\n",
    "1. Aufrufen der Webseite [https://docs.julialang.org/](https://docs.julialang.org/)\n",
    "2. Aufrufen der Dokumentation direkt in Julia mit `?`, z.B. `?println`"
   ]
  },
  {
   "cell_type": "code",
   "execution_count": null,
   "id": "welsh-synthetic",
   "metadata": {},
   "outputs": [],
   "source": []
  },
  {
   "cell_type": "markdown",
   "id": "macro-medium",
   "metadata": {},
   "source": [
    "# Fehlermeldungen\n",
    "\n",
    "Eher früher als später produziert ihr eure erste Fehlermeldung beim ausführen von Julia Code."
   ]
  },
  {
   "cell_type": "code",
   "execution_count": null,
   "id": "likely-dispatch",
   "metadata": {},
   "outputs": [],
   "source": []
  },
  {
   "cell_type": "markdown",
   "id": "relevant-trouble",
   "metadata": {},
   "source": [
    "**Das ist kein Grund zur Panik!** Die Fehlermeldung erklärt **was** schief gelaufen ist und **wo** der Fehler aufgetreten ist.\n",
    "\n",
    "Falls ein Fehler auftritt, könnt ihr ihn in der Regel beheben, indem ihr folgenden Algorithmus ausführt:\n",
    "\n",
    "1. Finde die Zeile, in der der Fehler auftritt (**wo**).\n",
    "2. Versuche anhand Fehlermeldung und des Programmkontexts zu verstehen **was** falsch ist. Falls verstanden, gehe zu Punkt 5.\n",
    "3. Kopiere die Fehlermeldung in eine Suchmaschine deiner Wahl. Weltweit schreiben Millionen von Menschen Programmcode. Du bist wahrscheinlich nicht die erste, die diesen Fehler produziert. Falls zu den ersten Suchergebnissen ein Forenbeitrag mit gleicher oder ähnlicher Fehlerbeschreibung auftaucht, lies ihn und versuche zu verstehen ob das dein Problem sein könnte. Gute Quellen sind in der Regel z.B. Seiten bei [stackoverflow](https://www.stackoverflow.com) oder [github](https://www.github.com). Falls verstanden, gehe zu Punkt 5.\n",
    "4. Frage deinen Computerphysik Tutor. Falls **nicht** verstanden, gehe zu Punkt 4.\n",
    "5. Behebe den Fehler."
   ]
  }
 ],
 "metadata": {
  "kernelspec": {
   "display_name": "Julia 1.7.1",
   "language": "julia",
   "name": "julia-1.7"
  },
  "language_info": {
   "file_extension": ".jl",
   "mimetype": "application/julia",
   "name": "julia",
   "version": "1.7.1"
  }
 },
 "nbformat": 4,
 "nbformat_minor": 5
}
