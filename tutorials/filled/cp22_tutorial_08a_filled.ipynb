{
 "cells": [
  {
   "cell_type": "markdown",
   "id": "informed-nepal",
   "metadata": {},
   "source": [
    "# Computerphysik Programmiertutorial 8a\n",
    "Prof. Dr. Matteo Rizzi und Dr. Markus Schmitt - Institut für Theoretische Physik, Universität zu Köln\n",
    "&nbsp;\n",
    "\n",
    "**Github**: [https://github.com/markusschmitt/compphys2022](https://github.com/markusschmitt/compphys2022)\n",
    "\n",
    "**Inhalt dieses Notebooks**: Tabulare Datenstruktur"
   ]
  },
  {
   "cell_type": "markdown",
   "id": "coated-basket",
   "metadata": {},
   "source": [
    "## Hantieren mit Daten: `DataFrames` und `CSV`/`CSVFiles`\n",
    "\n",
    "`DataFrames` stellt eine Datenstruktur für tabulare Daten zur Verfügung ([Dokumentation](https://dataframes.juliadata.org/stable/man/working_with_dataframes/)).\n",
    "\n",
    "Mit `CSV` und `CSVFiles` können tabulare Daten importiert und exportiert werden."
   ]
  },
  {
   "cell_type": "code",
   "execution_count": 1,
   "id": "finnish-evidence",
   "metadata": {},
   "outputs": [],
   "source": [
    "using DataFrames\n",
    "using CSV\n",
    "using CSVFiles"
   ]
  },
  {
   "cell_type": "markdown",
   "id": "intelligent-crest",
   "metadata": {},
   "source": [
    "Ein DataFrame kann zum Beispiel so erstellt werden:"
   ]
  },
  {
   "cell_type": "code",
   "execution_count": 2,
   "id": "potential-preliminary",
   "metadata": {
    "scrolled": true
   },
   "outputs": [
    {
     "data": {
      "text/html": [
       "<div class=\"data-frame\"><p>4 rows × 3 columns</p><table class=\"data-frame\"><thead><tr><th></th><th>Name</th><th>Alter</th><th>Geschlecht</th></tr><tr><th></th><th title=\"String\">String</th><th title=\"Int64\">Int64</th><th title=\"String\">String</th></tr></thead><tbody><tr><th>1</th><td>Hans</td><td>55</td><td>M</td></tr><tr><th>2</th><td>Anna</td><td>23</td><td>W</td></tr><tr><th>3</th><td>Klaus</td><td>124</td><td>M</td></tr><tr><th>4</th><td>Petra</td><td>3</td><td>W</td></tr></tbody></table></div>"
      ],
      "text/latex": [
       "\\begin{tabular}{r|ccc}\n",
       "\t& Name & Alter & Geschlecht\\\\\n",
       "\t\\hline\n",
       "\t& String & Int64 & String\\\\\n",
       "\t\\hline\n",
       "\t1 & Hans & 55 & M \\\\\n",
       "\t2 & Anna & 23 & W \\\\\n",
       "\t3 & Klaus & 124 & M \\\\\n",
       "\t4 & Petra & 3 & W \\\\\n",
       "\\end{tabular}\n"
      ],
      "text/plain": [
       "\u001b[1m4×3 DataFrame\u001b[0m\n",
       "\u001b[1m Row \u001b[0m│\u001b[1m Name   \u001b[0m\u001b[1m Alter \u001b[0m\u001b[1m Geschlecht \u001b[0m\n",
       "\u001b[1m     \u001b[0m│\u001b[90m String \u001b[0m\u001b[90m Int64 \u001b[0m\u001b[90m String     \u001b[0m\n",
       "─────┼───────────────────────────\n",
       "   1 │ Hans       55  M\n",
       "   2 │ Anna       23  W\n",
       "   3 │ Klaus     124  M\n",
       "   4 │ Petra       3  W"
      ]
     },
     "execution_count": 2,
     "metadata": {},
     "output_type": "execute_result"
    }
   ],
   "source": [
    "data=DataFrame(Name=[\"Hans\", \"Anna\", \"Klaus\", \"Petra\"], Alter=[55,23,124,3],Geschlecht=[\"M\",\"W\",\"M\",\"W\"])"
   ]
  },
  {
   "cell_type": "markdown",
   "id": "floral-stack",
   "metadata": {},
   "source": [
    "Wir können weitere Zeilen mit `push!` hinzufügen"
   ]
  },
  {
   "cell_type": "code",
   "execution_count": 3,
   "id": "fuzzy-luxembourg",
   "metadata": {},
   "outputs": [
    {
     "data": {
      "text/html": [
       "<div class=\"data-frame\"><p>5 rows × 3 columns</p><table class=\"data-frame\"><thead><tr><th></th><th>Name</th><th>Alter</th><th>Geschlecht</th></tr><tr><th></th><th title=\"String\">String</th><th title=\"Int64\">Int64</th><th title=\"String\">String</th></tr></thead><tbody><tr><th>1</th><td>Hans</td><td>55</td><td>M</td></tr><tr><th>2</th><td>Anna</td><td>23</td><td>W</td></tr><tr><th>3</th><td>Klaus</td><td>124</td><td>M</td></tr><tr><th>4</th><td>Petra</td><td>3</td><td>W</td></tr><tr><th>5</th><td>Goofy</td><td>93</td><td>M</td></tr></tbody></table></div>"
      ],
      "text/latex": [
       "\\begin{tabular}{r|ccc}\n",
       "\t& Name & Alter & Geschlecht\\\\\n",
       "\t\\hline\n",
       "\t& String & Int64 & String\\\\\n",
       "\t\\hline\n",
       "\t1 & Hans & 55 & M \\\\\n",
       "\t2 & Anna & 23 & W \\\\\n",
       "\t3 & Klaus & 124 & M \\\\\n",
       "\t4 & Petra & 3 & W \\\\\n",
       "\t5 & Goofy & 93 & M \\\\\n",
       "\\end{tabular}\n"
      ],
      "text/plain": [
       "\u001b[1m5×3 DataFrame\u001b[0m\n",
       "\u001b[1m Row \u001b[0m│\u001b[1m Name   \u001b[0m\u001b[1m Alter \u001b[0m\u001b[1m Geschlecht \u001b[0m\n",
       "\u001b[1m     \u001b[0m│\u001b[90m String \u001b[0m\u001b[90m Int64 \u001b[0m\u001b[90m String     \u001b[0m\n",
       "─────┼───────────────────────────\n",
       "   1 │ Hans       55  M\n",
       "   2 │ Anna       23  W\n",
       "   3 │ Klaus     124  M\n",
       "   4 │ Petra       3  W\n",
       "   5 │ Goofy      93  M"
      ]
     },
     "execution_count": 3,
     "metadata": {},
     "output_type": "execute_result"
    }
   ],
   "source": [
    "push!(data,[\"Goofy\",93,\"M\"])"
   ]
  },
  {
   "cell_type": "markdown",
   "id": "focused-leisure",
   "metadata": {},
   "source": [
    "Es sind viele Funktionen definiert um die Daten in der Tabelle zu verarbeiten (siehe [Dokumentation](https://dataframes.juliadata.org/stable/man/working_with_dataframes/)). Z.B. können wir nur die Frauen aus der Liste heraussuchen:"
   ]
  },
  {
   "cell_type": "code",
   "execution_count": 4,
   "id": "expanded-church",
   "metadata": {
    "scrolled": true
   },
   "outputs": [
    {
     "data": {
      "text/html": [
       "<div class=\"data-frame\"><p>2 rows × 3 columns</p><table class=\"data-frame\"><thead><tr><th></th><th>Name</th><th>Alter</th><th>Geschlecht</th></tr><tr><th></th><th title=\"String\">String</th><th title=\"Int64\">Int64</th><th title=\"String\">String</th></tr></thead><tbody><tr><th>1</th><td>Anna</td><td>23</td><td>W</td></tr><tr><th>2</th><td>Petra</td><td>3</td><td>W</td></tr></tbody></table></div>"
      ],
      "text/latex": [
       "\\begin{tabular}{r|ccc}\n",
       "\t& Name & Alter & Geschlecht\\\\\n",
       "\t\\hline\n",
       "\t& String & Int64 & String\\\\\n",
       "\t\\hline\n",
       "\t1 & Anna & 23 & W \\\\\n",
       "\t2 & Petra & 3 & W \\\\\n",
       "\\end{tabular}\n"
      ],
      "text/plain": [
       "\u001b[1m2×3 DataFrame\u001b[0m\n",
       "\u001b[1m Row \u001b[0m│\u001b[1m Name   \u001b[0m\u001b[1m Alter \u001b[0m\u001b[1m Geschlecht \u001b[0m\n",
       "\u001b[1m     \u001b[0m│\u001b[90m String \u001b[0m\u001b[90m Int64 \u001b[0m\u001b[90m String     \u001b[0m\n",
       "─────┼───────────────────────────\n",
       "   1 │ Anna       23  W\n",
       "   2 │ Petra       3  W"
      ]
     },
     "execution_count": 4,
     "metadata": {},
     "output_type": "execute_result"
    }
   ],
   "source": [
    "filter(row->row.Geschlecht==\"W\", data)"
   ]
  },
  {
   "cell_type": "markdown",
   "id": "latter-instrumentation",
   "metadata": {},
   "source": [
    "Die Tabelle kann mit `CSV.write()` exportiert werden."
   ]
  },
  {
   "cell_type": "code",
   "execution_count": 5,
   "id": "welcome-narrative",
   "metadata": {},
   "outputs": [
    {
     "data": {
      "text/plain": [
       "\"test.csv\""
      ]
     },
     "execution_count": 5,
     "metadata": {},
     "output_type": "execute_result"
    }
   ],
   "source": [
    "CSV.write(\"test.csv\", data)"
   ]
  },
  {
   "cell_type": "code",
   "execution_count": 6,
   "id": "dated-princeton",
   "metadata": {
    "scrolled": false
   },
   "outputs": [
    {
     "data": {
      "text/html": [
       "<div class=\"data-frame\"><p>5 rows × 3 columns</p><table class=\"data-frame\"><thead><tr><th></th><th>Name</th><th>Alter</th><th>Geschlecht</th></tr><tr><th></th><th title=\"String\">String</th><th title=\"Int64\">Int64</th><th title=\"String\">String</th></tr></thead><tbody><tr><th>1</th><td>Hans</td><td>55</td><td>M</td></tr><tr><th>2</th><td>Anna</td><td>23</td><td>W</td></tr><tr><th>3</th><td>Klaus</td><td>124</td><td>M</td></tr><tr><th>4</th><td>Petra</td><td>3</td><td>W</td></tr><tr><th>5</th><td>Goofy</td><td>93</td><td>M</td></tr></tbody></table></div>"
      ],
      "text/latex": [
       "\\begin{tabular}{r|ccc}\n",
       "\t& Name & Alter & Geschlecht\\\\\n",
       "\t\\hline\n",
       "\t& String & Int64 & String\\\\\n",
       "\t\\hline\n",
       "\t1 & Hans & 55 & M \\\\\n",
       "\t2 & Anna & 23 & W \\\\\n",
       "\t3 & Klaus & 124 & M \\\\\n",
       "\t4 & Petra & 3 & W \\\\\n",
       "\t5 & Goofy & 93 & M \\\\\n",
       "\\end{tabular}\n"
      ],
      "text/plain": [
       "\u001b[1m5×3 DataFrame\u001b[0m\n",
       "\u001b[1m Row \u001b[0m│\u001b[1m Name   \u001b[0m\u001b[1m Alter \u001b[0m\u001b[1m Geschlecht \u001b[0m\n",
       "\u001b[1m     \u001b[0m│\u001b[90m String \u001b[0m\u001b[90m Int64 \u001b[0m\u001b[90m String     \u001b[0m\n",
       "─────┼───────────────────────────\n",
       "   1 │ Hans       55  M\n",
       "   2 │ Anna       23  W\n",
       "   3 │ Klaus     124  M\n",
       "   4 │ Petra       3  W\n",
       "   5 │ Goofy      93  M"
      ]
     },
     "execution_count": 6,
     "metadata": {},
     "output_type": "execute_result"
    }
   ],
   "source": [
    "newdata = DataFrame(load(\"test.csv\"))"
   ]
  }
 ],
 "metadata": {
  "kernelspec": {
   "display_name": "Julia 1.7.1",
   "language": "julia",
   "name": "julia-1.7"
  },
  "language_info": {
   "file_extension": ".jl",
   "mimetype": "application/julia",
   "name": "julia",
   "version": "1.7.1"
  }
 },
 "nbformat": 4,
 "nbformat_minor": 5
}
