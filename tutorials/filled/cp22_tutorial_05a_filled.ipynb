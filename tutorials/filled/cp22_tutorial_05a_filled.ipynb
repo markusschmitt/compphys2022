{
 "cells": [
  {
   "cell_type": "markdown",
   "id": "informed-nepal",
   "metadata": {},
   "source": [
    "# Computerphysik Programmiertutorial 5a\n",
    "Prof. Dr. Matteo Rizzi und Dr. Markus Schmitt - Institut für Theoretische Physik, Universität zu Köln\n",
    "&nbsp;\n",
    "\n",
    "**Github**: [https://github.com/markusschmitt/compphys2022](https://github.com/markusschmitt/compphys2022)\n",
    "\n",
    "**Inhalt dieses Notebooks**: Jonglieren mit Arrays, dünne Matrizen, [E] Zusammengesetzte Datentypen: `struct`s\n",
    "\n",
    "\n",
    "## Jonglieren mit Arrays\n",
    "\n"
   ]
  },
  {
   "cell_type": "code",
   "execution_count": 1,
   "id": "mysterious-cross",
   "metadata": {},
   "outputs": [
    {
     "data": {
      "text/plain": [
       "16-element Vector{Int64}:\n",
       "  1\n",
       "  2\n",
       "  3\n",
       "  4\n",
       "  5\n",
       "  6\n",
       "  7\n",
       "  8\n",
       "  9\n",
       " 10\n",
       " 11\n",
       " 12\n",
       " 13\n",
       " 14\n",
       " 15\n",
       " 16"
      ]
     },
     "execution_count": 1,
     "metadata": {},
     "output_type": "execute_result"
    }
   ],
   "source": [
    "A = collect(1:16)"
   ]
  },
  {
   "cell_type": "markdown",
   "id": "friendly-creativity",
   "metadata": {},
   "source": [
    "Dimensionen ändern: `reshape`"
   ]
  },
  {
   "cell_type": "code",
   "execution_count": 2,
   "id": "descending-review",
   "metadata": {
    "scrolled": true
   },
   "outputs": [
    {
     "data": {
      "text/plain": [
       "4×4 Matrix{Int64}:\n",
       " 1  5   9  13\n",
       " 2  6  10  14\n",
       " 3  7  11  15\n",
       " 4  8  12  16"
      ]
     },
     "execution_count": 2,
     "metadata": {},
     "output_type": "execute_result"
    }
   ],
   "source": [
    "reshape(A,4,4)"
   ]
  },
  {
   "cell_type": "code",
   "execution_count": 3,
   "id": "dimensional-traffic",
   "metadata": {},
   "outputs": [
    {
     "data": {
      "text/plain": [
       "8×2 Matrix{Int64}:\n",
       " 1   9\n",
       " 2  10\n",
       " 3  11\n",
       " 4  12\n",
       " 5  13\n",
       " 6  14\n",
       " 7  15\n",
       " 8  16"
      ]
     },
     "execution_count": 3,
     "metadata": {},
     "output_type": "execute_result"
    }
   ],
   "source": [
    "reshape(A,:,2)"
   ]
  },
  {
   "cell_type": "code",
   "execution_count": 4,
   "id": "injured-champagne",
   "metadata": {},
   "outputs": [
    {
     "data": {
      "text/plain": [
       "4×4 Matrix{Int64}:\n",
       " 1  5   9  13\n",
       " 2  6  10  14\n",
       " 3  7  11  15\n",
       " 4  8  12  16"
      ]
     },
     "execution_count": 4,
     "metadata": {},
     "output_type": "execute_result"
    }
   ],
   "source": [
    "A = reshape(A, 4, :)"
   ]
  },
  {
   "cell_type": "markdown",
   "id": "terminal-trace",
   "metadata": {},
   "source": [
    "Eine einzelne Spalte extrahieren"
   ]
  },
  {
   "cell_type": "code",
   "execution_count": 5,
   "id": "german-county",
   "metadata": {},
   "outputs": [
    {
     "data": {
      "text/plain": [
       "4-element Vector{Int64}:\n",
       "  9\n",
       " 10\n",
       " 11\n",
       " 12"
      ]
     },
     "execution_count": 5,
     "metadata": {},
     "output_type": "execute_result"
    }
   ],
   "source": [
    "v=A[:,3]"
   ]
  },
  {
   "cell_type": "code",
   "execution_count": 6,
   "id": "stupid-equity",
   "metadata": {},
   "outputs": [
    {
     "data": {
      "text/plain": [
       "4-element Vector{Int64}:\n",
       "  9\n",
       " 10\n",
       " 11\n",
       " 12"
      ]
     },
     "execution_count": 6,
     "metadata": {},
     "output_type": "execute_result"
    }
   ],
   "source": [
    "v"
   ]
  },
  {
   "cell_type": "markdown",
   "id": "central-astronomy",
   "metadata": {},
   "source": [
    "Eine einzelne Zeile extrahieren"
   ]
  },
  {
   "cell_type": "code",
   "execution_count": 7,
   "id": "anonymous-anderson",
   "metadata": {
    "scrolled": false
   },
   "outputs": [
    {
     "data": {
      "text/plain": [
       "4-element Vector{Int64}:\n",
       "  2\n",
       "  6\n",
       " 10\n",
       " 14"
      ]
     },
     "execution_count": 7,
     "metadata": {},
     "output_type": "execute_result"
    }
   ],
   "source": [
    "A[2,:]"
   ]
  },
  {
   "cell_type": "markdown",
   "id": "ethical-turning",
   "metadata": {},
   "source": [
    "Eine Untermatrix extrahieren"
   ]
  },
  {
   "cell_type": "code",
   "execution_count": 8,
   "id": "nervous-millennium",
   "metadata": {
    "scrolled": false
   },
   "outputs": [
    {
     "data": {
      "text/plain": [
       "3×2 Matrix{Int64}:\n",
       " 6  10\n",
       " 7  11\n",
       " 8  12"
      ]
     },
     "execution_count": 8,
     "metadata": {},
     "output_type": "execute_result"
    }
   ],
   "source": [
    "A[2:4,2:3]"
   ]
  },
  {
   "cell_type": "code",
   "execution_count": 9,
   "id": "fantastic-firmware",
   "metadata": {},
   "outputs": [
    {
     "data": {
      "text/plain": [
       "2×2 Matrix{Int64}:\n",
       " 2  10\n",
       " 4  12"
      ]
     },
     "execution_count": 9,
     "metadata": {},
     "output_type": "execute_result"
    }
   ],
   "source": [
    "A[[2,4],[1,3]]"
   ]
  },
  {
   "cell_type": "markdown",
   "id": "armed-template",
   "metadata": {},
   "source": [
    "Indizes vom Ende zählen:"
   ]
  },
  {
   "cell_type": "code",
   "execution_count": 10,
   "id": "virgin-punishment",
   "metadata": {},
   "outputs": [
    {
     "data": {
      "text/plain": [
       "4×3 Matrix{Int64}:\n",
       " 1  5   9\n",
       " 2  6  10\n",
       " 3  7  11\n",
       " 4  8  12"
      ]
     },
     "execution_count": 10,
     "metadata": {},
     "output_type": "execute_result"
    }
   ],
   "source": [
    "A[:,1:end-1]"
   ]
  },
  {
   "cell_type": "markdown",
   "id": "civilian-romance",
   "metadata": {},
   "source": [
    "## Dünne Matrizen\n",
    "\n",
    "Matrizen, die in physikalischen Anwendungen interessant sind, haben oft viel Struktur. In verschiednene Anwendungen tauchen z.B. Matrizen auf, die nur wenige von Null verschiedene Einträge haben -- sogenannte **dünn besetzte Matrizen**. In solchen Fällen ist es günstig nicht die komplette Matrix im Speicher abzulegen, sondern nur die wenigen Einträge, die nicht Null sind.\n",
    "\n",
    "Beispiel:\n",
    "\n",
    "$$\n",
    "M=\\begin{pmatrix}5&0&0&0\\\\0&8&0&0\\\\0&0&7&3\\\\0&4&0&1\\end{pmatrix}\n",
    "$$\n",
    "\n",
    "Um solche Matrizen effizient zu speichern gibt es verschiedene Datenstrukturen. Die Idee ist immer, dass es reicht die Werte der nicht-Null Einträge zu speichern, sowie ihre jeweilige Position in der Matrix.\n",
    "\n",
    "Eine Möglichkeit ist das **Compressed Sparse Column (CSC)** Format. In diesem Format werden drei Arrays verwendet um die dünne Matrix zu Beschreiben:\n",
    "\n",
    "1. Das erste Array enthält die **Werte** der nicht-Null Matrixeinträge entsprechend ihrer *spaltenweise* Reihenfolge:\n",
    "```\n",
    "values = [5, 8, 4, 7, 3, 1]\n",
    "```\n",
    "2. Das zweite Array enthält zugehörigen **Zeilenindizes** in der gleichen Reihenfolge:\n",
    "```\n",
    "row_idx = [1, 2, 4, 3, 3, 4]\n",
    "```\n",
    "3. Das dritte Array enthält die sogenannten **Spaltenzeiger**. Die Spaltenzeiger sind die Indizes des ersten Eintrags jeder Spalte im `values` bzw. `row_idx` Array. Das Array enthält außerdem immer einen zusätzlichen letzten Eintrag, der der Zahl der Einträge in `values` plus 1 entspricht:\n",
    "```\n",
    "col_ptr = [1, 2, 4, 5, 7]\n",
    "```\n",
    "\n",
    "Außerdem speichern wir die Dimension der Matrix, also $m$ und $n$ für eine $m\\times n$-Matrix.\n",
    "\n",
    "Eine solche Datenstruktur können wir zum Beispiel als Dictionary implementieren:"
   ]
  },
  {
   "cell_type": "code",
   "execution_count": 12,
   "id": "developing-twenty",
   "metadata": {},
   "outputs": [
    {
     "data": {
      "text/plain": [
       "Dict{String, Any} with 5 entries:\n",
       "  \"values\"  => [5.0, 8.0, 4.0, 7.0, 3.0, 1.0]\n",
       "  \"col_ptr\" => [1, 2, 4, 5, 7]\n",
       "  \"n_cols\"  => 4\n",
       "  \"row_idx\" => [1, 2, 4, 3, 3, 4]\n",
       "  \"n_rows\"  => 4"
      ]
     },
     "execution_count": 12,
     "metadata": {},
     "output_type": "execute_result"
    }
   ],
   "source": [
    "M = Dict(\n",
    "            \"values\" => float([5, 8 , 4, 7 , 3, 1]),\n",
    "            \"row_idx\" => [1, 2, 4, 3, 3, 4],\n",
    "            \"col_ptr\" => [1, 2, 4, 5, 7],\n",
    "            \"n_rows\" => 4,\n",
    "            \"n_cols\" => 4\n",
    "        )"
   ]
  },
  {
   "cell_type": "markdown",
   "id": "united-bumper",
   "metadata": {},
   "source": [
    "Um die Funktionsweise zu illustrieren, implementieren wir ein Matrix-Vektor-Produkt für unsere dünne Matrix:"
   ]
  },
  {
   "cell_type": "code",
   "execution_count": 13,
   "id": "union-arctic",
   "metadata": {},
   "outputs": [
    {
     "data": {
      "text/plain": [
       "sparse_mvp (generic function with 1 method)"
      ]
     },
     "execution_count": 13,
     "metadata": {},
     "output_type": "execute_result"
    }
   ],
   "source": [
    "function sparse_mvp(A, x)\n",
    "    # Array für Ergebnis anlegen\n",
    "    res = zeros(A[\"n_rows\"])\n",
    "    \n",
    "    # zur Übersichtlichkeit\n",
    "    col_ptr = A[\"col_ptr\"]\n",
    "    row_idx = A[\"row_idx\"]\n",
    "    values = A[\"values\"]\n",
    "    \n",
    "    # Schleife für das Matrix-Vektor-Produkt\n",
    "    for j in 1:(size(col_ptr)[1]-1)\n",
    "        col_range = col_ptr[j]:col_ptr[j+1]-1 # Bereich der aktuellen Spalte im values Array\n",
    "        row_indices = row_idx[col_range]      # Zeilen-Indizes, die zur aktuellen Spalte gehören\n",
    "        \n",
    "        res[row_indices] += values[col_range] * x[j]\n",
    "    end\n",
    "    \n",
    "    return res\n",
    "end"
   ]
  },
  {
   "cell_type": "code",
   "execution_count": 16,
   "id": "theoretical-laugh",
   "metadata": {},
   "outputs": [
    {
     "data": {
      "text/plain": [
       "4-element Vector{Float64}:\n",
       "  5.0\n",
       "  0.0\n",
       " 33.0\n",
       "  4.0"
      ]
     },
     "execution_count": 16,
     "metadata": {},
     "output_type": "execute_result"
    }
   ],
   "source": [
    "mein_vektor = [1, 0, 3, 4]\n",
    "\n",
    "sparse_mvp(M, mein_vektor)"
   ]
  },
  {
   "cell_type": "code",
   "execution_count": 15,
   "id": "patient-girlfriend",
   "metadata": {},
   "outputs": [
    {
     "data": {
      "text/plain": [
       "4-element Vector{Float64}:\n",
       "  5.0\n",
       "  0.0\n",
       " 33.0\n",
       "  4.0"
      ]
     },
     "execution_count": 15,
     "metadata": {},
     "output_type": "execute_result"
    }
   ],
   "source": [
    "dense_M = float([5 0 0 0; 0 8 0 0; 0 0 7 3; 0 4 0 1])\n",
    "\n",
    "dense_M * mein_vektor"
   ]
  },
  {
   "cell_type": "markdown",
   "id": "narrative-villa",
   "metadata": {},
   "source": [
    "Julia stellt standardmäßig eine Datenstruktur für dünne Matrizen im CSC-Format bereit (im Standardpaket `SparseArrays`, [Dokumentation](https://docs.julialang.org/en/v1/stdlib/SparseArrays/)):"
   ]
  },
  {
   "cell_type": "code",
   "execution_count": 17,
   "id": "egyptian-century",
   "metadata": {},
   "outputs": [],
   "source": [
    "using SparseArrays"
   ]
  },
  {
   "cell_type": "markdown",
   "id": "individual-employment",
   "metadata": {},
   "source": [
    "Dünne Matrizen können damit auf unterschiedliche Weise erzeugt werden.\n",
    "\n",
    "Entweder aus einer dichten Matrix:"
   ]
  },
  {
   "cell_type": "code",
   "execution_count": 18,
   "id": "center-softball",
   "metadata": {},
   "outputs": [
    {
     "data": {
      "text/plain": [
       "4×4 SparseMatrixCSC{Float64, Int64} with 6 stored entries:\n",
       " 5.0   ⋅    ⋅    ⋅ \n",
       "  ⋅   8.0   ⋅    ⋅ \n",
       "  ⋅    ⋅   7.0  3.0\n",
       "  ⋅   4.0   ⋅   1.0"
      ]
     },
     "execution_count": 18,
     "metadata": {},
     "output_type": "execute_result"
    }
   ],
   "source": [
    "sparse_M1 = sparse(dense_M)"
   ]
  },
  {
   "cell_type": "markdown",
   "id": "following-operator",
   "metadata": {},
   "source": [
    "Oder durch Übergeben der Zeilenindizes, Spaltenindizes, und Werte aller Einträge"
   ]
  },
  {
   "cell_type": "code",
   "execution_count": 19,
   "id": "plain-horse",
   "metadata": {
    "scrolled": true
   },
   "outputs": [
    {
     "data": {
      "text/plain": [
       "4×4 SparseMatrixCSC{Float64, Int64} with 6 stored entries:\n",
       " 5.0   ⋅    ⋅    ⋅ \n",
       "  ⋅   8.0   ⋅    ⋅ \n",
       "  ⋅    ⋅   7.0  3.0\n",
       "  ⋅   4.0   ⋅   1.0"
      ]
     },
     "execution_count": 19,
     "metadata": {},
     "output_type": "execute_result"
    }
   ],
   "source": [
    "sparse_M2 = sparse([1,2,3,3,4,4], [1,2,3,4,2,4], float([5,8,7,3,4,1]))"
   ]
  },
  {
   "cell_type": "markdown",
   "id": "sunrise-center",
   "metadata": {},
   "source": [
    "Genau wie bei dichten Matrizen können wir einzelene Einträge auslesen ..."
   ]
  },
  {
   "cell_type": "code",
   "execution_count": 20,
   "id": "medieval-waters",
   "metadata": {},
   "outputs": [
    {
     "data": {
      "text/plain": [
       "3.0"
      ]
     },
     "execution_count": 20,
     "metadata": {},
     "output_type": "execute_result"
    }
   ],
   "source": [
    "sparse_M2[3,4]"
   ]
  },
  {
   "cell_type": "markdown",
   "id": "athletic-directory",
   "metadata": {},
   "source": [
    "... und ändern"
   ]
  },
  {
   "cell_type": "code",
   "execution_count": 21,
   "id": "south-given",
   "metadata": {},
   "outputs": [
    {
     "data": {
      "text/plain": [
       "4×4 SparseMatrixCSC{Float64, Int64} with 7 stored entries:\n",
       " 5.0   ⋅   3.14159   ⋅ \n",
       "  ⋅   8.0   ⋅        ⋅ \n",
       "  ⋅    ⋅   7.0      3.0\n",
       "  ⋅   4.0   ⋅       1.0"
      ]
     },
     "execution_count": 21,
     "metadata": {},
     "output_type": "execute_result"
    }
   ],
   "source": [
    "sparse_M2[1,3] = pi\n",
    "sparse_M2"
   ]
  },
  {
   "cell_type": "markdown",
   "id": "sudden-burlington",
   "metadata": {},
   "source": [
    "Das Matrix-Vektor-Produkt ist mit dieser Datenstruktur auch bereits implementiert:"
   ]
  },
  {
   "cell_type": "code",
   "execution_count": 22,
   "id": "thick-dictionary",
   "metadata": {},
   "outputs": [
    {
     "data": {
      "text/plain": [
       "4-element Vector{Float64}:\n",
       "  5.0\n",
       "  0.0\n",
       " 33.0\n",
       "  4.0"
      ]
     },
     "execution_count": 22,
     "metadata": {},
     "output_type": "execute_result"
    }
   ],
   "source": [
    "sparse_M1 * mein_vektor"
   ]
  },
  {
   "cell_type": "markdown",
   "id": "living-meeting",
   "metadata": {},
   "source": [
    "Genauso gibt es dünne Vektoren:"
   ]
  },
  {
   "cell_type": "code",
   "execution_count": 23,
   "id": "trained-interaction",
   "metadata": {
    "scrolled": true
   },
   "outputs": [
    {
     "data": {
      "text/plain": [
       "4-element SparseVector{Int64, Int64} with 3 stored entries:\n",
       "  [1]  =  1\n",
       "  [3]  =  3\n",
       "  [4]  =  4"
      ]
     },
     "execution_count": 23,
     "metadata": {},
     "output_type": "execute_result"
    }
   ],
   "source": [
    "sparsevec(mein_vektor)"
   ]
  },
  {
   "cell_type": "markdown",
   "id": "hazardous-suggestion",
   "metadata": {},
   "source": [
    "## [E] Zusammengesetzte Datentypen: `struct`s\n",
    "\n",
    "Julia bietet die Möglichkeit eigene Zusammengesetzte Datentypen als `struct`s zu definieren ([Dokumentation](https://docs.julialang.org/en/v1/manual/types/#Composite-Types))."
   ]
  },
  {
   "cell_type": "code",
   "execution_count": 24,
   "id": "lucky-flower",
   "metadata": {},
   "outputs": [],
   "source": [
    "struct MySparse\n",
    "    n_rows::Int\n",
    "    n_cols::Int\n",
    "    values::Vector{Float64}\n",
    "    row_idx::Vector{Int}\n",
    "    col_ptr::Vector{Int}\n",
    "end"
   ]
  },
  {
   "cell_type": "code",
   "execution_count": 25,
   "id": "strategic-preparation",
   "metadata": {},
   "outputs": [
    {
     "data": {
      "text/plain": [
       "MySparse(4, 4, [5.0, 8.0, 4.0, 7.0, 3.0, 1.0], [1, 2, 4, 3, 3, 4], [1, 2, 4, 5, 7])"
      ]
     },
     "execution_count": 25,
     "metadata": {},
     "output_type": "execute_result"
    }
   ],
   "source": [
    "mat = MySparse(4, 4, float([5, 8 ,4 , 7, 3, 1]), [1, 2, 4, 3, 3, 4], [1, 2, 4, 5, 7])"
   ]
  },
  {
   "cell_type": "markdown",
   "id": "valid-membership",
   "metadata": {},
   "source": [
    "Unser neuer zusammengesetzter Datentyp ist Julia jetzt bekannt:"
   ]
  },
  {
   "cell_type": "code",
   "execution_count": 26,
   "id": "excited-traveler",
   "metadata": {},
   "outputs": [
    {
     "data": {
      "text/plain": [
       "MySparse"
      ]
     },
     "execution_count": 26,
     "metadata": {},
     "output_type": "execute_result"
    }
   ],
   "source": [
    "typeof(mat)"
   ]
  },
  {
   "cell_type": "markdown",
   "id": "united-monitor",
   "metadata": {},
   "source": [
    "Auf die einzelnen Felder können wir mit `.<Feldname>` zugreifen:"
   ]
  },
  {
   "cell_type": "code",
   "execution_count": 27,
   "id": "sweet-voltage",
   "metadata": {},
   "outputs": [
    {
     "data": {
      "text/plain": [
       "4"
      ]
     },
     "execution_count": 27,
     "metadata": {},
     "output_type": "execute_result"
    }
   ],
   "source": [
    "mat.n_rows"
   ]
  },
  {
   "cell_type": "code",
   "execution_count": 28,
   "id": "turned-hypothesis",
   "metadata": {
    "scrolled": true
   },
   "outputs": [
    {
     "data": {
      "text/plain": [
       "6-element Vector{Float64}:\n",
       " 5.0\n",
       " 8.0\n",
       " 4.0\n",
       " 7.0\n",
       " 3.0\n",
       " 1.0"
      ]
     },
     "execution_count": 28,
     "metadata": {},
     "output_type": "execute_result"
    }
   ],
   "source": [
    "mat.values"
   ]
  },
  {
   "cell_type": "markdown",
   "id": "demographic-seeking",
   "metadata": {},
   "source": [
    "Damit können wir unser dünnes Matrix-Vektor-Produkt umschreiben (*multiple dispatch*):"
   ]
  },
  {
   "cell_type": "code",
   "execution_count": 29,
   "id": "bright-buddy",
   "metadata": {
    "scrolled": true
   },
   "outputs": [
    {
     "data": {
      "text/plain": [
       "4-element Vector{Float64}:\n",
       "  5.0\n",
       "  0.0\n",
       " 33.0\n",
       "  4.0"
      ]
     },
     "execution_count": 29,
     "metadata": {},
     "output_type": "execute_result"
    }
   ],
   "source": [
    "function sparse_mvp(A::MySparse, x)\n",
    "    # Array für Ergebnis anlegen\n",
    "    res = zeros(A.n_rows)\n",
    "    \n",
    "    # Schleife für das Matrix-Vektor-Produkt\n",
    "    for j in 1:(size(A.col_ptr)[1]-1)\n",
    "        col_range = A.col_ptr[j]:A.col_ptr[j+1]-1 # Bereich der aktuellen Spalte im values Array\n",
    "        row_indices = A.row_idx[col_range]        # Zeilen-Indizes, die zur aktuellen Spalte gehören\n",
    "        \n",
    "        res[row_indices] += A.values[col_range] * x[j]\n",
    "    end\n",
    "    \n",
    "    return res\n",
    "end\n",
    "\n",
    "sparse_mvp(mat, mein_vektor)"
   ]
  },
  {
   "cell_type": "markdown",
   "id": "original-technique",
   "metadata": {},
   "source": [
    "**Hinweis:** `struct`s sind *immutable*:"
   ]
  },
  {
   "cell_type": "code",
   "execution_count": 30,
   "id": "standard-tourism",
   "metadata": {
    "scrolled": false
   },
   "outputs": [
    {
     "ename": "LoadError",
     "evalue": "setfield!: immutable struct of type MySparse cannot be changed",
     "output_type": "error",
     "traceback": [
      "setfield!: immutable struct of type MySparse cannot be changed",
      "",
      "Stacktrace:",
      " [1] setproperty!(x::MySparse, f::Symbol, v::Int64)",
      "   @ Base ./Base.jl:43",
      " [2] top-level scope",
      "   @ In[30]:1",
      " [3] eval",
      "   @ ./boot.jl:373 [inlined]",
      " [4] include_string(mapexpr::typeof(REPL.softscope), mod::Module, code::String, filename::String)",
      "   @ Base ./loading.jl:1196"
     ]
    }
   ],
   "source": [
    "mat.n_rows = 5"
   ]
  },
  {
   "cell_type": "markdown",
   "id": "contrary-heading",
   "metadata": {},
   "source": [
    "Das kann mit `mutable struct`s umgangen werden:"
   ]
  },
  {
   "cell_type": "code",
   "execution_count": 31,
   "id": "marked-lloyd",
   "metadata": {},
   "outputs": [],
   "source": [
    "mutable struct MyMutableSparse\n",
    "    n_rows::Int\n",
    "    n_cols::Int\n",
    "    values::Vector{Float64}\n",
    "    row_idx::Vector{Int}\n",
    "    col_ptr::Vector{Int}\n",
    "end"
   ]
  },
  {
   "cell_type": "code",
   "execution_count": 32,
   "id": "involved-convenience",
   "metadata": {},
   "outputs": [
    {
     "data": {
      "text/plain": [
       "5"
      ]
     },
     "execution_count": 32,
     "metadata": {},
     "output_type": "execute_result"
    }
   ],
   "source": [
    "mat_mutable = MyMutableSparse(4, 4, float([5, 8, 4, 7, 3, 1]), [1, 2, 4, 3, 3, 4], [1, 2, 4, 5, 7])\n",
    "\n",
    "mat_mutable.n_rows=5"
   ]
  }
 ],
 "metadata": {
  "kernelspec": {
   "display_name": "Julia 1.7.1",
   "language": "julia",
   "name": "julia-1.7"
  },
  "language_info": {
   "file_extension": ".jl",
   "mimetype": "application/julia",
   "name": "julia",
   "version": "1.7.1"
  }
 },
 "nbformat": 4,
 "nbformat_minor": 5
}
