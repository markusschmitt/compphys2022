{
 "cells": [
  {
   "cell_type": "markdown",
   "id": "informed-nepal",
   "metadata": {},
   "source": [
    "# Computerphysik Programmiertutorial 7a\n",
    "Prof. Dr. Matteo Rizzi und Dr. Markus Schmitt - Institut für Theoretische Physik, Universität zu Köln\n",
    "&nbsp;\n",
    "\n",
    "**Github**: [https://github.com/markusschmitt/compphys2022](https://github.com/markusschmitt/compphys2022)\n",
    "\n",
    "**Inhalt dieses Notebooks**: Geltungsbereiche von Variablen\n",
    "\n",
    "\n",
    "## Geltungsbereiche von Variablen (Scope)\n",
    "\n",
    "Der Geltungsbereich einer Variable bestimmt in welchen Teilen des Programmcodes die Variable bekannt ist. Geltungsbereiche entsprechen immer Code-Blöcken wie z.B. Funktionen oder Schleifen.\n",
    "\n",
    "Generell werden globale und lokale Variablen unterschieden. In Jupyter notebooks sind Variablen, die außerhalb von Code-Blöcken deklariert werden, global:"
   ]
  },
  {
   "cell_type": "code",
   "execution_count": null,
   "id": "realistic-internship",
   "metadata": {
    "scrolled": true
   },
   "outputs": [],
   "source": [
    "x = 7"
   ]
  },
  {
   "cell_type": "markdown",
   "id": "medical-dress",
   "metadata": {},
   "source": [
    "**Globale Variablen** sind innerhalb von Code-Blöcken wie Funktionen bekannt:"
   ]
  },
  {
   "cell_type": "code",
   "execution_count": null,
   "id": "magnetic-iceland",
   "metadata": {},
   "outputs": [],
   "source": [
    "function print_global()\n",
    "    println(x)\n",
    "end\n",
    "\n",
    "print_global()"
   ]
  },
  {
   "cell_type": "markdown",
   "id": "neural-boston",
   "metadata": {},
   "source": [
    "**Lokale Variablen**, deren Geltungsbereich auf einen Code-Block beschränkt ist, sind außerhalb des Code-Blocks nicht bekannt:"
   ]
  },
  {
   "cell_type": "code",
   "execution_count": null,
   "id": "continent-pocket",
   "metadata": {
    "scrolled": true
   },
   "outputs": [],
   "source": [
    "function define_local(y)\n",
    "    my_local = y\n",
    "end\n",
    "\n",
    "define_local(3)\n",
    "println(my_local)"
   ]
  },
  {
   "cell_type": "code",
   "execution_count": null,
   "id": "precious-spanish",
   "metadata": {},
   "outputs": [],
   "source": [
    "for i in 1:1\n",
    "    my_local = 3\n",
    "end\n",
    "\n",
    "println()"
   ]
  },
  {
   "cell_type": "markdown",
   "id": "demonstrated-composition",
   "metadata": {},
   "source": [
    "## Hard vs. soft local\n",
    "\n",
    "Die lokalen Geltungsbereiche sind weiter unterteilt in *hard local* und *soft local*. Der Unterschied besteht darin wie mit der Zuweisung neuer Werte für globale Variablen umgegangen wird.\n",
    "\n",
    "Der Geltungsbereich innerhalb von Funktionen ist *hard local*. Das bedeutet, dass bei einer Zuweisung zu einer Variablen `x` immer eine lokale Variable mit diesem Namen angelegt wird - auch wenn bereits eine globale Variable `x` definiert ist."
   ]
  },
  {
   "cell_type": "code",
   "execution_count": null,
   "id": "golden-istanbul",
   "metadata": {},
   "outputs": [],
   "source": [
    "function f(y)\n",
    "    x=y\n",
    "    println(\"x in f: \", x)\n",
    "end\n",
    "\n",
    "f(3)\n",
    "println(\"x am Ende: \", x)"
   ]
  },
  {
   "cell_type": "markdown",
   "id": "measured-antarctica",
   "metadata": {},
   "source": [
    "Der Geltungsbereich innerhalb von Schleifen ist *soft local*. Das bedeutet, dass bei einer Zuweisung zu einer globalen Variablen `x` der Wert der globalen Variablen geändert wird."
   ]
  },
  {
   "cell_type": "code",
   "execution_count": null,
   "id": "apparent-liability",
   "metadata": {},
   "outputs": [],
   "source": [
    "for i in 1:1\n",
    "    x=3\n",
    "end\n",
    "\n",
    "println(\"x am Ende: \", x)"
   ]
  },
  {
   "cell_type": "code",
   "execution_count": null,
   "id": "pleased-idaho",
   "metadata": {},
   "outputs": [],
   "source": [
    "sum = 0\n",
    "for i in 1:20\n",
    "    sum = sum + i\n",
    "end\n",
    "\n",
    "println(sum)"
   ]
  },
  {
   "cell_type": "markdown",
   "id": "cosmetic-subject",
   "metadata": {},
   "source": [
    "## Code-Blöcke ohne lokalen Geltungsbereich\n",
    "\n",
    "Nicht jeder Code-Block definiert einen lokalen Geltungsbereich, z.B. ein `if`-block:"
   ]
  },
  {
   "cell_type": "code",
   "execution_count": null,
   "id": "several-christian",
   "metadata": {},
   "outputs": [],
   "source": [
    "b = false\n",
    "\n",
    "if b\n",
    "    x = 23\n",
    "else\n",
    "    y = 17\n",
    "end"
   ]
  },
  {
   "cell_type": "markdown",
   "id": "consolidated-question",
   "metadata": {},
   "source": [
    "Mit `b=false` haben wir so eine neue globale Variable `y` deklariert, die auch außerhalb des `if`-Blocks bekann ist:"
   ]
  },
  {
   "cell_type": "code",
   "execution_count": null,
   "id": "engaging-professional",
   "metadata": {},
   "outputs": [],
   "source": [
    "println(y)"
   ]
  },
  {
   "cell_type": "markdown",
   "id": "honey-canon",
   "metadata": {},
   "source": [
    "**Zusammenfassung**:\n",
    "\n",
    "Für unsere Zwecke:\n",
    "\n",
    "* Funktionen - *hard local*\n",
    "* Schleifen (`for`, `while`) - *soft local*\n",
    "* `if`-Blöcke - kein eigener Geltungsbereich\n",
    "\n",
    "Eine Übersicht über Geltungsbereiche von Variablen bei weiteren Strukturen findet sich [hier](https://docs.julialang.org/en/v1/manual/variables-and-scoping/).\n",
    "\n",
    "## `local` und `global` Schlüsselwörter\n",
    "\n",
    "Um das Standardverhalten von *hard local* und *soft local* zu umgehen, können die Schlüsselwörter `local` und `global` verwendet werden.\n",
    "\n",
    "So können wir z.B. in einem Schleifenblock eine lokale Variable mit dem Namen einer existierenden globalen Variable deklarieren:"
   ]
  },
  {
   "cell_type": "code",
   "execution_count": null,
   "id": "preceding-sponsorship",
   "metadata": {},
   "outputs": [],
   "source": [
    "x = 7\n",
    "\n",
    "for i in 1:1\n",
    "    local x=3\n",
    "    println(\"x in Schleife: \", x)\n",
    "end\n",
    "\n",
    "println(\"x am Ende: \", x)"
   ]
  },
  {
   "cell_type": "markdown",
   "id": "innovative-speaking",
   "metadata": {},
   "source": [
    "Oder wir können eine globale Variable innerhalb einer Funktion deklarieren:"
   ]
  },
  {
   "cell_type": "code",
   "execution_count": null,
   "id": "refined-being",
   "metadata": {},
   "outputs": [],
   "source": [
    "function define_global(y)\n",
    "    global my_global = y\n",
    "end\n",
    "\n",
    "define_global(3)\n",
    "my_global"
   ]
  }
 ],
 "metadata": {
  "kernelspec": {
   "display_name": "Julia 1.7.1",
   "language": "julia",
   "name": "julia-1.7"
  },
  "language_info": {
   "file_extension": ".jl",
   "mimetype": "application/julia",
   "name": "julia",
   "version": "1.7.1"
  }
 },
 "nbformat": 4,
 "nbformat_minor": 5
}
