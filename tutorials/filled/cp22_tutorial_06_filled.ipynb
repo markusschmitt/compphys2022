{
 "cells": [
  {
   "cell_type": "markdown",
   "id": "informed-nepal",
   "metadata": {},
   "source": [
    "# Computerphysik Programmiertutorial 6\n",
    "Prof. Dr. Matteo Rizzi und Dr. Markus Schmitt - Institut für Theoretische Physik, Universität zu Köln\n",
    "&nbsp;\n",
    "\n",
    "\n",
    "**Github**: [https://github.com/markusschmitt/compphys2022](https://github.com/markusschmitt/compphys2022)\n",
    "\n",
    "**Inhalt dieses Notebooks**: Rechnungen geschickt sortieren, Arithmetische Intensität\n",
    "\n",
    "\n",
    "## Rechnungen geschickt sortieren\n",
    "\n",
    "Die Rechenzeit verschiedener mathematisch identischer Operationen kann sehr unterschiedlich sein. Ein Beispiel ist die Multiplikation von drei oder mehr Matrizen.\n",
    "\n",
    "Sehen wir uns das Produkt der Matrizen A (Größe $p_1\\times p_2$), B (Größe $p_2\\times p_3$) und C (Größe $p_3\\times p_4$) an:"
   ]
  },
  {
   "cell_type": "code",
   "execution_count": 1,
   "id": "continent-pocket",
   "metadata": {},
   "outputs": [],
   "source": [
    "using BenchmarkTools\n",
    "\n",
    "# Abschalten der automatischen Parallelisierung von Julia\n",
    "using LinearAlgebra\n",
    "BLAS.set_num_threads(1);\n",
    "\n",
    "p=[70,99,123,4]\n",
    "\n",
    "A=rand(p[1],p[2])\n",
    "B=rand(p[2],p[3])\n",
    "C=rand(p[3],p[4]);"
   ]
  },
  {
   "cell_type": "markdown",
   "id": "alternative-encounter",
   "metadata": {},
   "source": [
    "Messe die Zeit um das Produkt $A\\cdot B\\cdot C$ zu berechnen:"
   ]
  },
  {
   "cell_type": "code",
   "execution_count": 2,
   "id": "corresponding-calvin",
   "metadata": {},
   "outputs": [
    {
     "data": {
      "text/plain": [
       "7.302e-6"
      ]
     },
     "execution_count": 2,
     "metadata": {},
     "output_type": "execute_result"
    }
   ],
   "source": [
    "@belapsed A*B*C"
   ]
  },
  {
   "cell_type": "markdown",
   "id": "velvet-limit",
   "metadata": {},
   "source": [
    "Da Matrixmultiplikation assoziativ ist, gilt mathematisch\n",
    "\n",
    "$$A\\cdot B\\cdot C = A\\cdot (B\\cdot C)$$\n",
    "\n",
    "Timing von $A\\cdot (B\\cdot C)$:"
   ]
  },
  {
   "cell_type": "code",
   "execution_count": 3,
   "id": "suspected-oriental",
   "metadata": {},
   "outputs": [
    {
     "data": {
      "text/plain": [
       "7.3125e-6"
      ]
     },
     "execution_count": 3,
     "metadata": {},
     "output_type": "execute_result"
    }
   ],
   "source": [
    "@belapsed A*(B*C)"
   ]
  },
  {
   "cell_type": "markdown",
   "id": "oriental-occurrence",
   "metadata": {},
   "source": [
    "Timing von $(A\\cdot B)\\cdot C$:"
   ]
  },
  {
   "cell_type": "code",
   "execution_count": 4,
   "id": "possible-plaza",
   "metadata": {},
   "outputs": [
    {
     "data": {
      "text/plain": [
       "4.6292e-5"
      ]
     },
     "execution_count": 4,
     "metadata": {},
     "output_type": "execute_result"
    }
   ],
   "source": [
    "@belapsed (A*B)*C"
   ]
  },
  {
   "cell_type": "markdown",
   "id": "compact-minimum",
   "metadata": {},
   "source": [
    "Wie viele Rechenoperationen werden jeweils durchgeführt? Multiplizieren einer $p\\times q$-Matrix mit einer $q\\times r$-Matrix braucht $pqr$ Rechenoperationen.\n",
    "\n",
    "* $(A\\cdot B)\\cdot C$ kostet $p_1 p_2 p_3 + p_1p_3p_4$ Rechenoperationen\n",
    "* $A\\cdot (B\\cdot C)$ kostet $p_2 p_3 p_4 + p_1p_2p_4$ Rechenoperationen"
   ]
  },
  {
   "cell_type": "code",
   "execution_count": 5,
   "id": "renewable-examination",
   "metadata": {},
   "outputs": [
    {
     "data": {
      "text/plain": [
       "cost_a_bc (generic function with 1 method)"
      ]
     },
     "execution_count": 5,
     "metadata": {},
     "output_type": "execute_result"
    }
   ],
   "source": [
    "cost_ab_c(p) = p[1]*p[2]*p[3] + p[1]*p[3]*p[4]\n",
    "cost_a_bc(p) = p[2]*p[3]*p[4] + p[1]*p[2]*p[4]"
   ]
  },
  {
   "cell_type": "markdown",
   "id": "particular-queue",
   "metadata": {},
   "source": [
    "Anzahl Rechenoperationen für $(A\\cdot B)\\cdot C$:"
   ]
  },
  {
   "cell_type": "code",
   "execution_count": 6,
   "id": "corporate-honey",
   "metadata": {},
   "outputs": [
    {
     "data": {
      "text/plain": [
       "886830"
      ]
     },
     "execution_count": 6,
     "metadata": {},
     "output_type": "execute_result"
    }
   ],
   "source": [
    "cost_ab_c(p)"
   ]
  },
  {
   "cell_type": "markdown",
   "id": "revised-typing",
   "metadata": {},
   "source": [
    "Anzahl Rechenoperationen für $A\\cdot (B\\cdot C)$:"
   ]
  },
  {
   "cell_type": "code",
   "execution_count": 7,
   "id": "minor-bulgaria",
   "metadata": {
    "scrolled": true
   },
   "outputs": [
    {
     "data": {
      "text/plain": [
       "76428"
      ]
     },
     "execution_count": 7,
     "metadata": {},
     "output_type": "execute_result"
    }
   ],
   "source": [
    "cost_a_bc(p)"
   ]
  },
  {
   "cell_type": "markdown",
   "id": "infinite-sheet",
   "metadata": {},
   "source": [
    "**Ergebnis:** Der Faktor 10 im Laufzeitunterschied entspricht in etwa dem Unterschied in der Zahl an Rechenoperationen"
   ]
  },
  {
   "cell_type": "markdown",
   "id": "computational-reasoning",
   "metadata": {},
   "source": [
    "## Arithmetische Intensität\n",
    "\n",
    "Neben den eigentlichen Rechnungen können auch Speicherzugriffe die Operation sein, die den Preis einer Rechnung bestimmen. Das Lesen und Schreiben von Daten im Speicher ist generell teuer. Diese Operationen sind *mindestens* $10\\times$ langsamer als eine Fließkommarechnung.\n",
    "\n",
    "Die Geschwindigkeit einer Rechnung kann also generell entweder durch die Frequenz elementarer Rechenoperationen (*compute-bound*) oder durch die maximale Geschwindigkeit von Speicherzugriffen (*compute-bound*) beschränkt sein. Welcher der beiden Fälle auf einen bestimmten Algorithmus zutrifft wird durch die **arithmetische Intensität** angezeigt. Die arithmetische Intensität ist definiert als die Zahl der Rechenoperationen pro Menge der gelesenen/geschriebenen Daten:\n",
    "\n",
    "$$I_A=\\frac{\\text{# Rechenoperationen}}{\\text{# gelesene/geschriebene Daten}} \\text{ [1/Byte]}$$\n",
    "\n",
    "* Eine hohe arithmetische Intensität bedeutet, dass viele Rechnungen pro Speicherzugriff ausgeführt werden - der Algorithmus ist daher *compute-bound*.\n",
    "\n",
    "* Eine niedrige arithmetische Intensität bedeutet, dass viele Speicherzugriffe pro Rechnung ausgeführt werden - der Algorithmus ist daher *memory-bound*.\n",
    "\n",
    "### Beispiel: Matrix-Matrix Multiplikation\n",
    "\n",
    "Die Multiplikation einer $p\\times p$-Matrix mit einer $p\\times q$-Matrix kostet $2p^2q$ elementare Rechenoperationen. Gleichzeitig müssen beide Matrizen aus dem Speicher ausgelesen werden und das Ergebnis muss im Speicher abgelegt werden. Das ergibt $p^2+2pq$ Speicherzugriffe. Die arithmetische Intensität ist also\n",
    "\n",
    "$$I_A\\propto\\frac{p^2q}{p^2+2pq}$$\n",
    "\n",
    "Wir nehmen an, dass $p\\gg1$. Daraus ergeben sich zwei interessante Grenzfälle, abhängig von $q$:\n",
    "\n",
    "$$\n",
    "I_A\\propto\n",
    "\\begin{cases}\n",
    "q&\\text{if }q\\ll p\\\\\n",
    "p&\\text{if }p\\approx q\n",
    "\\end{cases}\n",
    "$$\n",
    "\n",
    "Wir haben also geringe arithmetische Intensität, falls $q$ klein ist, und große arithmetische Intensität, falls $p$ und $q$ ähnlich groß sind.\n",
    "\n",
    "Im folgenden Experiment messen wir die Rechenzeit von Matrix-Matrix Multiplikationen in Abhängigkeit von $q$:"
   ]
  },
  {
   "cell_type": "code",
   "execution_count": 8,
   "id": "loose-somewhere",
   "metadata": {},
   "outputs": [
    {
     "name": "stdout",
     "output_type": "stream",
     "text": [
      "2 0.00447075\n",
      "4 0.002122125\n",
      "8 0.002686375\n",
      "16 0.004532083\n",
      "32 0.006574625\n",
      "64 0.011843291\n",
      "128 0.022487166\n",
      "256 0.043901125\n",
      "512 0.087194375\n",
      "1024 0.176905042\n",
      "2048 0.351348083\n",
      "4096 0.736525541\n",
      "8192 1.4174205\n",
      "16384 2.827125875\n"
     ]
    }
   ],
   "source": [
    "p=2000\n",
    "qs = [2^j for j in 1:14]\n",
    "\n",
    "A=rand(p,p)\n",
    "\n",
    "times=[]\n",
    "\n",
    "for q in qs\n",
    "    B=rand(p,q)\n",
    "    \n",
    "    time=@elapsed A*B\n",
    "    push!(times, time)\n",
    "    println(\"$q $time\")\n",
    "end"
   ]
  },
  {
   "cell_type": "code",
   "execution_count": 9,
   "id": "faced-invasion",
   "metadata": {
    "scrolled": false
   },
   "outputs": [
    {
     "data": {
      "image/svg+xml": [
       "<?xml version=\"1.0\" encoding=\"utf-8\"?>\n",
       "<svg xmlns=\"http://www.w3.org/2000/svg\" xmlns:xlink=\"http://www.w3.org/1999/xlink\" width=\"600\" height=\"400\" viewBox=\"0 0 2400 1600\">\n",
       "<defs>\n",
       "  <clipPath id=\"clip620\">\n",
       "    <rect x=\"0\" y=\"0\" width=\"2400\" height=\"1600\"/>\n",
       "  </clipPath>\n",
       "</defs>\n",
       "<path clip-path=\"url(#clip620)\" d=\"\n",
       "M0 1600 L2400 1600 L2400 0 L0 0  Z\n",
       "  \" fill=\"#ffffff\" fill-rule=\"evenodd\" fill-opacity=\"1\"/>\n",
       "<defs>\n",
       "  <clipPath id=\"clip621\">\n",
       "    <rect x=\"480\" y=\"0\" width=\"1681\" height=\"1600\"/>\n",
       "  </clipPath>\n",
       "</defs>\n",
       "<path clip-path=\"url(#clip620)\" d=\"\n",
       "M219.38 1410.9 L2352.76 1410.9 L2352.76 47.2441 L219.38 47.2441  Z\n",
       "  \" fill=\"#ffffff\" fill-rule=\"evenodd\" fill-opacity=\"1\"/>\n",
       "<defs>\n",
       "  <clipPath id=\"clip622\">\n",
       "    <rect x=\"219\" y=\"47\" width=\"2134\" height=\"1365\"/>\n",
       "  </clipPath>\n",
       "</defs>\n",
       "<polyline clip-path=\"url(#clip622)\" style=\"stroke:#000000; stroke-linecap:butt; stroke-linejoin:round; stroke-width:2; stroke-opacity:0.1; fill:none\" points=\"\n",
       "  279.513,1410.9 279.513,47.2441 \n",
       "  \"/>\n",
       "<polyline clip-path=\"url(#clip622)\" style=\"stroke:#000000; stroke-linecap:butt; stroke-linejoin:round; stroke-width:2; stroke-opacity:0.1; fill:none\" points=\"\n",
       "  893.79,1410.9 893.79,47.2441 \n",
       "  \"/>\n",
       "<polyline clip-path=\"url(#clip622)\" style=\"stroke:#000000; stroke-linecap:butt; stroke-linejoin:round; stroke-width:2; stroke-opacity:0.1; fill:none\" points=\"\n",
       "  1508.07,1410.9 1508.07,47.2441 \n",
       "  \"/>\n",
       "<polyline clip-path=\"url(#clip622)\" style=\"stroke:#000000; stroke-linecap:butt; stroke-linejoin:round; stroke-width:2; stroke-opacity:0.1; fill:none\" points=\"\n",
       "  2122.35,1410.9 2122.35,47.2441 \n",
       "  \"/>\n",
       "<polyline clip-path=\"url(#clip620)\" style=\"stroke:#000000; stroke-linecap:butt; stroke-linejoin:round; stroke-width:4; stroke-opacity:1; fill:none\" points=\"\n",
       "  219.38,1410.9 2352.76,1410.9 \n",
       "  \"/>\n",
       "<polyline clip-path=\"url(#clip620)\" style=\"stroke:#000000; stroke-linecap:butt; stroke-linejoin:round; stroke-width:4; stroke-opacity:1; fill:none\" points=\"\n",
       "  279.513,1410.9 279.513,1392 \n",
       "  \"/>\n",
       "<polyline clip-path=\"url(#clip620)\" style=\"stroke:#000000; stroke-linecap:butt; stroke-linejoin:round; stroke-width:4; stroke-opacity:1; fill:none\" points=\"\n",
       "  893.79,1410.9 893.79,1392 \n",
       "  \"/>\n",
       "<polyline clip-path=\"url(#clip620)\" style=\"stroke:#000000; stroke-linecap:butt; stroke-linejoin:round; stroke-width:4; stroke-opacity:1; fill:none\" points=\"\n",
       "  1508.07,1410.9 1508.07,1392 \n",
       "  \"/>\n",
       "<polyline clip-path=\"url(#clip620)\" style=\"stroke:#000000; stroke-linecap:butt; stroke-linejoin:round; stroke-width:4; stroke-opacity:1; fill:none\" points=\"\n",
       "  2122.35,1410.9 2122.35,1392 \n",
       "  \"/>\n",
       "<path clip-path=\"url(#clip620)\" d=\"M279.513 1441.82 Q275.902 1441.82 274.073 1445.38 Q272.268 1448.92 272.268 1456.05 Q272.268 1463.16 274.073 1466.72 Q275.902 1470.26 279.513 1470.26 Q283.147 1470.26 284.953 1466.72 Q286.781 1463.16 286.781 1456.05 Q286.781 1448.92 284.953 1445.38 Q283.147 1441.82 279.513 1441.82 M279.513 1438.11 Q285.323 1438.11 288.379 1442.72 Q291.457 1447.3 291.457 1456.05 Q291.457 1464.78 288.379 1469.38 Q285.323 1473.97 279.513 1473.97 Q273.703 1473.97 270.624 1469.38 Q267.569 1464.78 267.569 1456.05 Q267.569 1447.3 270.624 1442.72 Q273.703 1438.11 279.513 1438.11 Z\" fill=\"#000000\" fill-rule=\"evenodd\" fill-opacity=\"1\" /><path clip-path=\"url(#clip620)\" d=\"M786.607 1454.4 L804.964 1454.4 L804.964 1458.33 L790.89 1458.33 L790.89 1466.8 Q791.908 1466.46 792.927 1466.29 Q793.945 1466.11 794.964 1466.11 Q800.751 1466.11 804.13 1469.28 Q807.51 1472.45 807.51 1477.87 Q807.51 1483.45 804.038 1486.55 Q800.565 1489.63 794.246 1489.63 Q792.07 1489.63 789.802 1489.26 Q787.556 1488.89 785.149 1488.15 L785.149 1483.45 Q787.232 1484.58 789.454 1485.14 Q791.677 1485.69 794.153 1485.69 Q798.158 1485.69 800.496 1483.59 Q802.834 1481.48 802.834 1477.87 Q802.834 1474.26 800.496 1472.15 Q798.158 1470.04 794.153 1470.04 Q792.278 1470.04 790.403 1470.46 Q788.552 1470.88 786.607 1471.76 L786.607 1454.4 Z\" fill=\"#000000\" fill-rule=\"evenodd\" fill-opacity=\"1\" /><path clip-path=\"url(#clip620)\" d=\"M816.723 1483.08 L821.607 1483.08 L821.607 1488.96 L816.723 1488.96 L816.723 1483.08 Z\" fill=\"#000000\" fill-rule=\"evenodd\" fill-opacity=\"1\" /><path clip-path=\"url(#clip620)\" d=\"M841.792 1457.48 Q838.181 1457.48 836.352 1461.04 Q834.547 1464.58 834.547 1471.71 Q834.547 1478.82 836.352 1482.38 Q838.181 1485.92 841.792 1485.92 Q845.426 1485.92 847.232 1482.38 Q849.061 1478.82 849.061 1471.71 Q849.061 1464.58 847.232 1461.04 Q845.426 1457.48 841.792 1457.48 M841.792 1453.77 Q847.602 1453.77 850.658 1458.38 Q853.736 1462.96 853.736 1471.71 Q853.736 1480.44 850.658 1485.04 Q847.602 1489.63 841.792 1489.63 Q835.982 1489.63 832.903 1485.04 Q829.848 1480.44 829.848 1471.71 Q829.848 1462.96 832.903 1458.38 Q835.982 1453.77 841.792 1453.77 Z\" fill=\"#000000\" fill-rule=\"evenodd\" fill-opacity=\"1\" /><path clip-path=\"url(#clip620)\" d=\"M871.954 1457.48 Q868.343 1457.48 866.514 1461.04 Q864.709 1464.58 864.709 1471.71 Q864.709 1478.82 866.514 1482.38 Q868.343 1485.92 871.954 1485.92 Q875.588 1485.92 877.394 1482.38 Q879.222 1478.82 879.222 1471.71 Q879.222 1464.58 877.394 1461.04 Q875.588 1457.48 871.954 1457.48 M871.954 1453.77 Q877.764 1453.77 880.82 1458.38 Q883.898 1462.96 883.898 1471.71 Q883.898 1480.44 880.82 1485.04 Q877.764 1489.63 871.954 1489.63 Q866.144 1489.63 863.065 1485.04 Q860.01 1480.44 860.01 1471.71 Q860.01 1462.96 863.065 1458.38 Q866.144 1453.77 871.954 1453.77 Z\" fill=\"#000000\" fill-rule=\"evenodd\" fill-opacity=\"1\" /><path clip-path=\"url(#clip620)\" d=\"M920.287 1463.49 L909.708 1474.12 L920.287 1484.7 L917.532 1487.5 L906.907 1476.87 L896.282 1487.5 L893.551 1484.7 L904.107 1474.12 L893.551 1463.49 L896.282 1460.69 L906.907 1471.32 L917.532 1460.69 L920.287 1463.49 Z\" fill=\"#000000\" fill-rule=\"evenodd\" fill-opacity=\"1\" /><path clip-path=\"url(#clip620)\" d=\"M932.648 1485.02 L940.287 1485.02 L940.287 1458.66 L931.977 1460.32 L931.977 1456.06 L940.241 1454.4 L944.916 1454.4 L944.916 1485.02 L952.555 1485.02 L952.555 1488.96 L932.648 1488.96 L932.648 1485.02 Z\" fill=\"#000000\" fill-rule=\"evenodd\" fill-opacity=\"1\" /><path clip-path=\"url(#clip620)\" d=\"M972 1457.48 Q968.389 1457.48 966.56 1461.04 Q964.754 1464.58 964.754 1471.71 Q964.754 1478.82 966.56 1482.38 Q968.389 1485.92 972 1485.92 Q975.634 1485.92 977.439 1482.38 Q979.268 1478.82 979.268 1471.71 Q979.268 1464.58 977.439 1461.04 Q975.634 1457.48 972 1457.48 M972 1453.77 Q977.81 1453.77 980.865 1458.38 Q983.944 1462.96 983.944 1471.71 Q983.944 1480.44 980.865 1485.04 Q977.81 1489.63 972 1489.63 Q966.19 1489.63 963.111 1485.04 Q960.055 1480.44 960.055 1471.71 Q960.055 1462.96 963.111 1458.38 Q966.19 1453.77 972 1453.77 Z\" fill=\"#000000\" fill-rule=\"evenodd\" fill-opacity=\"1\" /><path clip-path=\"url(#clip620)\" d=\"M996.639 1446.41 Q999.366 1446.99 1000.89 1448.83 Q1002.43 1450.68 1002.43 1453.38 Q1002.43 1457.54 999.573 1459.82 Q996.715 1462.09 991.448 1462.09 Q989.68 1462.09 987.8 1461.73 Q985.938 1461.4 983.944 1460.7 L983.944 1457.03 Q985.524 1457.95 987.405 1458.42 Q989.285 1458.89 991.336 1458.89 Q994.909 1458.89 996.771 1457.48 Q998.652 1456.07 998.652 1453.38 Q998.652 1450.9 996.903 1449.51 Q995.172 1448.1 992.069 1448.1 L988.796 1448.1 L988.796 1444.98 L992.219 1444.98 Q995.022 1444.98 996.508 1443.87 Q997.993 1442.74 997.993 1440.63 Q997.993 1438.47 996.451 1437.32 Q994.928 1436.16 992.069 1436.16 Q990.508 1436.16 988.721 1436.49 Q986.934 1436.83 984.79 1437.55 L984.79 1434.16 Q986.953 1433.56 988.834 1433.26 Q990.734 1432.96 992.408 1432.96 Q996.733 1432.96 999.254 1434.93 Q1001.77 1436.89 1001.77 1440.24 Q1001.77 1442.57 1000.44 1444.19 Q999.103 1445.79 996.639 1446.41 Z\" fill=\"#000000\" fill-rule=\"evenodd\" fill-opacity=\"1\" /><path clip-path=\"url(#clip620)\" d=\"M1399.89 1485.02 L1407.52 1485.02 L1407.52 1458.66 L1399.21 1460.32 L1399.21 1456.06 L1407.48 1454.4 L1412.15 1454.4 L1412.15 1485.02 L1419.79 1485.02 L1419.79 1488.96 L1399.89 1488.96 L1399.89 1485.02 Z\" fill=\"#000000\" fill-rule=\"evenodd\" fill-opacity=\"1\" /><path clip-path=\"url(#clip620)\" d=\"M1429.24 1483.08 L1434.12 1483.08 L1434.12 1488.96 L1429.24 1488.96 L1429.24 1483.08 Z\" fill=\"#000000\" fill-rule=\"evenodd\" fill-opacity=\"1\" /><path clip-path=\"url(#clip620)\" d=\"M1454.31 1457.48 Q1450.7 1457.48 1448.87 1461.04 Q1447.06 1464.58 1447.06 1471.71 Q1447.06 1478.82 1448.87 1482.38 Q1450.7 1485.92 1454.31 1485.92 Q1457.94 1485.92 1459.75 1482.38 Q1461.58 1478.82 1461.58 1471.71 Q1461.58 1464.58 1459.75 1461.04 Q1457.94 1457.48 1454.31 1457.48 M1454.31 1453.77 Q1460.12 1453.77 1463.17 1458.38 Q1466.25 1462.96 1466.25 1471.71 Q1466.25 1480.44 1463.17 1485.04 Q1460.12 1489.63 1454.31 1489.63 Q1448.5 1489.63 1445.42 1485.04 Q1442.36 1480.44 1442.36 1471.71 Q1442.36 1462.96 1445.42 1458.38 Q1448.5 1453.77 1454.31 1453.77 Z\" fill=\"#000000\" fill-rule=\"evenodd\" fill-opacity=\"1\" /><path clip-path=\"url(#clip620)\" d=\"M1484.47 1457.48 Q1480.86 1457.48 1479.03 1461.04 Q1477.22 1464.58 1477.22 1471.71 Q1477.22 1478.82 1479.03 1482.38 Q1480.86 1485.92 1484.47 1485.92 Q1488.1 1485.92 1489.91 1482.38 Q1491.74 1478.82 1491.74 1471.71 Q1491.74 1464.58 1489.91 1461.04 Q1488.1 1457.48 1484.47 1457.48 M1484.47 1453.77 Q1490.28 1453.77 1493.33 1458.38 Q1496.41 1462.96 1496.41 1471.71 Q1496.41 1480.44 1493.33 1485.04 Q1490.28 1489.63 1484.47 1489.63 Q1478.66 1489.63 1475.58 1485.04 Q1472.52 1480.44 1472.52 1471.71 Q1472.52 1462.96 1475.58 1458.38 Q1478.66 1453.77 1484.47 1453.77 Z\" fill=\"#000000\" fill-rule=\"evenodd\" fill-opacity=\"1\" /><path clip-path=\"url(#clip620)\" d=\"M1532.8 1463.49 L1522.22 1474.12 L1532.8 1484.7 L1530.05 1487.5 L1519.42 1476.87 L1508.8 1487.5 L1506.07 1484.7 L1516.62 1474.12 L1506.07 1463.49 L1508.8 1460.69 L1519.42 1471.32 L1530.05 1460.69 L1532.8 1463.49 Z\" fill=\"#000000\" fill-rule=\"evenodd\" fill-opacity=\"1\" /><path clip-path=\"url(#clip620)\" d=\"M1545.16 1485.02 L1552.8 1485.02 L1552.8 1458.66 L1544.49 1460.32 L1544.49 1456.06 L1552.76 1454.4 L1557.43 1454.4 L1557.43 1485.02 L1565.07 1485.02 L1565.07 1488.96 L1545.16 1488.96 L1545.16 1485.02 Z\" fill=\"#000000\" fill-rule=\"evenodd\" fill-opacity=\"1\" /><path clip-path=\"url(#clip620)\" d=\"M1584.51 1457.48 Q1580.9 1457.48 1579.07 1461.04 Q1577.27 1464.58 1577.27 1471.71 Q1577.27 1478.82 1579.07 1482.38 Q1580.9 1485.92 1584.51 1485.92 Q1588.15 1485.92 1589.95 1482.38 Q1591.78 1478.82 1591.78 1471.71 Q1591.78 1464.58 1589.95 1461.04 Q1588.15 1457.48 1584.51 1457.48 M1584.51 1453.77 Q1590.32 1453.77 1593.38 1458.38 Q1596.46 1462.96 1596.46 1471.71 Q1596.46 1480.44 1593.38 1485.04 Q1590.32 1489.63 1584.51 1489.63 Q1578.7 1489.63 1575.63 1485.04 Q1572.57 1480.44 1572.57 1471.71 Q1572.57 1462.96 1575.63 1458.38 Q1578.7 1453.77 1584.51 1453.77 Z\" fill=\"#000000\" fill-rule=\"evenodd\" fill-opacity=\"1\" /><path clip-path=\"url(#clip620)\" d=\"M1609.14 1436.78 L1599.54 1451.77 L1609.14 1451.77 L1609.14 1436.78 M1608.14 1433.47 L1612.92 1433.47 L1612.92 1451.77 L1616.92 1451.77 L1616.92 1454.93 L1612.92 1454.93 L1612.92 1461.55 L1609.14 1461.55 L1609.14 1454.93 L1596.46 1454.93 L1596.46 1451.26 L1608.14 1433.47 Z\" fill=\"#000000\" fill-rule=\"evenodd\" fill-opacity=\"1\" /><path clip-path=\"url(#clip620)\" d=\"M2014.16 1485.02 L2021.8 1485.02 L2021.8 1458.66 L2013.49 1460.32 L2013.49 1456.06 L2021.76 1454.4 L2026.43 1454.4 L2026.43 1485.02 L2034.07 1485.02 L2034.07 1488.96 L2014.16 1488.96 L2014.16 1485.02 Z\" fill=\"#000000\" fill-rule=\"evenodd\" fill-opacity=\"1\" /><path clip-path=\"url(#clip620)\" d=\"M2043.51 1483.08 L2048.4 1483.08 L2048.4 1488.96 L2043.51 1488.96 L2043.51 1483.08 Z\" fill=\"#000000\" fill-rule=\"evenodd\" fill-opacity=\"1\" /><path clip-path=\"url(#clip620)\" d=\"M2058.63 1454.4 L2076.99 1454.4 L2076.99 1458.33 L2062.91 1458.33 L2062.91 1466.8 Q2063.93 1466.46 2064.95 1466.29 Q2065.97 1466.11 2066.99 1466.11 Q2072.77 1466.11 2076.15 1469.28 Q2079.53 1472.45 2079.53 1477.87 Q2079.53 1483.45 2076.06 1486.55 Q2072.59 1489.63 2066.27 1489.63 Q2064.09 1489.63 2061.82 1489.26 Q2059.58 1488.89 2057.17 1488.15 L2057.17 1483.45 Q2059.26 1484.58 2061.48 1485.14 Q2063.7 1485.69 2066.18 1485.69 Q2070.18 1485.69 2072.52 1483.59 Q2074.86 1481.48 2074.86 1477.87 Q2074.86 1474.26 2072.52 1472.15 Q2070.18 1470.04 2066.18 1470.04 Q2064.3 1470.04 2062.43 1470.46 Q2060.57 1470.88 2058.63 1471.76 L2058.63 1454.4 Z\" fill=\"#000000\" fill-rule=\"evenodd\" fill-opacity=\"1\" /><path clip-path=\"url(#clip620)\" d=\"M2098.75 1457.48 Q2095.13 1457.48 2093.31 1461.04 Q2091.5 1464.58 2091.5 1471.71 Q2091.5 1478.82 2093.31 1482.38 Q2095.13 1485.92 2098.75 1485.92 Q2102.38 1485.92 2104.19 1482.38 Q2106.01 1478.82 2106.01 1471.71 Q2106.01 1464.58 2104.19 1461.04 Q2102.38 1457.48 2098.75 1457.48 M2098.75 1453.77 Q2104.56 1453.77 2107.61 1458.38 Q2110.69 1462.96 2110.69 1471.71 Q2110.69 1480.44 2107.61 1485.04 Q2104.56 1489.63 2098.75 1489.63 Q2092.94 1489.63 2089.86 1485.04 Q2086.8 1480.44 2086.8 1471.71 Q2086.8 1462.96 2089.86 1458.38 Q2092.94 1453.77 2098.75 1453.77 Z\" fill=\"#000000\" fill-rule=\"evenodd\" fill-opacity=\"1\" /><path clip-path=\"url(#clip620)\" d=\"M2147.08 1463.49 L2136.5 1474.12 L2147.08 1484.7 L2144.32 1487.5 L2133.7 1476.87 L2123.07 1487.5 L2120.34 1484.7 L2130.9 1474.12 L2120.34 1463.49 L2123.07 1460.69 L2133.7 1471.32 L2144.32 1460.69 L2147.08 1463.49 Z\" fill=\"#000000\" fill-rule=\"evenodd\" fill-opacity=\"1\" /><path clip-path=\"url(#clip620)\" d=\"M2159.44 1485.02 L2167.08 1485.02 L2167.08 1458.66 L2158.77 1460.32 L2158.77 1456.06 L2167.03 1454.4 L2171.71 1454.4 L2171.71 1485.02 L2179.35 1485.02 L2179.35 1488.96 L2159.44 1488.96 L2159.44 1485.02 Z\" fill=\"#000000\" fill-rule=\"evenodd\" fill-opacity=\"1\" /><path clip-path=\"url(#clip620)\" d=\"M2198.79 1457.48 Q2195.18 1457.48 2193.35 1461.04 Q2191.55 1464.58 2191.55 1471.71 Q2191.55 1478.82 2193.35 1482.38 Q2195.18 1485.92 2198.79 1485.92 Q2202.43 1485.92 2204.23 1482.38 Q2206.06 1478.82 2206.06 1471.71 Q2206.06 1464.58 2204.23 1461.04 Q2202.43 1457.48 2198.79 1457.48 M2198.79 1453.77 Q2204.6 1453.77 2207.66 1458.38 Q2210.74 1462.96 2210.74 1471.71 Q2210.74 1480.44 2207.66 1485.04 Q2204.6 1489.63 2198.79 1489.63 Q2192.98 1489.63 2189.9 1485.04 Q2186.85 1480.44 2186.85 1471.71 Q2186.85 1462.96 2189.9 1458.38 Q2192.98 1453.77 2198.79 1453.77 Z\" fill=\"#000000\" fill-rule=\"evenodd\" fill-opacity=\"1\" /><path clip-path=\"url(#clip620)\" d=\"M2223.41 1436.78 L2213.82 1451.77 L2223.41 1451.77 L2223.41 1436.78 M2222.42 1433.47 L2227.19 1433.47 L2227.19 1451.77 L2231.2 1451.77 L2231.2 1454.93 L2227.19 1454.93 L2227.19 1461.55 L2223.41 1461.55 L2223.41 1454.93 L2210.74 1454.93 L2210.74 1451.26 L2222.42 1433.47 Z\" fill=\"#000000\" fill-rule=\"evenodd\" fill-opacity=\"1\" /><path clip-path=\"url(#clip620)\" d=\"M1298.69 1541.98 L1289.57 1578.66 Q1289.32 1579.82 1289.32 1580.11 Q1289.32 1580.5 1289.41 1580.66 Q1289.54 1580.85 1290.25 1581.01 Q1290.99 1581.17 1292.47 1581.17 Q1293.02 1581.17 1293.21 1581.17 Q1293.41 1581.17 1293.7 1581.24 Q1293.99 1581.3 1294.08 1581.46 Q1294.18 1581.62 1294.18 1581.88 Q1294.18 1583.2 1293.02 1583.2 Q1291.92 1583.2 1289.64 1583.1 Q1287.35 1583.01 1286.22 1583.01 Q1285.13 1583.01 1282.91 1583.1 Q1280.69 1583.2 1279.62 1583.2 Q1279.24 1583.2 1279.01 1583.01 Q1278.78 1582.85 1278.78 1582.65 L1278.75 1582.49 Q1278.75 1581.59 1279.11 1581.36 Q1279.46 1581.17 1280.27 1581.17 Q1283.04 1581.14 1283.84 1580.75 Q1284.65 1580.37 1285.03 1578.98 L1288 1567.19 Q1284.03 1571.16 1280.2 1571.16 Q1276.5 1571.16 1273.99 1568.26 Q1271.51 1565.33 1271.51 1560.59 Q1271.51 1557.08 1272.89 1553.54 Q1274.31 1550 1276.5 1547.32 Q1278.72 1544.65 1281.62 1542.98 Q1284.52 1541.27 1287.38 1541.27 Q1289.22 1541.27 1290.86 1542.33 Q1292.54 1543.39 1293.54 1545.87 Q1294.37 1544.46 1295.92 1542.91 Q1297.46 1541.33 1298.01 1541.33 Q1298.33 1541.33 1298.49 1541.56 Q1298.69 1541.75 1298.69 1541.98 M1292.6 1548.51 Q1292.6 1548.19 1292.34 1547.39 Q1292.12 1546.58 1291.6 1545.49 Q1291.12 1544.36 1289.99 1543.56 Q1288.87 1542.72 1287.38 1542.72 Q1285.26 1542.72 1282.97 1544.78 Q1280.72 1546.81 1279.24 1550.35 Q1278.3 1552.67 1277.24 1556.98 Q1276.18 1561.3 1276.18 1563.49 Q1276.18 1564.01 1276.21 1564.59 Q1276.27 1565.17 1276.53 1566.13 Q1276.79 1567.1 1277.17 1567.84 Q1277.59 1568.58 1278.43 1569.13 Q1279.27 1569.67 1280.4 1569.67 Q1282.84 1569.67 1285.29 1567.58 Q1287.74 1565.49 1288.77 1563.62 Q1288.9 1563.43 1290.73 1556.12 Q1292.6 1548.8 1292.6 1548.51 Z\" fill=\"#000000\" fill-rule=\"evenodd\" fill-opacity=\"1\" /><polyline clip-path=\"url(#clip622)\" style=\"stroke:#000000; stroke-linecap:butt; stroke-linejoin:round; stroke-width:2; stroke-opacity:0.1; fill:none\" points=\"\n",
       "  219.38,1373.27 2352.76,1373.27 \n",
       "  \"/>\n",
       "<polyline clip-path=\"url(#clip622)\" style=\"stroke:#000000; stroke-linecap:butt; stroke-linejoin:round; stroke-width:2; stroke-opacity:0.1; fill:none\" points=\"\n",
       "  219.38,1145.58 2352.76,1145.58 \n",
       "  \"/>\n",
       "<polyline clip-path=\"url(#clip622)\" style=\"stroke:#000000; stroke-linecap:butt; stroke-linejoin:round; stroke-width:2; stroke-opacity:0.1; fill:none\" points=\"\n",
       "  219.38,917.884 2352.76,917.884 \n",
       "  \"/>\n",
       "<polyline clip-path=\"url(#clip622)\" style=\"stroke:#000000; stroke-linecap:butt; stroke-linejoin:round; stroke-width:2; stroke-opacity:0.1; fill:none\" points=\"\n",
       "  219.38,690.191 2352.76,690.191 \n",
       "  \"/>\n",
       "<polyline clip-path=\"url(#clip622)\" style=\"stroke:#000000; stroke-linecap:butt; stroke-linejoin:round; stroke-width:2; stroke-opacity:0.1; fill:none\" points=\"\n",
       "  219.38,462.499 2352.76,462.499 \n",
       "  \"/>\n",
       "<polyline clip-path=\"url(#clip622)\" style=\"stroke:#000000; stroke-linecap:butt; stroke-linejoin:round; stroke-width:2; stroke-opacity:0.1; fill:none\" points=\"\n",
       "  219.38,234.806 2352.76,234.806 \n",
       "  \"/>\n",
       "<polyline clip-path=\"url(#clip620)\" style=\"stroke:#000000; stroke-linecap:butt; stroke-linejoin:round; stroke-width:4; stroke-opacity:1; fill:none\" points=\"\n",
       "  219.38,1410.9 219.38,47.2441 \n",
       "  \"/>\n",
       "<polyline clip-path=\"url(#clip620)\" style=\"stroke:#000000; stroke-linecap:butt; stroke-linejoin:round; stroke-width:4; stroke-opacity:1; fill:none\" points=\"\n",
       "  219.38,1373.27 238.278,1373.27 \n",
       "  \"/>\n",
       "<polyline clip-path=\"url(#clip620)\" style=\"stroke:#000000; stroke-linecap:butt; stroke-linejoin:round; stroke-width:4; stroke-opacity:1; fill:none\" points=\"\n",
       "  219.38,1145.58 238.278,1145.58 \n",
       "  \"/>\n",
       "<polyline clip-path=\"url(#clip620)\" style=\"stroke:#000000; stroke-linecap:butt; stroke-linejoin:round; stroke-width:4; stroke-opacity:1; fill:none\" points=\"\n",
       "  219.38,917.884 238.278,917.884 \n",
       "  \"/>\n",
       "<polyline clip-path=\"url(#clip620)\" style=\"stroke:#000000; stroke-linecap:butt; stroke-linejoin:round; stroke-width:4; stroke-opacity:1; fill:none\" points=\"\n",
       "  219.38,690.191 238.278,690.191 \n",
       "  \"/>\n",
       "<polyline clip-path=\"url(#clip620)\" style=\"stroke:#000000; stroke-linecap:butt; stroke-linejoin:round; stroke-width:4; stroke-opacity:1; fill:none\" points=\"\n",
       "  219.38,462.499 238.278,462.499 \n",
       "  \"/>\n",
       "<polyline clip-path=\"url(#clip620)\" style=\"stroke:#000000; stroke-linecap:butt; stroke-linejoin:round; stroke-width:4; stroke-opacity:1; fill:none\" points=\"\n",
       "  219.38,234.806 238.278,234.806 \n",
       "  \"/>\n",
       "<path clip-path=\"url(#clip620)\" d=\"M126.205 1359.07 Q122.593 1359.07 120.765 1362.63 Q118.959 1366.17 118.959 1373.3 Q118.959 1380.41 120.765 1383.98 Q122.593 1387.52 126.205 1387.52 Q129.839 1387.52 131.644 1383.98 Q133.473 1380.41 133.473 1373.3 Q133.473 1366.17 131.644 1362.63 Q129.839 1359.07 126.205 1359.07 M126.205 1355.36 Q132.015 1355.36 135.07 1359.97 Q138.149 1364.55 138.149 1373.3 Q138.149 1382.03 135.07 1386.64 Q132.015 1391.22 126.205 1391.22 Q120.394 1391.22 117.316 1386.64 Q114.26 1382.03 114.26 1373.3 Q114.26 1364.55 117.316 1359.97 Q120.394 1355.36 126.205 1355.36 Z\" fill=\"#000000\" fill-rule=\"evenodd\" fill-opacity=\"1\" /><path clip-path=\"url(#clip620)\" d=\"M146.366 1384.67 L151.251 1384.67 L151.251 1390.55 L146.366 1390.55 L146.366 1384.67 Z\" fill=\"#000000\" fill-rule=\"evenodd\" fill-opacity=\"1\" /><path clip-path=\"url(#clip620)\" d=\"M171.436 1359.07 Q167.825 1359.07 165.996 1362.63 Q164.19 1366.17 164.19 1373.3 Q164.19 1380.41 165.996 1383.98 Q167.825 1387.52 171.436 1387.52 Q175.07 1387.52 176.876 1383.98 Q178.704 1380.41 178.704 1373.3 Q178.704 1366.17 176.876 1362.63 Q175.07 1359.07 171.436 1359.07 M171.436 1355.36 Q177.246 1355.36 180.301 1359.97 Q183.38 1364.55 183.38 1373.3 Q183.38 1382.03 180.301 1386.64 Q177.246 1391.22 171.436 1391.22 Q165.626 1391.22 162.547 1386.64 Q159.491 1382.03 159.491 1373.3 Q159.491 1364.55 162.547 1359.97 Q165.626 1355.36 171.436 1355.36 Z\" fill=\"#000000\" fill-rule=\"evenodd\" fill-opacity=\"1\" /><path clip-path=\"url(#clip620)\" d=\"M127.2 1131.38 Q123.589 1131.38 121.76 1134.94 Q119.955 1138.48 119.955 1145.61 Q119.955 1152.72 121.76 1156.28 Q123.589 1159.82 127.2 1159.82 Q130.834 1159.82 132.64 1156.28 Q134.468 1152.72 134.468 1145.61 Q134.468 1138.48 132.64 1134.94 Q130.834 1131.38 127.2 1131.38 M127.2 1127.67 Q133.01 1127.67 136.066 1132.28 Q139.144 1136.86 139.144 1145.61 Q139.144 1154.34 136.066 1158.94 Q133.01 1163.53 127.2 1163.53 Q121.39 1163.53 118.311 1158.94 Q115.256 1154.34 115.256 1145.61 Q115.256 1136.86 118.311 1132.28 Q121.39 1127.67 127.2 1127.67 Z\" fill=\"#000000\" fill-rule=\"evenodd\" fill-opacity=\"1\" /><path clip-path=\"url(#clip620)\" d=\"M147.362 1156.98 L152.246 1156.98 L152.246 1162.86 L147.362 1162.86 L147.362 1156.98 Z\" fill=\"#000000\" fill-rule=\"evenodd\" fill-opacity=\"1\" /><path clip-path=\"url(#clip620)\" d=\"M162.477 1128.3 L180.834 1128.3 L180.834 1132.23 L166.76 1132.23 L166.76 1140.7 Q167.778 1140.36 168.797 1140.19 Q169.815 1140.01 170.834 1140.01 Q176.621 1140.01 180.001 1143.18 Q183.38 1146.35 183.38 1151.77 Q183.38 1157.35 179.908 1160.45 Q176.436 1163.53 170.116 1163.53 Q167.94 1163.53 165.672 1163.16 Q163.427 1162.79 161.019 1162.05 L161.019 1157.35 Q163.102 1158.48 165.325 1159.04 Q167.547 1159.59 170.024 1159.59 Q174.028 1159.59 176.366 1157.49 Q178.704 1155.38 178.704 1151.77 Q178.704 1148.16 176.366 1146.05 Q174.028 1143.94 170.024 1143.94 Q168.149 1143.94 166.274 1144.36 Q164.422 1144.78 162.477 1145.66 L162.477 1128.3 Z\" fill=\"#000000\" fill-rule=\"evenodd\" fill-opacity=\"1\" /><path clip-path=\"url(#clip620)\" d=\"M117.015 931.229 L124.654 931.229 L124.654 904.863 L116.343 906.53 L116.343 902.271 L124.607 900.604 L129.283 900.604 L129.283 931.229 L136.922 931.229 L136.922 935.164 L117.015 935.164 L117.015 931.229 Z\" fill=\"#000000\" fill-rule=\"evenodd\" fill-opacity=\"1\" /><path clip-path=\"url(#clip620)\" d=\"M146.366 929.284 L151.251 929.284 L151.251 935.164 L146.366 935.164 L146.366 929.284 Z\" fill=\"#000000\" fill-rule=\"evenodd\" fill-opacity=\"1\" /><path clip-path=\"url(#clip620)\" d=\"M171.436 903.683 Q167.825 903.683 165.996 907.247 Q164.19 910.789 164.19 917.919 Q164.19 925.025 165.996 928.59 Q167.825 932.132 171.436 932.132 Q175.07 932.132 176.876 928.59 Q178.704 925.025 178.704 917.919 Q178.704 910.789 176.876 907.247 Q175.07 903.683 171.436 903.683 M171.436 899.979 Q177.246 899.979 180.301 904.585 Q183.38 909.169 183.38 917.919 Q183.38 926.645 180.301 931.252 Q177.246 935.835 171.436 935.835 Q165.626 935.835 162.547 931.252 Q159.491 926.645 159.491 917.919 Q159.491 909.169 162.547 904.585 Q165.626 899.979 171.436 899.979 Z\" fill=\"#000000\" fill-rule=\"evenodd\" fill-opacity=\"1\" /><path clip-path=\"url(#clip620)\" d=\"M118.01 703.536 L125.649 703.536 L125.649 677.171 L117.339 678.837 L117.339 674.578 L125.603 672.911 L130.279 672.911 L130.279 703.536 L137.917 703.536 L137.917 707.471 L118.01 707.471 L118.01 703.536 Z\" fill=\"#000000\" fill-rule=\"evenodd\" fill-opacity=\"1\" /><path clip-path=\"url(#clip620)\" d=\"M147.362 701.592 L152.246 701.592 L152.246 707.471 L147.362 707.471 L147.362 701.592 Z\" fill=\"#000000\" fill-rule=\"evenodd\" fill-opacity=\"1\" /><path clip-path=\"url(#clip620)\" d=\"M162.477 672.911 L180.834 672.911 L180.834 676.847 L166.76 676.847 L166.76 685.319 Q167.778 684.972 168.797 684.809 Q169.815 684.624 170.834 684.624 Q176.621 684.624 180.001 687.796 Q183.38 690.967 183.38 696.384 Q183.38 701.962 179.908 705.064 Q176.436 708.143 170.116 708.143 Q167.94 708.143 165.672 707.772 Q163.427 707.402 161.019 706.661 L161.019 701.962 Q163.102 703.096 165.325 703.652 Q167.547 704.208 170.024 704.208 Q174.028 704.208 176.366 702.101 Q178.704 699.995 178.704 696.384 Q178.704 692.772 176.366 690.666 Q174.028 688.559 170.024 688.559 Q168.149 688.559 166.274 688.976 Q164.422 689.393 162.477 690.272 L162.477 672.911 Z\" fill=\"#000000\" fill-rule=\"evenodd\" fill-opacity=\"1\" /><path clip-path=\"url(#clip620)\" d=\"M120.232 475.844 L136.552 475.844 L136.552 479.779 L114.607 479.779 L114.607 475.844 Q117.269 473.089 121.853 468.459 Q126.459 463.807 127.64 462.464 Q129.885 459.941 130.765 458.205 Q131.667 456.446 131.667 454.756 Q131.667 452.001 129.723 450.265 Q127.802 448.529 124.7 448.529 Q122.501 448.529 120.047 449.293 Q117.617 450.057 114.839 451.608 L114.839 446.886 Q117.663 445.751 120.117 445.173 Q122.57 444.594 124.607 444.594 Q129.978 444.594 133.172 447.279 Q136.367 449.964 136.367 454.455 Q136.367 456.585 135.556 458.506 Q134.769 460.404 132.663 462.997 Q132.084 463.668 128.982 466.885 Q125.88 470.08 120.232 475.844 Z\" fill=\"#000000\" fill-rule=\"evenodd\" fill-opacity=\"1\" /><path clip-path=\"url(#clip620)\" d=\"M146.366 473.899 L151.251 473.899 L151.251 479.779 L146.366 479.779 L146.366 473.899 Z\" fill=\"#000000\" fill-rule=\"evenodd\" fill-opacity=\"1\" /><path clip-path=\"url(#clip620)\" d=\"M171.436 448.298 Q167.825 448.298 165.996 451.862 Q164.19 455.404 164.19 462.534 Q164.19 469.64 165.996 473.205 Q167.825 476.746 171.436 476.746 Q175.07 476.746 176.876 473.205 Q178.704 469.64 178.704 462.534 Q178.704 455.404 176.876 451.862 Q175.07 448.298 171.436 448.298 M171.436 444.594 Q177.246 444.594 180.301 449.2 Q183.38 453.784 183.38 462.534 Q183.38 471.26 180.301 475.867 Q177.246 480.45 171.436 480.45 Q165.626 480.45 162.547 475.867 Q159.491 471.26 159.491 462.534 Q159.491 453.784 162.547 449.2 Q165.626 444.594 171.436 444.594 Z\" fill=\"#000000\" fill-rule=\"evenodd\" fill-opacity=\"1\" /><path clip-path=\"url(#clip620)\" d=\"M121.228 248.151 L137.547 248.151 L137.547 252.086 L115.603 252.086 L115.603 248.151 Q118.265 245.397 122.848 240.767 Q127.455 236.114 128.635 234.772 Q130.88 232.248 131.76 230.512 Q132.663 228.753 132.663 227.063 Q132.663 224.309 130.718 222.573 Q128.797 220.836 125.695 220.836 Q123.496 220.836 121.043 221.6 Q118.612 222.364 115.834 223.915 L115.834 219.193 Q118.658 218.059 121.112 217.48 Q123.566 216.901 125.603 216.901 Q130.973 216.901 134.167 219.586 Q137.362 222.272 137.362 226.762 Q137.362 228.892 136.552 230.813 Q135.765 232.711 133.658 235.304 Q133.08 235.975 129.978 239.193 Q126.876 242.387 121.228 248.151 Z\" fill=\"#000000\" fill-rule=\"evenodd\" fill-opacity=\"1\" /><path clip-path=\"url(#clip620)\" d=\"M147.362 246.207 L152.246 246.207 L152.246 252.086 L147.362 252.086 L147.362 246.207 Z\" fill=\"#000000\" fill-rule=\"evenodd\" fill-opacity=\"1\" /><path clip-path=\"url(#clip620)\" d=\"M162.477 217.526 L180.834 217.526 L180.834 221.461 L166.76 221.461 L166.76 229.934 Q167.778 229.586 168.797 229.424 Q169.815 229.239 170.834 229.239 Q176.621 229.239 180.001 232.41 Q183.38 235.582 183.38 240.998 Q183.38 246.577 179.908 249.679 Q176.436 252.758 170.116 252.758 Q167.94 252.758 165.672 252.387 Q163.427 252.017 161.019 251.276 L161.019 246.577 Q163.102 247.711 165.325 248.267 Q167.547 248.822 170.024 248.822 Q174.028 248.822 176.366 246.716 Q178.704 244.609 178.704 240.998 Q178.704 237.387 176.366 235.281 Q174.028 233.174 170.024 233.174 Q168.149 233.174 166.274 233.591 Q164.422 234.008 162.477 234.887 L162.477 217.526 Z\" fill=\"#000000\" fill-rule=\"evenodd\" fill-opacity=\"1\" /><path clip-path=\"url(#clip620)\" d=\"M18.2347 841.616 L28.3562 841.616 L28.3562 829.553 L32.9077 829.553 L32.9077 841.616 L52.2594 841.616 Q56.6199 841.616 57.8613 840.438 Q59.1026 839.229 59.1026 835.569 L59.1026 829.553 L64.0042 829.553 L64.0042 835.569 Q64.0042 842.348 61.4897 844.926 Q58.9434 847.504 52.2594 847.504 L32.9077 847.504 L32.9077 851.801 L28.3562 851.801 L28.3562 847.504 L18.2347 847.504 L18.2347 841.616 Z\" fill=\"#000000\" fill-rule=\"evenodd\" fill-opacity=\"1\" /><path clip-path=\"url(#clip620)\" d=\"M28.3562 821.851 L28.3562 815.994 L64.0042 815.994 L64.0042 821.851 L28.3562 821.851 M14.479 821.851 L14.479 815.994 L21.895 815.994 L21.895 821.851 L14.479 821.851 Z\" fill=\"#000000\" fill-rule=\"evenodd\" fill-opacity=\"1\" /><path clip-path=\"url(#clip620)\" d=\"M35.1993 775.986 Q31.2526 773.789 29.3747 770.734 Q27.4968 767.678 27.4968 763.541 Q27.4968 757.971 31.4117 754.947 Q35.2948 751.923 42.4881 751.923 L64.0042 751.923 L64.0042 757.812 L42.679 757.812 Q37.5546 757.812 35.072 759.626 Q32.5894 761.44 32.5894 765.164 Q32.5894 769.715 35.6131 772.357 Q38.6368 774.999 43.8567 774.999 L64.0042 774.999 L64.0042 780.887 L42.679 780.887 Q37.5228 780.887 35.072 782.701 Q32.5894 784.516 32.5894 788.303 Q32.5894 792.791 35.6449 795.433 Q38.6686 798.075 43.8567 798.075 L64.0042 798.075 L64.0042 803.963 L28.3562 803.963 L28.3562 798.075 L33.8944 798.075 Q30.616 796.069 29.0564 793.269 Q27.4968 790.468 27.4968 786.616 Q27.4968 782.733 29.4702 780.028 Q31.4436 777.291 35.1993 775.986 Z\" fill=\"#000000\" fill-rule=\"evenodd\" fill-opacity=\"1\" /><path clip-path=\"url(#clip620)\" d=\"M44.7161 709.75 L47.5806 709.75 L47.5806 736.677 Q53.6281 736.295 56.8109 733.049 Q59.9619 729.771 59.9619 723.946 Q59.9619 720.572 59.1344 717.421 Q58.3069 714.238 56.6518 711.119 L62.1899 711.119 Q63.5267 714.27 64.227 717.58 Q64.9272 720.89 64.9272 724.296 Q64.9272 732.826 59.9619 737.823 Q54.9967 742.788 46.5303 742.788 Q37.7774 742.788 32.6531 738.078 Q27.4968 733.335 27.4968 725.315 Q27.4968 718.121 32.1438 713.952 Q36.7589 709.75 44.7161 709.75 M42.9973 715.607 Q38.1912 715.671 35.3266 718.312 Q32.4621 720.922 32.4621 725.251 Q32.4621 730.153 35.2312 733.113 Q38.0002 736.041 43.0292 736.486 L42.9973 715.607 Z\" fill=\"#000000\" fill-rule=\"evenodd\" fill-opacity=\"1\" /><path clip-path=\"url(#clip620)\" d=\"M14.479 679.959 L14.479 666.464 L19.0304 666.464 L19.0304 674.102 L68.0464 674.102 L68.0464 666.464 L72.5979 666.464 L72.5979 679.959 L14.479 679.959 Z\" fill=\"#000000\" fill-rule=\"evenodd\" fill-opacity=\"1\" /><path clip-path=\"url(#clip620)\" d=\"M29.4065 631.261 L34.9447 631.261 Q33.6716 633.744 33.035 636.418 Q32.3984 639.091 32.3984 641.956 Q32.3984 646.316 33.7352 648.512 Q35.072 650.677 37.7456 650.677 Q39.7826 650.677 40.9603 649.117 Q42.1061 647.557 43.1565 642.847 L43.6021 640.842 Q44.9389 634.603 47.3897 631.993 Q49.8086 629.352 54.1691 629.352 Q59.1344 629.352 62.0308 633.298 Q64.9272 637.213 64.9272 644.088 Q64.9272 646.953 64.3543 650.072 Q63.8132 653.159 62.6992 656.597 L56.6518 656.597 Q58.3387 653.35 59.198 650.199 Q60.0256 647.048 60.0256 643.961 Q60.0256 639.823 58.6251 637.595 Q57.1929 635.367 54.6147 635.367 Q52.2276 635.367 50.9545 636.99 Q49.6813 638.582 48.5037 644.025 L48.0262 646.062 Q46.8804 651.504 44.5251 653.923 Q42.138 656.342 38.0002 656.342 Q32.9713 656.342 30.2341 652.777 Q27.4968 649.213 27.4968 642.656 Q27.4968 639.409 27.9743 636.545 Q28.4517 633.68 29.4065 631.261 Z\" fill=\"#000000\" fill-rule=\"evenodd\" fill-opacity=\"1\" /><path clip-path=\"url(#clip620)\" d=\"M14.479 606.34 L72.5979 606.34 L72.5979 619.835 L68.0464 619.835 L68.0464 612.228 L19.0304 612.228 L19.0304 619.835 L14.479 619.835 L14.479 606.34 Z\" fill=\"#000000\" fill-rule=\"evenodd\" fill-opacity=\"1\" /><polyline clip-path=\"url(#clip622)\" style=\"stroke:#009af9; stroke-linecap:butt; stroke-linejoin:round; stroke-width:4; stroke-opacity:1; fill:none\" points=\"\n",
       "  279.759,1371.23 280.004,1372.3 280.496,1372.05 281.479,1371.21 283.444,1370.28 287.376,1367.88 295.239,1363.03 310.964,1353.28 342.415,1333.56 405.317,1292.71 \n",
       "  531.121,1213.27 782.729,1037.87 1285.95,727.797 2292.38,85.838 \n",
       "  \"/>\n",
       "<path clip-path=\"url(#clip620)\" d=\"\n",
       "M1992.17 196.379 L2281.64 196.379 L2281.64 92.6992 L1992.17 92.6992  Z\n",
       "  \" fill=\"#ffffff\" fill-rule=\"evenodd\" fill-opacity=\"1\"/>\n",
       "<polyline clip-path=\"url(#clip620)\" style=\"stroke:#000000; stroke-linecap:butt; stroke-linejoin:round; stroke-width:4; stroke-opacity:1; fill:none\" points=\"\n",
       "  1992.17,196.379 2281.64,196.379 2281.64,92.6992 1992.17,92.6992 1992.17,196.379 \n",
       "  \"/>\n",
       "<polyline clip-path=\"url(#clip620)\" style=\"stroke:#009af9; stroke-linecap:butt; stroke-linejoin:round; stroke-width:4; stroke-opacity:1; fill:none\" points=\"\n",
       "  2015.88,144.539 2158.1,144.539 \n",
       "  \"/>\n",
       "<path clip-path=\"url(#clip620)\" d=\"M2195.65 164.227 Q2193.84 168.856 2192.13 170.268 Q2190.42 171.68 2187.55 171.68 L2184.14 171.68 L2184.14 168.115 L2186.64 168.115 Q2188.4 168.115 2189.37 167.282 Q2190.35 166.449 2191.53 163.347 L2192.29 161.403 L2181.8 135.893 L2186.32 135.893 L2194.42 156.171 L2202.52 135.893 L2207.04 135.893 L2195.65 164.227 Z\" fill=\"#000000\" fill-rule=\"evenodd\" fill-opacity=\"1\" /><path clip-path=\"url(#clip620)\" d=\"M2214.33 157.884 L2221.97 157.884 L2221.97 131.518 L2213.66 133.185 L2213.66 128.926 L2221.92 127.259 L2226.6 127.259 L2226.6 157.884 L2234.24 157.884 L2234.24 161.819 L2214.33 161.819 L2214.33 157.884 Z\" fill=\"#000000\" fill-rule=\"evenodd\" fill-opacity=\"1\" /></svg>\n"
      ]
     },
     "execution_count": 9,
     "metadata": {},
     "output_type": "execute_result"
    }
   ],
   "source": [
    "using Plots\n",
    "using LaTeXStrings\n",
    "\n",
    "plot(qs, times)\n",
    "xlabel!(L\"$q$\")\n",
    "ylabel!(\"time [s]\")"
   ]
  },
  {
   "cell_type": "markdown",
   "id": "minute-seventh",
   "metadata": {},
   "source": [
    "Um herauszufinden wie effizient diese Rechnungen sind, können wir ausrechnen wie viele Fließkommaoperationen pro Sekunde ausgeführt werden (FLOPS):"
   ]
  },
  {
   "cell_type": "code",
   "execution_count": 10,
   "id": "informative-completion",
   "metadata": {
    "scrolled": false
   },
   "outputs": [
    {
     "data": {
      "image/svg+xml": [
       "<?xml version=\"1.0\" encoding=\"utf-8\"?>\n",
       "<svg xmlns=\"http://www.w3.org/2000/svg\" xmlns:xlink=\"http://www.w3.org/1999/xlink\" width=\"600\" height=\"400\" viewBox=\"0 0 2400 1600\">\n",
       "<defs>\n",
       "  <clipPath id=\"clip660\">\n",
       "    <rect x=\"0\" y=\"0\" width=\"2400\" height=\"1600\"/>\n",
       "  </clipPath>\n",
       "</defs>\n",
       "<path clip-path=\"url(#clip660)\" d=\"\n",
       "M0 1600 L2400 1600 L2400 0 L0 0  Z\n",
       "  \" fill=\"#ffffff\" fill-rule=\"evenodd\" fill-opacity=\"1\"/>\n",
       "<defs>\n",
       "  <clipPath id=\"clip661\">\n",
       "    <rect x=\"480\" y=\"0\" width=\"1681\" height=\"1600\"/>\n",
       "  </clipPath>\n",
       "</defs>\n",
       "<defs>\n",
       "  <clipPath id=\"clip662\">\n",
       "    <rect x=\"219\" y=\"47\" width=\"2134\" height=\"1365\"/>\n",
       "  </clipPath>\n",
       "</defs>\n",
       "<path clip-path=\"url(#clip660)\" d=\"\n",
       "M391.464 1410.9 L2352.76 1410.9 L2352.76 47.2441 L391.464 47.2441  Z\n",
       "  \" fill=\"#ffffff\" fill-rule=\"evenodd\" fill-opacity=\"1\"/>\n",
       "<defs>\n",
       "  <clipPath id=\"clip663\">\n",
       "    <rect x=\"391\" y=\"47\" width=\"1962\" height=\"1365\"/>\n",
       "  </clipPath>\n",
       "</defs>\n",
       "<polyline clip-path=\"url(#clip663)\" style=\"stroke:#000000; stroke-linecap:butt; stroke-linejoin:round; stroke-width:2; stroke-opacity:0.1; fill:none\" points=\"\n",
       "  722.916,1410.9 722.916,47.2441 \n",
       "  \"/>\n",
       "<polyline clip-path=\"url(#clip663)\" style=\"stroke:#000000; stroke-linecap:butt; stroke-linejoin:round; stroke-width:2; stroke-opacity:0.1; fill:none\" points=\"\n",
       "  1414.84,1410.9 1414.84,47.2441 \n",
       "  \"/>\n",
       "<polyline clip-path=\"url(#clip663)\" style=\"stroke:#000000; stroke-linecap:butt; stroke-linejoin:round; stroke-width:2; stroke-opacity:0.1; fill:none\" points=\"\n",
       "  2106.76,1410.9 2106.76,47.2441 \n",
       "  \"/>\n",
       "<polyline clip-path=\"url(#clip660)\" style=\"stroke:#000000; stroke-linecap:butt; stroke-linejoin:round; stroke-width:4; stroke-opacity:1; fill:none\" points=\"\n",
       "  391.464,1410.9 2352.76,1410.9 \n",
       "  \"/>\n",
       "<polyline clip-path=\"url(#clip660)\" style=\"stroke:#000000; stroke-linecap:butt; stroke-linejoin:round; stroke-width:4; stroke-opacity:1; fill:none\" points=\"\n",
       "  722.916,1410.9 722.916,1392 \n",
       "  \"/>\n",
       "<polyline clip-path=\"url(#clip660)\" style=\"stroke:#000000; stroke-linecap:butt; stroke-linejoin:round; stroke-width:4; stroke-opacity:1; fill:none\" points=\"\n",
       "  1414.84,1410.9 1414.84,1392 \n",
       "  \"/>\n",
       "<polyline clip-path=\"url(#clip660)\" style=\"stroke:#000000; stroke-linecap:butt; stroke-linejoin:round; stroke-width:4; stroke-opacity:1; fill:none\" points=\"\n",
       "  2106.76,1410.9 2106.76,1392 \n",
       "  \"/>\n",
       "<path clip-path=\"url(#clip660)\" d=\"M689.244 1485.02 L696.883 1485.02 L696.883 1458.66 L688.573 1460.32 L688.573 1456.06 L696.836 1454.4 L701.512 1454.4 L701.512 1485.02 L709.151 1485.02 L709.151 1488.96 L689.244 1488.96 L689.244 1485.02 Z\" fill=\"#000000\" fill-rule=\"evenodd\" fill-opacity=\"1\" /><path clip-path=\"url(#clip660)\" d=\"M728.596 1457.48 Q724.984 1457.48 723.156 1461.04 Q721.35 1464.58 721.35 1471.71 Q721.35 1478.82 723.156 1482.38 Q724.984 1485.92 728.596 1485.92 Q732.23 1485.92 734.035 1482.38 Q735.864 1478.82 735.864 1471.71 Q735.864 1464.58 734.035 1461.04 Q732.23 1457.48 728.596 1457.48 M728.596 1453.77 Q734.406 1453.77 737.461 1458.38 Q740.54 1462.96 740.54 1471.71 Q740.54 1480.44 737.461 1485.04 Q734.406 1489.63 728.596 1489.63 Q722.785 1489.63 719.707 1485.04 Q716.651 1480.44 716.651 1471.71 Q716.651 1462.96 719.707 1458.38 Q722.785 1453.77 728.596 1453.77 Z\" fill=\"#000000\" fill-rule=\"evenodd\" fill-opacity=\"1\" /><path clip-path=\"url(#clip660)\" d=\"M741.085 1458.35 L747.292 1458.35 L747.292 1436.93 L740.54 1438.28 L740.54 1434.82 L747.254 1433.47 L751.053 1433.47 L751.053 1458.35 L757.26 1458.35 L757.26 1461.55 L741.085 1461.55 L741.085 1458.35 Z\" fill=\"#000000\" fill-rule=\"evenodd\" fill-opacity=\"1\" /><path clip-path=\"url(#clip660)\" d=\"M1380.61 1485.02 L1388.25 1485.02 L1388.25 1458.66 L1379.94 1460.32 L1379.94 1456.06 L1388.2 1454.4 L1392.88 1454.4 L1392.88 1485.02 L1400.52 1485.02 L1400.52 1488.96 L1380.61 1488.96 L1380.61 1485.02 Z\" fill=\"#000000\" fill-rule=\"evenodd\" fill-opacity=\"1\" /><path clip-path=\"url(#clip660)\" d=\"M1419.96 1457.48 Q1416.35 1457.48 1414.52 1461.04 Q1412.72 1464.58 1412.72 1471.71 Q1412.72 1478.82 1414.52 1482.38 Q1416.35 1485.92 1419.96 1485.92 Q1423.6 1485.92 1425.4 1482.38 Q1427.23 1478.82 1427.23 1471.71 Q1427.23 1464.58 1425.4 1461.04 Q1423.6 1457.48 1419.96 1457.48 M1419.96 1453.77 Q1425.77 1453.77 1428.83 1458.38 Q1431.91 1462.96 1431.91 1471.71 Q1431.91 1480.44 1428.83 1485.04 Q1425.77 1489.63 1419.96 1489.63 Q1414.15 1489.63 1411.07 1485.04 Q1408.02 1480.44 1408.02 1471.71 Q1408.02 1462.96 1411.07 1458.38 Q1414.15 1453.77 1419.96 1453.77 Z\" fill=\"#000000\" fill-rule=\"evenodd\" fill-opacity=\"1\" /><path clip-path=\"url(#clip660)\" d=\"M1436.48 1458.35 L1449.74 1458.35 L1449.74 1461.55 L1431.91 1461.55 L1431.91 1458.35 Q1434.07 1456.11 1437.79 1452.35 Q1441.54 1448.57 1442.5 1447.48 Q1444.32 1445.43 1445.04 1444.02 Q1445.77 1442.59 1445.77 1441.22 Q1445.77 1438.98 1444.19 1437.57 Q1442.63 1436.16 1440.11 1436.16 Q1438.32 1436.16 1436.33 1436.78 Q1434.35 1437.4 1432.1 1438.66 L1432.1 1434.82 Q1434.39 1433.9 1436.38 1433.43 Q1438.38 1432.96 1440.03 1432.96 Q1444.4 1432.96 1446.99 1435.14 Q1449.59 1437.32 1449.59 1440.97 Q1449.59 1442.7 1448.93 1444.26 Q1448.29 1445.8 1446.58 1447.91 Q1446.11 1448.46 1443.59 1451.07 Q1441.07 1453.67 1436.48 1458.35 Z\" fill=\"#000000\" fill-rule=\"evenodd\" fill-opacity=\"1\" /><path clip-path=\"url(#clip660)\" d=\"M2072.2 1485.02 L2079.84 1485.02 L2079.84 1458.66 L2071.53 1460.32 L2071.53 1456.06 L2079.8 1454.4 L2084.47 1454.4 L2084.47 1485.02 L2092.11 1485.02 L2092.11 1488.96 L2072.2 1488.96 L2072.2 1485.02 Z\" fill=\"#000000\" fill-rule=\"evenodd\" fill-opacity=\"1\" /><path clip-path=\"url(#clip660)\" d=\"M2111.56 1457.48 Q2107.95 1457.48 2106.12 1461.04 Q2104.31 1464.58 2104.31 1471.71 Q2104.31 1478.82 2106.12 1482.38 Q2107.95 1485.92 2111.56 1485.92 Q2115.19 1485.92 2117 1482.38 Q2118.82 1478.82 2118.82 1471.71 Q2118.82 1464.58 2117 1461.04 Q2115.19 1457.48 2111.56 1457.48 M2111.56 1453.77 Q2117.37 1453.77 2120.42 1458.38 Q2123.5 1462.96 2123.5 1471.71 Q2123.5 1480.44 2120.42 1485.04 Q2117.37 1489.63 2111.56 1489.63 Q2105.75 1489.63 2102.67 1485.04 Q2099.61 1480.44 2099.61 1471.71 Q2099.61 1462.96 2102.67 1458.38 Q2105.75 1453.77 2111.56 1453.77 Z\" fill=\"#000000\" fill-rule=\"evenodd\" fill-opacity=\"1\" /><path clip-path=\"url(#clip660)\" d=\"M2136.2 1446.41 Q2138.92 1446.99 2140.45 1448.83 Q2141.99 1450.68 2141.99 1453.38 Q2141.99 1457.54 2139.13 1459.82 Q2136.27 1462.09 2131.01 1462.09 Q2129.24 1462.09 2127.36 1461.73 Q2125.49 1461.4 2123.5 1460.7 L2123.5 1457.03 Q2125.08 1457.95 2126.96 1458.42 Q2128.84 1458.89 2130.89 1458.89 Q2134.47 1458.89 2136.33 1457.48 Q2138.21 1456.07 2138.21 1453.38 Q2138.21 1450.9 2136.46 1449.51 Q2134.73 1448.1 2131.63 1448.1 L2128.35 1448.1 L2128.35 1444.98 L2131.78 1444.98 Q2134.58 1444.98 2136.06 1443.87 Q2137.55 1442.74 2137.55 1440.63 Q2137.55 1438.47 2136.01 1437.32 Q2134.48 1436.16 2131.63 1436.16 Q2130.06 1436.16 2128.28 1436.49 Q2126.49 1436.83 2124.35 1437.55 L2124.35 1434.16 Q2126.51 1433.56 2128.39 1433.26 Q2130.29 1432.96 2131.96 1432.96 Q2136.29 1432.96 2138.81 1434.93 Q2141.33 1436.89 2141.33 1440.24 Q2141.33 1442.57 2140 1444.19 Q2138.66 1445.79 2136.2 1446.41 Z\" fill=\"#000000\" fill-rule=\"evenodd\" fill-opacity=\"1\" /><path clip-path=\"url(#clip660)\" d=\"M1364.8 1530.55 Q1364.8 1531.16 1364.54 1531.45 Q1364.32 1531.71 1363.96 1531.77 Q1363.61 1531.8 1362.67 1531.8 Q1361.1 1531.8 1360.1 1531.93 Q1359.1 1532.03 1358.49 1532.19 Q1357.88 1532.32 1357.52 1532.77 Q1357.2 1533.19 1357.04 1533.57 Q1356.91 1533.96 1356.68 1534.83 L1347.86 1569.97 Q1347.57 1571 1347.57 1571.51 Q1347.57 1572.06 1347.89 1572.29 Q1348.21 1572.51 1349.24 1572.61 Q1350.89 1572.77 1352.08 1572.77 Q1353.66 1572.77 1353.88 1572.99 Q1354.04 1573.22 1354.04 1573.54 Q1354.04 1574.12 1353.79 1574.44 Q1353.53 1574.73 1353.3 1574.76 Q1353.11 1574.8 1352.72 1574.8 L1343.9 1574.6 L1335.23 1574.8 Q1334.27 1574.8 1334.27 1574.06 Q1334.27 1573.57 1334.33 1573.32 Q1334.43 1573.03 1334.75 1572.93 Q1335.11 1572.8 1335.36 1572.8 Q1335.62 1572.77 1336.36 1572.77 Q1337.68 1572.77 1338.55 1572.74 Q1339.45 1572.67 1340.1 1572.51 Q1340.77 1572.32 1341.1 1572.16 Q1341.45 1571.96 1341.71 1571.54 Q1342 1571.09 1342.09 1570.74 Q1342.22 1570.38 1342.38 1569.64 L1351.27 1534.09 Q1351.4 1533.51 1351.4 1533.06 Q1351.4 1532.19 1350.37 1532 Q1349.37 1531.8 1346.86 1531.8 Q1346.09 1531.8 1345.77 1531.77 Q1345.48 1531.74 1345.22 1531.58 Q1344.99 1531.42 1344.99 1531.06 Q1344.99 1530.61 1345.12 1530.32 Q1345.25 1530 1345.48 1529.9 Q1345.73 1529.81 1345.89 1529.77 Q1346.06 1529.74 1346.31 1529.74 L1355.11 1529.93 L1363.8 1529.74 Q1364.8 1529.74 1364.8 1530.55 Z\" fill=\"#000000\" fill-rule=\"evenodd\" fill-opacity=\"1\" /><path clip-path=\"url(#clip660)\" d=\"M1403.22 1593.51 Q1403.22 1593.94 1403.04 1594.17 Q1402.88 1594.37 1402.72 1594.42 Q1402.59 1594.44 1402.38 1594.44 Q1401.8 1594.44 1399.77 1594.37 Q1397.74 1594.3 1397.15 1594.3 Q1396.21 1594.3 1394.27 1594.37 Q1392.33 1594.44 1391.38 1594.44 Q1390.75 1594.44 1390.75 1593.92 Q1390.75 1593.58 1390.82 1593.4 Q1390.89 1593.2 1391.07 1593.13 Q1391.27 1593.04 1391.38 1593.04 Q1391.52 1593.02 1391.86 1593.02 Q1392.31 1593.02 1392.78 1592.97 Q1393.25 1592.91 1393.84 1592.77 Q1394.43 1592.64 1394.79 1592.3 Q1395.17 1591.96 1395.17 1591.49 Q1395.17 1591.28 1395.01 1589.61 Q1394.85 1587.95 1394.65 1586.01 Q1394.45 1584.05 1394.43 1583.78 L1382.84 1583.78 Q1381.78 1585.6 1381.03 1586.86 Q1380.29 1588.13 1380.02 1588.55 Q1379.75 1588.98 1379.59 1589.25 Q1379.43 1589.52 1379.34 1589.68 Q1378.69 1590.88 1378.69 1591.4 Q1378.69 1592.84 1380.85 1593.02 Q1381.6 1593.02 1381.6 1593.56 Q1381.6 1593.97 1381.42 1594.19 Q1381.24 1594.39 1381.08 1594.42 Q1380.94 1594.44 1380.72 1594.44 Q1379.97 1594.44 1378.42 1594.37 Q1376.86 1594.3 1376.1 1594.3 Q1375.44 1594.3 1374.09 1594.37 Q1372.74 1594.44 1372.13 1594.44 Q1371.86 1594.44 1371.7 1594.28 Q1371.54 1594.12 1371.54 1593.92 Q1371.54 1593.6 1371.59 1593.42 Q1371.66 1593.24 1371.84 1593.15 Q1372.02 1593.06 1372.11 1593.06 Q1372.2 1593.04 1372.51 1593.02 Q1374.23 1592.91 1375.56 1592.09 Q1376.91 1591.26 1378.19 1589.12 L1394.24 1562.16 Q1394.4 1561.89 1394.52 1561.75 Q1394.63 1561.61 1394.85 1561.5 Q1395.1 1561.39 1395.46 1561.39 Q1396.03 1561.39 1396.14 1561.57 Q1396.25 1561.73 1396.32 1562.49 L1399.14 1591.35 Q1399.2 1591.96 1399.25 1592.21 Q1399.32 1592.43 1399.61 1592.68 Q1399.93 1592.91 1400.49 1592.97 Q1401.08 1593.02 1402.16 1593.02 Q1402.56 1593.02 1402.72 1593.04 Q1402.88 1593.04 1403.04 1593.15 Q1403.22 1593.27 1403.22 1593.51 M1394.29 1582.33 L1392.82 1567.12 L1383.72 1582.33 L1394.29 1582.33 Z\" fill=\"#000000\" fill-rule=\"evenodd\" fill-opacity=\"1\" /><polyline clip-path=\"url(#clip663)\" style=\"stroke:#000000; stroke-linecap:butt; stroke-linejoin:round; stroke-width:2; stroke-opacity:0.1; fill:none\" points=\"\n",
       "  391.464,1181.95 2352.76,1181.95 \n",
       "  \"/>\n",
       "<polyline clip-path=\"url(#clip663)\" style=\"stroke:#000000; stroke-linecap:butt; stroke-linejoin:round; stroke-width:2; stroke-opacity:0.1; fill:none\" points=\"\n",
       "  391.464,885.508 2352.76,885.508 \n",
       "  \"/>\n",
       "<polyline clip-path=\"url(#clip663)\" style=\"stroke:#000000; stroke-linecap:butt; stroke-linejoin:round; stroke-width:2; stroke-opacity:0.1; fill:none\" points=\"\n",
       "  391.464,589.065 2352.76,589.065 \n",
       "  \"/>\n",
       "<polyline clip-path=\"url(#clip663)\" style=\"stroke:#000000; stroke-linecap:butt; stroke-linejoin:round; stroke-width:2; stroke-opacity:0.1; fill:none\" points=\"\n",
       "  391.464,292.622 2352.76,292.622 \n",
       "  \"/>\n",
       "<polyline clip-path=\"url(#clip660)\" style=\"stroke:#000000; stroke-linecap:butt; stroke-linejoin:round; stroke-width:4; stroke-opacity:1; fill:none\" points=\"\n",
       "  391.464,1410.9 391.464,47.2441 \n",
       "  \"/>\n",
       "<polyline clip-path=\"url(#clip660)\" style=\"stroke:#000000; stroke-linecap:butt; stroke-linejoin:round; stroke-width:4; stroke-opacity:1; fill:none\" points=\"\n",
       "  391.464,1181.95 410.362,1181.95 \n",
       "  \"/>\n",
       "<polyline clip-path=\"url(#clip660)\" style=\"stroke:#000000; stroke-linecap:butt; stroke-linejoin:round; stroke-width:4; stroke-opacity:1; fill:none\" points=\"\n",
       "  391.464,885.508 410.362,885.508 \n",
       "  \"/>\n",
       "<polyline clip-path=\"url(#clip660)\" style=\"stroke:#000000; stroke-linecap:butt; stroke-linejoin:round; stroke-width:4; stroke-opacity:1; fill:none\" points=\"\n",
       "  391.464,589.065 410.362,589.065 \n",
       "  \"/>\n",
       "<polyline clip-path=\"url(#clip660)\" style=\"stroke:#000000; stroke-linecap:butt; stroke-linejoin:round; stroke-width:4; stroke-opacity:1; fill:none\" points=\"\n",
       "  391.464,292.622 410.362,292.622 \n",
       "  \"/>\n",
       "<path clip-path=\"url(#clip660)\" d=\"M138.755 1171.12 L157.111 1171.12 L157.111 1175.05 L143.037 1175.05 L143.037 1183.53 Q144.056 1183.18 145.075 1183.02 Q146.093 1182.83 147.112 1182.83 Q152.899 1182.83 156.278 1186 Q159.658 1189.17 159.658 1194.59 Q159.658 1200.17 156.186 1203.27 Q152.713 1206.35 146.394 1206.35 Q144.218 1206.35 141.95 1205.98 Q139.704 1205.61 137.297 1204.87 L137.297 1200.17 Q139.38 1201.3 141.602 1201.86 Q143.825 1202.41 146.301 1202.41 Q150.306 1202.41 152.644 1200.31 Q154.982 1198.2 154.982 1194.59 Q154.982 1190.98 152.644 1188.87 Q150.306 1186.77 146.301 1186.77 Q144.426 1186.77 142.551 1187.18 Q140.7 1187.6 138.755 1188.48 L138.755 1171.12 Z\" fill=\"#000000\" fill-rule=\"evenodd\" fill-opacity=\"1\" /><path clip-path=\"url(#clip660)\" d=\"M168.871 1199.8 L173.755 1199.8 L173.755 1205.68 L168.871 1205.68 L168.871 1199.8 Z\" fill=\"#000000\" fill-rule=\"evenodd\" fill-opacity=\"1\" /><path clip-path=\"url(#clip660)\" d=\"M193.94 1174.2 Q190.329 1174.2 188.5 1177.76 Q186.695 1181.3 186.695 1188.43 Q186.695 1195.54 188.5 1199.1 Q190.329 1202.65 193.94 1202.65 Q197.574 1202.65 199.38 1199.1 Q201.208 1195.54 201.208 1188.43 Q201.208 1181.3 199.38 1177.76 Q197.574 1174.2 193.94 1174.2 M193.94 1170.49 Q199.75 1170.49 202.806 1175.1 Q205.884 1179.68 205.884 1188.43 Q205.884 1197.16 202.806 1201.77 Q199.75 1206.35 193.94 1206.35 Q188.13 1206.35 185.051 1201.77 Q181.996 1197.16 181.996 1188.43 Q181.996 1179.68 185.051 1175.1 Q188.13 1170.49 193.94 1170.49 Z\" fill=\"#000000\" fill-rule=\"evenodd\" fill-opacity=\"1\" /><path clip-path=\"url(#clip660)\" d=\"M224.102 1174.2 Q220.491 1174.2 218.662 1177.76 Q216.857 1181.3 216.857 1188.43 Q216.857 1195.54 218.662 1199.1 Q220.491 1202.65 224.102 1202.65 Q227.736 1202.65 229.542 1199.1 Q231.37 1195.54 231.37 1188.43 Q231.37 1181.3 229.542 1177.76 Q227.736 1174.2 224.102 1174.2 M224.102 1170.49 Q229.912 1170.49 232.968 1175.1 Q236.046 1179.68 236.046 1188.43 Q236.046 1197.16 232.968 1201.77 Q229.912 1206.35 224.102 1206.35 Q218.292 1206.35 215.213 1201.77 Q212.157 1197.16 212.157 1188.43 Q212.157 1179.68 215.213 1175.1 Q218.292 1170.49 224.102 1170.49 Z\" fill=\"#000000\" fill-rule=\"evenodd\" fill-opacity=\"1\" /><path clip-path=\"url(#clip660)\" d=\"M272.435 1180.22 L261.856 1190.84 L272.435 1201.42 L269.68 1204.22 L259.055 1193.6 L248.43 1204.22 L245.699 1201.42 L256.254 1190.84 L245.699 1180.22 L248.43 1177.42 L259.055 1188.04 L269.68 1177.42 L272.435 1180.22 Z\" fill=\"#000000\" fill-rule=\"evenodd\" fill-opacity=\"1\" /><path clip-path=\"url(#clip660)\" d=\"M284.796 1201.74 L292.435 1201.74 L292.435 1175.38 L284.125 1177.04 L284.125 1172.79 L292.389 1171.12 L297.064 1171.12 L297.064 1201.74 L304.703 1201.74 L304.703 1205.68 L284.796 1205.68 L284.796 1201.74 Z\" fill=\"#000000\" fill-rule=\"evenodd\" fill-opacity=\"1\" /><path clip-path=\"url(#clip660)\" d=\"M324.148 1174.2 Q320.537 1174.2 318.708 1177.76 Q316.902 1181.3 316.902 1188.43 Q316.902 1195.54 318.708 1199.1 Q320.537 1202.65 324.148 1202.65 Q327.782 1202.65 329.587 1199.1 Q331.416 1195.54 331.416 1188.43 Q331.416 1181.3 329.587 1177.76 Q327.782 1174.2 324.148 1174.2 M324.148 1170.49 Q329.958 1170.49 333.013 1175.1 Q336.092 1179.68 336.092 1188.43 Q336.092 1197.16 333.013 1201.77 Q329.958 1206.35 324.148 1206.35 Q318.337 1206.35 315.259 1201.77 Q312.203 1197.16 312.203 1188.43 Q312.203 1179.68 315.259 1175.1 Q318.337 1170.49 324.148 1170.49 Z\" fill=\"#000000\" fill-rule=\"evenodd\" fill-opacity=\"1\" /><path clip-path=\"url(#clip660)\" d=\"M337.898 1177.69 L337.898 1174.22 Q339.327 1174.9 340.794 1175.26 Q342.261 1175.62 343.672 1175.62 Q347.433 1175.62 349.408 1173.1 Q351.402 1170.56 351.684 1165.4 Q350.593 1167.02 348.919 1167.89 Q347.245 1168.75 345.214 1168.75 Q341.001 1168.75 338.537 1166.21 Q336.092 1163.65 336.092 1159.23 Q336.092 1154.91 338.65 1152.29 Q341.208 1149.68 345.458 1149.68 Q350.329 1149.68 352.887 1153.42 Q355.464 1157.15 355.464 1164.26 Q355.464 1170.9 352.304 1174.86 Q349.163 1178.81 343.841 1178.81 Q342.411 1178.81 340.944 1178.53 Q339.477 1178.25 337.898 1177.69 M345.458 1165.78 Q348.016 1165.78 349.502 1164.03 Q351.007 1162.28 351.007 1159.23 Q351.007 1156.21 349.502 1154.46 Q348.016 1152.69 345.458 1152.69 Q342.9 1152.69 341.396 1154.46 Q339.91 1156.21 339.91 1159.23 Q339.91 1162.28 341.396 1164.03 Q342.9 1165.78 345.458 1165.78 Z\" fill=\"#000000\" fill-rule=\"evenodd\" fill-opacity=\"1\" /><path clip-path=\"url(#clip660)\" d=\"M116.668 905.301 L124.306 905.301 L124.306 878.935 L115.996 880.602 L115.996 876.342 L124.26 874.676 L128.936 874.676 L128.936 905.301 L136.575 905.301 L136.575 909.236 L116.668 909.236 L116.668 905.301 Z\" fill=\"#000000\" fill-rule=\"evenodd\" fill-opacity=\"1\" /><path clip-path=\"url(#clip660)\" d=\"M146.019 903.356 L150.903 903.356 L150.903 909.236 L146.019 909.236 L146.019 903.356 Z\" fill=\"#000000\" fill-rule=\"evenodd\" fill-opacity=\"1\" /><path clip-path=\"url(#clip660)\" d=\"M171.089 877.754 Q167.477 877.754 165.649 881.319 Q163.843 884.861 163.843 891.991 Q163.843 899.097 165.649 902.662 Q167.477 906.203 171.089 906.203 Q174.723 906.203 176.528 902.662 Q178.357 899.097 178.357 891.991 Q178.357 884.861 176.528 881.319 Q174.723 877.754 171.089 877.754 M171.089 874.051 Q176.899 874.051 179.954 878.657 Q183.033 883.241 183.033 891.991 Q183.033 900.717 179.954 905.324 Q176.899 909.907 171.089 909.907 Q165.278 909.907 162.2 905.324 Q159.144 900.717 159.144 891.991 Q159.144 883.241 162.2 878.657 Q165.278 874.051 171.089 874.051 Z\" fill=\"#000000\" fill-rule=\"evenodd\" fill-opacity=\"1\" /><path clip-path=\"url(#clip660)\" d=\"M201.25 877.754 Q197.639 877.754 195.811 881.319 Q194.005 884.861 194.005 891.991 Q194.005 899.097 195.811 902.662 Q197.639 906.203 201.25 906.203 Q204.885 906.203 206.69 902.662 Q208.519 899.097 208.519 891.991 Q208.519 884.861 206.69 881.319 Q204.885 877.754 201.25 877.754 M201.25 874.051 Q207.061 874.051 210.116 878.657 Q213.195 883.241 213.195 891.991 Q213.195 900.717 210.116 905.324 Q207.061 909.907 201.25 909.907 Q195.44 909.907 192.362 905.324 Q189.306 900.717 189.306 891.991 Q189.306 883.241 192.362 878.657 Q195.44 874.051 201.25 874.051 Z\" fill=\"#000000\" fill-rule=\"evenodd\" fill-opacity=\"1\" /><path clip-path=\"url(#clip660)\" d=\"M249.584 883.773 L239.005 894.398 L249.584 904.977 L246.829 907.777 L236.204 897.153 L225.579 907.777 L222.848 904.977 L233.403 894.398 L222.848 883.773 L225.579 880.972 L236.204 891.597 L246.829 880.972 L249.584 883.773 Z\" fill=\"#000000\" fill-rule=\"evenodd\" fill-opacity=\"1\" /><path clip-path=\"url(#clip660)\" d=\"M261.945 905.301 L269.583 905.301 L269.583 878.935 L261.273 880.602 L261.273 876.342 L269.537 874.676 L274.213 874.676 L274.213 905.301 L281.852 905.301 L281.852 909.236 L261.945 909.236 L261.945 905.301 Z\" fill=\"#000000\" fill-rule=\"evenodd\" fill-opacity=\"1\" /><path clip-path=\"url(#clip660)\" d=\"M301.296 877.754 Q297.685 877.754 295.856 881.319 Q294.051 884.861 294.051 891.991 Q294.051 899.097 295.856 902.662 Q297.685 906.203 301.296 906.203 Q304.93 906.203 306.736 902.662 Q308.565 899.097 308.565 891.991 Q308.565 884.861 306.736 881.319 Q304.93 877.754 301.296 877.754 M301.296 874.051 Q307.106 874.051 310.162 878.657 Q313.241 883.241 313.241 891.991 Q313.241 900.717 310.162 905.324 Q307.106 909.907 301.296 909.907 Q295.486 909.907 292.407 905.324 Q289.352 900.717 289.352 891.991 Q289.352 883.241 292.407 878.657 Q295.486 874.051 301.296 874.051 Z\" fill=\"#000000\" fill-rule=\"evenodd\" fill-opacity=\"1\" /><path clip-path=\"url(#clip660)\" d=\"M313.786 878.628 L319.993 878.628 L319.993 857.206 L313.241 858.56 L313.241 855.1 L319.955 853.745 L323.754 853.745 L323.754 878.628 L329.961 878.628 L329.961 881.825 L313.786 881.825 L313.786 878.628 Z\" fill=\"#000000\" fill-rule=\"evenodd\" fill-opacity=\"1\" /><path clip-path=\"url(#clip660)\" d=\"M345.759 856.247 Q342.825 856.247 341.339 859.143 Q339.872 862.021 339.872 867.814 Q339.872 873.588 341.339 876.484 Q342.825 879.362 345.759 879.362 Q348.712 879.362 350.179 876.484 Q351.665 873.588 351.665 867.814 Q351.665 862.021 350.179 859.143 Q348.712 856.247 345.759 856.247 M345.759 853.238 Q350.48 853.238 352.963 856.98 Q355.464 860.704 355.464 867.814 Q355.464 874.904 352.963 878.647 Q350.48 882.371 345.759 882.371 Q341.038 882.371 338.537 878.647 Q336.054 874.904 336.054 867.814 Q336.054 860.704 338.537 856.98 Q341.038 853.238 345.759 853.238 Z\" fill=\"#000000\" fill-rule=\"evenodd\" fill-opacity=\"1\" /><path clip-path=\"url(#clip660)\" d=\"M116.668 608.858 L124.306 608.858 L124.306 582.492 L115.996 584.159 L115.996 579.899 L124.26 578.233 L128.936 578.233 L128.936 608.858 L136.575 608.858 L136.575 612.793 L116.668 612.793 L116.668 608.858 Z\" fill=\"#000000\" fill-rule=\"evenodd\" fill-opacity=\"1\" /><path clip-path=\"url(#clip660)\" d=\"M146.019 606.913 L150.903 606.913 L150.903 612.793 L146.019 612.793 L146.019 606.913 Z\" fill=\"#000000\" fill-rule=\"evenodd\" fill-opacity=\"1\" /><path clip-path=\"url(#clip660)\" d=\"M161.135 578.233 L179.491 578.233 L179.491 582.168 L165.417 582.168 L165.417 590.64 Q166.436 590.293 167.454 590.131 Q168.473 589.946 169.491 589.946 Q175.278 589.946 178.658 593.117 Q182.038 596.288 182.038 601.705 Q182.038 607.284 178.565 610.385 Q175.093 613.464 168.774 613.464 Q166.598 613.464 164.329 613.094 Q162.084 612.723 159.677 611.983 L159.677 607.284 Q161.76 608.418 163.982 608.973 Q166.204 609.529 168.681 609.529 Q172.686 609.529 175.024 607.422 Q177.362 605.316 177.362 601.705 Q177.362 598.094 175.024 595.987 Q172.686 593.881 168.681 593.881 Q166.806 593.881 164.931 594.297 Q163.079 594.714 161.135 595.594 L161.135 578.233 Z\" fill=\"#000000\" fill-rule=\"evenodd\" fill-opacity=\"1\" /><path clip-path=\"url(#clip660)\" d=\"M201.25 581.311 Q197.639 581.311 195.811 584.876 Q194.005 588.418 194.005 595.547 Q194.005 602.654 195.811 606.219 Q197.639 609.76 201.25 609.76 Q204.885 609.76 206.69 606.219 Q208.519 602.654 208.519 595.547 Q208.519 588.418 206.69 584.876 Q204.885 581.311 201.25 581.311 M201.25 577.608 Q207.061 577.608 210.116 582.214 Q213.195 586.798 213.195 595.547 Q213.195 604.274 210.116 608.881 Q207.061 613.464 201.25 613.464 Q195.44 613.464 192.362 608.881 Q189.306 604.274 189.306 595.547 Q189.306 586.798 192.362 582.214 Q195.44 577.608 201.25 577.608 Z\" fill=\"#000000\" fill-rule=\"evenodd\" fill-opacity=\"1\" /><path clip-path=\"url(#clip660)\" d=\"M249.584 587.33 L239.005 597.955 L249.584 608.534 L246.829 611.334 L236.204 600.709 L225.579 611.334 L222.848 608.534 L233.403 597.955 L222.848 587.33 L225.579 584.529 L236.204 595.154 L246.829 584.529 L249.584 587.33 Z\" fill=\"#000000\" fill-rule=\"evenodd\" fill-opacity=\"1\" /><path clip-path=\"url(#clip660)\" d=\"M261.945 608.858 L269.583 608.858 L269.583 582.492 L261.273 584.159 L261.273 579.899 L269.537 578.233 L274.213 578.233 L274.213 608.858 L281.852 608.858 L281.852 612.793 L261.945 612.793 L261.945 608.858 Z\" fill=\"#000000\" fill-rule=\"evenodd\" fill-opacity=\"1\" /><path clip-path=\"url(#clip660)\" d=\"M301.296 581.311 Q297.685 581.311 295.856 584.876 Q294.051 588.418 294.051 595.547 Q294.051 602.654 295.856 606.219 Q297.685 609.76 301.296 609.76 Q304.93 609.76 306.736 606.219 Q308.565 602.654 308.565 595.547 Q308.565 588.418 306.736 584.876 Q304.93 581.311 301.296 581.311 M301.296 577.608 Q307.106 577.608 310.162 582.214 Q313.241 586.798 313.241 595.547 Q313.241 604.274 310.162 608.881 Q307.106 613.464 301.296 613.464 Q295.486 613.464 292.407 608.881 Q289.352 604.274 289.352 595.547 Q289.352 586.798 292.407 582.214 Q295.486 577.608 301.296 577.608 Z\" fill=\"#000000\" fill-rule=\"evenodd\" fill-opacity=\"1\" /><path clip-path=\"url(#clip660)\" d=\"M313.786 582.185 L319.993 582.185 L319.993 560.763 L313.241 562.117 L313.241 558.656 L319.955 557.302 L323.754 557.302 L323.754 582.185 L329.961 582.185 L329.961 585.382 L313.786 585.382 L313.786 582.185 Z\" fill=\"#000000\" fill-rule=\"evenodd\" fill-opacity=\"1\" /><path clip-path=\"url(#clip660)\" d=\"M345.759 559.804 Q342.825 559.804 341.339 562.7 Q339.872 565.578 339.872 571.371 Q339.872 577.145 341.339 580.041 Q342.825 582.919 345.759 582.919 Q348.712 582.919 350.179 580.041 Q351.665 577.145 351.665 571.371 Q351.665 565.578 350.179 562.7 Q348.712 559.804 345.759 559.804 M345.759 556.795 Q350.48 556.795 352.963 560.537 Q355.464 564.261 355.464 571.371 Q355.464 578.461 352.963 582.204 Q350.48 585.928 345.759 585.928 Q341.038 585.928 338.537 582.204 Q336.054 578.461 336.054 571.371 Q336.054 564.261 338.537 560.537 Q341.038 556.795 345.759 556.795 Z\" fill=\"#000000\" fill-rule=\"evenodd\" fill-opacity=\"1\" /><path clip-path=\"url(#clip660)\" d=\"M119.885 312.415 L136.204 312.415 L136.204 316.35 L114.26 316.35 L114.26 312.415 Q116.922 309.66 121.505 305.03 Q126.112 300.378 127.292 299.035 Q129.538 296.512 130.417 294.776 Q131.32 293.016 131.32 291.327 Q131.32 288.572 129.376 286.836 Q127.455 285.1 124.353 285.1 Q122.154 285.1 119.7 285.864 Q117.269 286.628 114.492 288.179 L114.492 283.456 Q117.316 282.322 119.769 281.743 Q122.223 281.165 124.26 281.165 Q129.63 281.165 132.825 283.85 Q136.019 286.535 136.019 291.026 Q136.019 293.155 135.209 295.077 Q134.422 296.975 132.316 299.567 Q131.737 300.239 128.635 303.456 Q125.533 306.651 119.885 312.415 Z\" fill=\"#000000\" fill-rule=\"evenodd\" fill-opacity=\"1\" /><path clip-path=\"url(#clip660)\" d=\"M146.019 310.47 L150.903 310.47 L150.903 316.35 L146.019 316.35 L146.019 310.47 Z\" fill=\"#000000\" fill-rule=\"evenodd\" fill-opacity=\"1\" /><path clip-path=\"url(#clip660)\" d=\"M171.089 284.868 Q167.477 284.868 165.649 288.433 Q163.843 291.975 163.843 299.104 Q163.843 306.211 165.649 309.776 Q167.477 313.317 171.089 313.317 Q174.723 313.317 176.528 309.776 Q178.357 306.211 178.357 299.104 Q178.357 291.975 176.528 288.433 Q174.723 284.868 171.089 284.868 M171.089 281.165 Q176.899 281.165 179.954 285.771 Q183.033 290.354 183.033 299.104 Q183.033 307.831 179.954 312.438 Q176.899 317.021 171.089 317.021 Q165.278 317.021 162.2 312.438 Q159.144 307.831 159.144 299.104 Q159.144 290.354 162.2 285.771 Q165.278 281.165 171.089 281.165 Z\" fill=\"#000000\" fill-rule=\"evenodd\" fill-opacity=\"1\" /><path clip-path=\"url(#clip660)\" d=\"M201.25 284.868 Q197.639 284.868 195.811 288.433 Q194.005 291.975 194.005 299.104 Q194.005 306.211 195.811 309.776 Q197.639 313.317 201.25 313.317 Q204.885 313.317 206.69 309.776 Q208.519 306.211 208.519 299.104 Q208.519 291.975 206.69 288.433 Q204.885 284.868 201.25 284.868 M201.25 281.165 Q207.061 281.165 210.116 285.771 Q213.195 290.354 213.195 299.104 Q213.195 307.831 210.116 312.438 Q207.061 317.021 201.25 317.021 Q195.44 317.021 192.362 312.438 Q189.306 307.831 189.306 299.104 Q189.306 290.354 192.362 285.771 Q195.44 281.165 201.25 281.165 Z\" fill=\"#000000\" fill-rule=\"evenodd\" fill-opacity=\"1\" /><path clip-path=\"url(#clip660)\" d=\"M249.584 290.887 L239.005 301.512 L249.584 312.09 L246.829 314.891 L236.204 304.266 L225.579 314.891 L222.848 312.09 L233.403 301.512 L222.848 290.887 L225.579 288.086 L236.204 298.711 L246.829 288.086 L249.584 290.887 Z\" fill=\"#000000\" fill-rule=\"evenodd\" fill-opacity=\"1\" /><path clip-path=\"url(#clip660)\" d=\"M261.945 312.415 L269.583 312.415 L269.583 286.049 L261.273 287.716 L261.273 283.456 L269.537 281.79 L274.213 281.79 L274.213 312.415 L281.852 312.415 L281.852 316.35 L261.945 316.35 L261.945 312.415 Z\" fill=\"#000000\" fill-rule=\"evenodd\" fill-opacity=\"1\" /><path clip-path=\"url(#clip660)\" d=\"M301.296 284.868 Q297.685 284.868 295.856 288.433 Q294.051 291.975 294.051 299.104 Q294.051 306.211 295.856 309.776 Q297.685 313.317 301.296 313.317 Q304.93 313.317 306.736 309.776 Q308.565 306.211 308.565 299.104 Q308.565 291.975 306.736 288.433 Q304.93 284.868 301.296 284.868 M301.296 281.165 Q307.106 281.165 310.162 285.771 Q313.241 290.354 313.241 299.104 Q313.241 307.831 310.162 312.438 Q307.106 317.021 301.296 317.021 Q295.486 317.021 292.407 312.438 Q289.352 307.831 289.352 299.104 Q289.352 290.354 292.407 285.771 Q295.486 281.165 301.296 281.165 Z\" fill=\"#000000\" fill-rule=\"evenodd\" fill-opacity=\"1\" /><path clip-path=\"url(#clip660)\" d=\"M313.786 285.742 L319.993 285.742 L319.993 264.32 L313.241 265.674 L313.241 262.213 L319.955 260.859 L323.754 260.859 L323.754 285.742 L329.961 285.742 L329.961 288.939 L313.786 288.939 L313.786 285.742 Z\" fill=\"#000000\" fill-rule=\"evenodd\" fill-opacity=\"1\" /><path clip-path=\"url(#clip660)\" d=\"M345.759 263.361 Q342.825 263.361 341.339 266.257 Q339.872 269.135 339.872 274.928 Q339.872 280.701 341.339 283.598 Q342.825 286.475 345.759 286.475 Q348.712 286.475 350.179 283.598 Q351.665 280.701 351.665 274.928 Q351.665 269.135 350.179 266.257 Q348.712 263.361 345.759 263.361 M345.759 260.351 Q350.48 260.351 352.963 264.094 Q355.464 267.818 355.464 274.928 Q355.464 282.018 352.963 285.761 Q350.48 289.485 345.759 289.485 Q341.038 289.485 338.537 285.761 Q336.054 282.018 336.054 274.928 Q336.054 267.818 338.537 264.094 Q341.038 260.351 345.759 260.351 Z\" fill=\"#000000\" fill-rule=\"evenodd\" fill-opacity=\"1\" /><path clip-path=\"url(#clip660)\" d=\"M16.4842 825.797 L16.4842 798.488 L21.895 798.488 L21.895 819.368 L35.8996 819.368 L35.8996 800.525 L41.3104 800.525 L41.3104 819.368 L64.0042 819.368 L64.0042 825.797 L16.4842 825.797 Z\" fill=\"#000000\" fill-rule=\"evenodd\" fill-opacity=\"1\" /><path clip-path=\"url(#clip660)\" d=\"M16.4842 788.303 L16.4842 781.874 L58.5933 781.874 L58.5933 758.735 L64.0042 758.735 L64.0042 788.303 L16.4842 788.303 Z\" fill=\"#000000\" fill-rule=\"evenodd\" fill-opacity=\"1\" /><path clip-path=\"url(#clip660)\" d=\"M20.8447 735.022 Q20.8447 742.025 26.0645 746.162 Q31.2844 750.268 40.2919 750.268 Q49.2675 750.268 54.4874 746.162 Q59.7073 742.025 59.7073 735.022 Q59.7073 728.02 54.4874 723.946 Q49.2675 719.84 40.2919 719.84 Q31.2844 719.84 26.0645 723.946 Q20.8447 728.02 20.8447 735.022 M15.6248 735.022 Q15.6248 725.028 22.3406 719.044 Q29.0246 713.061 40.2919 713.061 Q51.5274 713.061 58.2432 719.044 Q64.9272 725.028 64.9272 735.022 Q64.9272 745.048 58.2432 751.064 Q51.5592 757.048 40.2919 757.048 Q29.0246 757.048 22.3406 751.064 Q15.6248 745.048 15.6248 735.022 Z\" fill=\"#000000\" fill-rule=\"evenodd\" fill-opacity=\"1\" /><path clip-path=\"url(#clip660)\" d=\"M21.7677 696.573 L39.6235 696.573 L39.6235 688.489 Q39.6235 684.001 37.3 681.55 Q34.9765 679.1 30.6797 679.1 Q26.4147 679.1 24.0912 681.55 Q21.7677 684.001 21.7677 688.489 L21.7677 696.573 M16.4842 703.003 L16.4842 688.489 Q16.4842 680.5 20.1126 676.426 Q23.7092 672.32 30.6797 672.32 Q37.7138 672.32 41.3104 676.426 Q44.907 680.5 44.907 688.489 L44.907 696.573 L64.0042 696.573 L64.0042 703.003 L16.4842 703.003 Z\" fill=\"#000000\" fill-rule=\"evenodd\" fill-opacity=\"1\" /><path clip-path=\"url(#clip660)\" d=\"M18.0438 635.208 L24.314 635.208 Q22.5634 638.868 21.704 642.115 Q20.8447 645.361 20.8447 648.385 Q20.8447 653.637 22.8817 656.501 Q24.9187 659.334 28.6745 659.334 Q31.8255 659.334 33.4488 657.456 Q35.0402 655.546 36.0269 650.263 L36.8226 646.38 Q38.1912 639.187 41.6605 635.781 Q45.098 632.343 50.8908 632.343 Q57.7976 632.343 61.3624 636.99 Q64.9272 641.606 64.9272 650.549 Q64.9272 653.923 64.1633 657.743 Q63.3994 661.53 61.9035 665.604 L55.2831 665.604 Q57.4793 661.689 58.5933 657.934 Q59.7073 654.178 59.7073 650.549 Q59.7073 645.043 57.543 642.051 Q55.3786 639.059 51.3682 639.059 Q47.8671 639.059 45.8937 641.224 Q43.9204 643.356 42.9337 648.258 L42.1698 652.173 Q40.7375 659.366 37.682 662.581 Q34.6264 665.795 29.1837 665.795 Q22.8817 665.795 19.2532 661.371 Q15.6248 656.915 15.6248 649.117 Q15.6248 645.775 16.2295 642.306 Q16.8343 638.836 18.0438 635.208 Z\" fill=\"#000000\" fill-rule=\"evenodd\" fill-opacity=\"1\" /><polyline clip-path=\"url(#clip663)\" style=\"stroke:#009af9; stroke-linecap:butt; stroke-linejoin:round; stroke-width:4; stroke-opacity:1; fill:none\" points=\"\n",
       "  446.972,1372.3 654.662,1031.38 861.757,772.151 1067.67,641.148 1271.27,324.117 1470.38,196.835 1661.12,128.479 1837.11,95.479 1989.65,85.838 2110.3,105.646 \n",
       "  2195.57,96.0265 2249.41,159.52 2280.44,107.757 2297.25,104.017 \n",
       "  \"/>\n",
       "<path clip-path=\"url(#clip660)\" d=\"\n",
       "M2017.03 196.379 L2287.38 196.379 L2287.38 92.6992 L2017.03 92.6992  Z\n",
       "  \" fill=\"#ffffff\" fill-rule=\"evenodd\" fill-opacity=\"1\"/>\n",
       "<polyline clip-path=\"url(#clip660)\" style=\"stroke:#000000; stroke-linecap:butt; stroke-linejoin:round; stroke-width:4; stroke-opacity:1; fill:none\" points=\"\n",
       "  2017.03,196.379 2287.38,196.379 2287.38,92.6992 2017.03,92.6992 2017.03,196.379 \n",
       "  \"/>\n",
       "<polyline clip-path=\"url(#clip660)\" style=\"stroke:#009af9; stroke-linecap:butt; stroke-linejoin:round; stroke-width:4; stroke-opacity:1; fill:none\" points=\"\n",
       "  2038.82,144.539 2169.57,144.539 \n",
       "  \"/>\n",
       "<path clip-path=\"url(#clip660)\" d=\"M2205.21 164.227 Q2203.4 168.856 2201.69 170.268 Q2199.98 171.68 2197.11 171.68 L2193.7 171.68 L2193.7 168.115 L2196.2 168.115 Q2197.96 168.115 2198.93 167.282 Q2199.91 166.449 2201.09 163.347 L2201.85 161.403 L2191.36 135.893 L2195.88 135.893 L2203.98 156.171 L2212.08 135.893 L2216.6 135.893 L2205.21 164.227 Z\" fill=\"#000000\" fill-rule=\"evenodd\" fill-opacity=\"1\" /><path clip-path=\"url(#clip660)\" d=\"M2223.89 157.884 L2231.53 157.884 L2231.53 131.518 L2223.22 133.185 L2223.22 128.926 L2231.48 127.259 L2236.16 127.259 L2236.16 157.884 L2243.8 157.884 L2243.8 161.819 L2223.89 161.819 L2223.89 157.884 Z\" fill=\"#000000\" fill-rule=\"evenodd\" fill-opacity=\"1\" /></svg>\n"
      ]
     },
     "execution_count": 10,
     "metadata": {},
     "output_type": "execute_result"
    }
   ],
   "source": [
    "flops = p^2 * qs ./ times # Anzal der Fließkommaoperationen pro Sekunde\n",
    "\n",
    "I_A(p,q) = 2p^2*q / (p^2 + 2p*q)\n",
    "I = I_A.(p,qs);           # Arithmetische Intensität\n",
    "\n",
    "plot(I, flops, xaxis=:log)\n",
    "xlabel!(L\"$I_A$\")\n",
    "ylabel!(\"FLOPS\")"
   ]
  },
  {
   "cell_type": "markdown",
   "id": "specified-ukraine",
   "metadata": {},
   "source": [
    "**Ergebnis:** Bei großer arithmetischer Intensität saturiert die Performance wegen der beschränkten Rechenkapazität des Computers und der Algorithmus ist *compute-bound*. Im Bereich geringer arithmetischer Intensität ist der Algorithmus *memory-bound* und kann deshalb nicht die theoretisch verfügbaren Rechenoperationen ausnutzen."
   ]
  }
 ],
 "metadata": {
  "kernelspec": {
   "display_name": "Julia 1.7.1",
   "language": "julia",
   "name": "julia-1.7"
  },
  "language_info": {
   "file_extension": ".jl",
   "mimetype": "application/julia",
   "name": "julia",
   "version": "1.7.1"
  }
 },
 "nbformat": 4,
 "nbformat_minor": 5
}
