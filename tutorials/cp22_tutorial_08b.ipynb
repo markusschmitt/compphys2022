{
 "cells": [
  {
   "cell_type": "markdown",
   "id": "informed-nepal",
   "metadata": {},
   "source": [
    "# Computerphysik Programmiertutorial 8b\n",
    "Prof. Dr. Matteo Rizzi und Dr. Markus Schmitt - Institut für Theoretische Physik, Universität zu Köln\n",
    "&nbsp;\n",
    "\n",
    "**Github**: [https://github.com/markusschmitt/compphys2022](https://github.com/markusschmitt/compphys2022)\n",
    "\n",
    "**Inhalt dieses Notebooks**: Virtuelles Pohl'sches Rad: Einbinden von Code aus externen Dateien, Diskrete Fouriertransformation, Fehlerfortpflanzung, least-squares Fits\n",
    "\n",
    "# Ein virtuelles Experiment\n",
    "\n",
    "<img src=\"https://lp.uni-goettingen.de/get/bigimage/181\"></img>"
   ]
  },
  {
   "cell_type": "code",
   "execution_count": null,
   "id": "corresponding-manufacturer",
   "metadata": {
    "scrolled": true
   },
   "outputs": [],
   "source": [
    "using Plots, LaTeXStrings\n",
    "\n",
    "include(\"pohl_experiment.jl\")\n",
    "\n",
    "using .PohlExperiment"
   ]
  },
  {
   "cell_type": "code",
   "execution_count": null,
   "id": "center-vitamin",
   "metadata": {},
   "outputs": [],
   "source": []
  },
  {
   "cell_type": "markdown",
   "id": "swedish-wound",
   "metadata": {},
   "source": [
    "## Ein virtuelles Experiment ausführen"
   ]
  },
  {
   "cell_type": "code",
   "execution_count": null,
   "id": "coated-marshall",
   "metadata": {},
   "outputs": [],
   "source": []
  },
  {
   "cell_type": "markdown",
   "id": "filled-shaft",
   "metadata": {},
   "source": [
    "Daten inspizieren:"
   ]
  },
  {
   "cell_type": "code",
   "execution_count": null,
   "id": "spoken-mexico",
   "metadata": {},
   "outputs": [],
   "source": [
    "plot(data.t,data.phi,marker=:+)\n",
    "\n",
    "xlabel!(L\"t\")\n",
    "ylabel!(L\"$\\varphi(t)$\")"
   ]
  },
  {
   "cell_type": "markdown",
   "id": "spare-pursuit",
   "metadata": {},
   "source": [
    "## Eigenfrequenz bestimmen"
   ]
  },
  {
   "cell_type": "markdown",
   "id": "postal-retail",
   "metadata": {},
   "source": [
    "Fouriertransformation des Schwingungssignals:\n",
    "\n",
    "Die diskrete Fouriertransformation eines Signals $a=(a_1,\\ldots,a_N)$ ergibt die Fourierkoeffizienten\n",
    "\n",
    "$$\n",
    "\\hat a_k=\\sum_{j=1}^{N}e^{-2\\pi i\\frac{jk}{N}}a_j\n",
    "$$\n",
    "\n",
    "Der Index $k$ ist also der Frequenz $\\omega_k=\\frac{2\\pi k}{N}$ zugeordnet. Für ein reelles Signal gilt $\\hat a_k=(\\hat a_{N-k})^*$.\n",
    "\n",
    "Diskrete Fouriertransformation ist im Julia Paket `FFTW` implementiert ([siehe hier](https://juliamath.github.io/FFTW.jl/stable/)). Fouriertransformation eines reellen Signals wird mit der Funktion `rfft` ausgeführt:"
   ]
  },
  {
   "cell_type": "code",
   "execution_count": null,
   "id": "serial-cricket",
   "metadata": {
    "scrolled": false
   },
   "outputs": [],
   "source": []
  },
  {
   "cell_type": "markdown",
   "id": "clean-arena",
   "metadata": {},
   "source": [
    "Spektrum plotten:"
   ]
  },
  {
   "cell_type": "code",
   "execution_count": null,
   "id": "ambient-purple",
   "metadata": {},
   "outputs": [],
   "source": [
    "# Frequenzen berechnen\n",
    "dt = data.t[2]-data.t[1]\n",
    "k_values = collect(1:length(phi_omega)).-1\n",
    "omega_k = k_values*2*pi/length(data.phi)/dt\n",
    "\n",
    "plot(omega_k, abs.(phi_omega), marker=:o)\n",
    "\n",
    "xlabel!(L\"Frequenz $\\omega_k$\")\n",
    "ylabel!(L\"Fourierkoeffizient $\\hat a(\\omega_k)$\");\n",
    "xlims!(0,3)"
   ]
  },
  {
   "cell_type": "markdown",
   "id": "unauthorized-figure",
   "metadata": {},
   "source": [
    "Bestimme den Parameter $\\Omega_0$ als den Wert, bei dem $A(\\omega)$ maximal ist."
   ]
  },
  {
   "cell_type": "code",
   "execution_count": null,
   "id": "elder-festival",
   "metadata": {},
   "outputs": [],
   "source": []
  },
  {
   "cell_type": "markdown",
   "id": "healthy-adventure",
   "metadata": {},
   "source": [
    "Dieses Ergebnis ist fehlerbehaftet. Das können wir in Julia berücksichtigen und das Paket `Measurements` verwenden ([siehe hier](https://juliaphysics.github.io/Measurements.jl/stable/)). `Measurements` führt einen Datentyp für fehlerbehaftete Zahlen ein und ermöglicht damit sehr einfach die Fehlerfortpflanzung zu berechnen.\n",
    "\n",
    "Da wir unser Ergebnis für $\\Omega_0$ durch Ablesen des Maximums erhalten haben, ist es sinnvoll als Fehler die Auflösung auf der Frequenz-Achse anzugeben. Dafür nutzen wir `measurement` aus dem `Measurements` Paket:"
   ]
  },
  {
   "cell_type": "code",
   "execution_count": null,
   "id": "rocky-harvard",
   "metadata": {},
   "outputs": [],
   "source": []
  },
  {
   "cell_type": "markdown",
   "id": "concrete-effects",
   "metadata": {},
   "source": [
    "**Beispiel zur Fehlerfortpflanzung:**\n",
    "\n",
    "Typischerweise kann der Hersteller des Pohl'schen Rades das zugehörige Trägheitsmoment $\\Theta$ angeben. In unserem Modul `PohlExperiment` haben wir eine solche Angabe mit eingebaut, inklusive einer Fehlerangabe:"
   ]
  },
  {
   "cell_type": "code",
   "execution_count": null,
   "id": "instant-galaxy",
   "metadata": {},
   "outputs": [],
   "source": []
  },
  {
   "cell_type": "markdown",
   "id": "australian-master",
   "metadata": {},
   "source": [
    "Mit dieser Angabe und unserem Ergebnis für $\\Omega_0$ können wir die \"Federkonstante\" $k$ des Rades ausrechnen:\n",
    "\n",
    "$$\n",
    "    k = \\Omega_0^2\\Theta\n",
    "$$\n",
    "\n",
    "Wenn wir mit `measurement`s rechnen, wird die zugehörige Fehlerfortpflanzung automatisch mitberechnet:"
   ]
  },
  {
   "cell_type": "code",
   "execution_count": null,
   "id": "wrong-glance",
   "metadata": {},
   "outputs": [],
   "source": []
  },
  {
   "cell_type": "markdown",
   "id": "hearing-shark",
   "metadata": {},
   "source": [
    "## Analyse inklusive Dämpfung und Antrieb\n",
    "\n",
    "Die maximale Schwingungsamplitude des Pohl'sche Rades mit Dämpfung und Antrieb ist im Anschluss an die Einschwingphase gegeben durch\n",
    "\n",
    "$$\n",
    "\\varphi_{max}(\\Omega_F)=\\frac{F}{\\sqrt{(\\Omega_F^2-\\Omega_0^2)^2+\\gamma^2\\Omega_0^2}}\n",
    "$$\n",
    "\n",
    "Wir werden jetzt eine Reihe virtueller Experimente mit verschiedenen $\\Omega_F$ durchführen um $\\varphi_{max}(\\Omega_F)$ zu messen. Anschließend werden wir eine Funktion an die Daten fitten um die Parameter $\\gamma$ und $F$ zu bestimmen.\n",
    "\n",
    "Wir beginnen also mit der Datenaufnahme:"
   ]
  },
  {
   "cell_type": "code",
   "execution_count": null,
   "id": "infectious-cornell",
   "metadata": {
    "scrolled": true
   },
   "outputs": [],
   "source": []
  },
  {
   "cell_type": "markdown",
   "id": "interracial-shuttle",
   "metadata": {},
   "source": [
    "Daten visualisieren:"
   ]
  },
  {
   "cell_type": "code",
   "execution_count": null,
   "id": "guided-calvin",
   "metadata": {},
   "outputs": [],
   "source": [
    "plot()\n",
    "for d in dataList\n",
    "    plot!(d.t, d.phi, label=\"\")\n",
    "end\n",
    "\n",
    "xlabel!(L\"time $t$\")\n",
    "ylabel!(L\"Amplitude $\\varphi(t)$\")"
   ]
  },
  {
   "cell_type": "markdown",
   "id": "referenced-bradford",
   "metadata": {},
   "source": [
    "Nun wollen wir für jede Antriebsfrequenz die konstante Schwingungsamplitude nach der Einschwingphase bestimmen. Dafür definieren wir zunächst eine Funktion, die aus einem Array von Werten die lokalen Maxima heraussucht:"
   ]
  },
  {
   "cell_type": "code",
   "execution_count": null,
   "id": "dress-oracle",
   "metadata": {},
   "outputs": [],
   "source": [
    "function get_absolute_extrema(a)\n",
    "\n",
    "    a_abs = abs.(a) # Wir wollen den Betrag betrachten\n",
    "    \n",
    "    # In dieser Liste werden wir die Extremwerte sammeln\n",
    "    extrema = []\n",
    "    \n",
    "    # Schleife über Array-Einträge\n",
    "    for i in 2:length(a_abs)-1\n",
    "        \n",
    "        # Testen ob der aktuelle eintrag ein Maximum ist\n",
    "        if a_abs[i]-a_abs[i-1] > 0 && a_abs[i+1] - a_abs[i] < 0\n",
    "            # Maxima der Liste hinzufügen\n",
    "            push!(extrema, a_abs[i])\n",
    "        end\n",
    "    end\n",
    "    \n",
    "    return extrema\n",
    "    \n",
    "end"
   ]
  },
  {
   "cell_type": "markdown",
   "id": "mounted-caution",
   "metadata": {},
   "source": [
    "Nun können wir die Extrema unserer \"gemessenen\" Daten suchen und so ein Ergebnis für $\\varphi(\\Omega_F)$ bekommen:"
   ]
  },
  {
   "cell_type": "code",
   "execution_count": null,
   "id": "recent-trouble",
   "metadata": {},
   "outputs": [],
   "source": [
    "using Statistics\n",
    "\n",
    "amplitude = []\n",
    "amplitude_error = []\n",
    "\n",
    "I0 = Int(50 / dt) # Start Index: ignoriere Einschwingzeit\n",
    "\n",
    "for d in dataList\n",
    "    \n",
    "    A = get_absolute_extrema(d.phi[I0:end])\n",
    "    \n",
    "    push!(amplitude, mean(A))                        # Mittelwert der Amplitude\n",
    "    push!(amplitude_error, std(A)/sqrt(length(A)))   # Standardfehler des Mittelwerts\n",
    "\n",
    "end\n",
    "\n",
    "# Plot\n",
    "plot(Omega_F_list, amplitude, yerror=amplitude_error, marker=:o, markersize=1)\n",
    "xlabel!(L\"Antriebsfrequenz $\\Omega_F$\")\n",
    "ylabel!(L\"Amplitude $\\varphi(\\Omega_F)$\")"
   ]
  },
  {
   "cell_type": "markdown",
   "id": "athletic-determination",
   "metadata": {},
   "source": [
    "Schließlich wollen wir noch einen Fit an die Datenpunkte machen, um die verbleibenden Parameter zu extrahieren. Dafür verwenden wir das Paket `LsqFit` ([siehe hier](https://julianlsolvers.github.io/LsqFit.jl/latest/))."
   ]
  },
  {
   "cell_type": "code",
   "execution_count": null,
   "id": "practical-benjamin",
   "metadata": {},
   "outputs": [],
   "source": []
  },
  {
   "cell_type": "markdown",
   "id": "fabulous-walker",
   "metadata": {},
   "source": [
    "Damit können wir leicht \"least squares\" Fits durchführen. Zunächst müssen wir die Modellfunktion (den Ansatz) definieren:"
   ]
  },
  {
   "cell_type": "code",
   "execution_count": null,
   "id": "timely-radar",
   "metadata": {},
   "outputs": [],
   "source": [
    "Omega_0_val = Omega_0.val # Wert unseres Ergebnisses für Omega_0\n",
    "\n",
    "function model(omega, p)\n",
    "    \n",
    "    global Omega_0_val\n",
    "    \n",
    "    gamma = p[1]\n",
    "    F0 = p[2]\n",
    "    \n",
    "    return @. F0 / sqrt((omega^2 - Omega_0_val^2)^2 + gamma^2 * omega^2)\n",
    "end"
   ]
  },
  {
   "cell_type": "markdown",
   "id": "terminal-paraguay",
   "metadata": {},
   "source": [
    "Dann können wir den Fit durchführen:"
   ]
  },
  {
   "cell_type": "code",
   "execution_count": null,
   "id": "increasing-organizer",
   "metadata": {},
   "outputs": [],
   "source": []
  },
  {
   "cell_type": "markdown",
   "id": "careful-coverage",
   "metadata": {},
   "source": [
    "Ergebnis: Die Variable `fit` hat nun ein Feld `param`, das das Ergebnis für die gefitteten Parameter enthält. Außerdem gibt die Funktion `estimate_covar` die Kovarianzmatrix aus, woraus sich die Fehlerabschätzung ergibt. Damit können wir das Ergebnis wieder als `measurement`s behandeln:"
   ]
  },
  {
   "cell_type": "code",
   "execution_count": null,
   "id": "helpful-parade",
   "metadata": {},
   "outputs": [],
   "source": [
    "function get_error(fit, i)\n",
    "    return sqrt(estimate_covar(fit)[i,i])\n",
    "end\n",
    "\n",
    "errors = [get_error(fit, i) for i in 1:2]\n",
    "\n",
    "gamma_fit = measurement(fit.param[1], errors[1])\n",
    "F_fit = measurement(fit.param[2], errors[2])\n",
    "\n",
    "println(\"gamma = \", gamma_fit)\n",
    "println(\"F = \", F_fit)"
   ]
  },
  {
   "cell_type": "markdown",
   "id": "dirty-receiver",
   "metadata": {},
   "source": [
    "Plot:"
   ]
  },
  {
   "cell_type": "code",
   "execution_count": null,
   "id": "protected-royal",
   "metadata": {},
   "outputs": [],
   "source": [
    "plot(Omega_F_list, amplitude, yerror=amplitude_error, marker=\".\", markersize=1)\n",
    "plot!(collect(0:0.01:pi), model(collect(0:0.01:pi), [gamma_fit.val, F_fit.val]))\n",
    "xlabel!(L\"Antriebsfrequenz $\\Omega_F$\")\n",
    "ylabel!(L\"Amplitude $\\varphi(\\Omega_F)$\")"
   ]
  },
  {
   "cell_type": "markdown",
   "id": "unlikely-hours",
   "metadata": {},
   "source": [
    "## Ergebnisse"
   ]
  },
  {
   "cell_type": "code",
   "execution_count": null,
   "id": "peaceful-radical",
   "metadata": {},
   "outputs": [],
   "source": [
    "println(\"Exact:\")\n",
    "println(\"Omega_0 = \", PohlExperiment.Omega_0)\n",
    "println(\"gamma = \", PohlExperiment.gamma[2])\n",
    "println(\"F = \", PohlExperiment.F)\n",
    "println(\"\")\n",
    "println(\"Unsere Auswertung:\")\n",
    "println(\"Omega_0 = \", Omega_0)\n",
    "println(\"gamma = \", gamma_fit)\n",
    "println(\"F = \", F_fit)"
   ]
  }
 ],
 "metadata": {
  "kernelspec": {
   "display_name": "Julia 1.7.1",
   "language": "julia",
   "name": "julia-1.7"
  },
  "language_info": {
   "file_extension": ".jl",
   "mimetype": "application/julia",
   "name": "julia",
   "version": "1.7.1"
  }
 },
 "nbformat": 4,
 "nbformat_minor": 5
}
