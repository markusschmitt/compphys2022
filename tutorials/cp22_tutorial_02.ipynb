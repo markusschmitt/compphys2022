{
 "cells": [
  {
   "cell_type": "markdown",
   "id": "informed-nepal",
   "metadata": {},
   "source": [
    "# Computerphysik Programmiertutorial 2\n",
    "Prof. Dr. Matteo Rizzi und Dr. Markus Schmitt - Institut für Theoretische Physik, Universität zu Köln\n",
    "&nbsp;\n",
    "\n",
    "**ILIAS**: [https://www.ilias.uni-koeln.de/ilias/goto_uk_crs_3862489.html](https://www.ilias.uni-koeln.de/ilias/goto_uk_crs_3862489.html)\n",
    "\n",
    "**Github**: [https://github.com/markusschmitt/compphys2022](https://github.com/markusschmitt/compphys2022)\n",
    "\n",
    "**Inhalt dieses Notebooks**: Bemerkung zu Jupyter Notebooks, Vergleichs- und logische Operatoren, `if`-statements, `while`-Schleifen, Erster Algorithmus: Fakultät berechnen"
   ]
  },
  {
   "cell_type": "markdown",
   "id": "virgin-coordinate",
   "metadata": {},
   "source": [
    "## Bemerkung zu Jupyter Notebooks\n",
    "\n",
    "Die Zellen eines Notebooks müssen nicht unbedingt nacheinander von oben nach unten ausgeführt werden. Beliebige Ausführungsreihenfolgen sind möglich. Das bedeutet aber, dass das Ergebnis der Ausführung einer Zelle davon abhängen kann, in welcher Reihenfolge vorherige Zellen ausgeführt wurden:"
   ]
  },
  {
   "cell_type": "code",
   "execution_count": null,
   "id": "weird-gamma",
   "metadata": {},
   "outputs": [],
   "source": []
  },
  {
   "cell_type": "code",
   "execution_count": null,
   "id": "hungarian-toilet",
   "metadata": {},
   "outputs": [],
   "source": []
  },
  {
   "cell_type": "code",
   "execution_count": null,
   "id": "silent-profit",
   "metadata": {},
   "outputs": [],
   "source": []
  },
  {
   "cell_type": "markdown",
   "id": "coral-binding",
   "metadata": {},
   "source": [
    "## Vergleichs- und logische Operatoren\n",
    "\n",
    "Wir haben bereits die Rechenoperatoren `+`, `*`, etc. kennengelernt. Eine weitere wichtige Operation ist das Vergleichen von Variablen mit\n",
    "\n",
    "* `<`: kleiner\n",
    "* `>`: größer\n",
    "* `==`: gleich\n",
    "* `!=`: nicht gleich\n",
    "* `<=` / `>=`: kleiner oder gleich / größer oder gleich \n",
    "\n",
    "Das Ergebnis einer Vergleichsoperation ist ein Wahrheitswert (`Bool`): `true` oder `false`.\n",
    "\n",
    "So können wir z.B. Zahlen vergleichen:"
   ]
  },
  {
   "cell_type": "code",
   "execution_count": null,
   "id": "white-january",
   "metadata": {},
   "outputs": [],
   "source": []
  },
  {
   "cell_type": "markdown",
   "id": "silent-animation",
   "metadata": {},
   "source": [
    "Genauso können wir Strings vergleichen:"
   ]
  },
  {
   "cell_type": "code",
   "execution_count": null,
   "id": "laughing-contest",
   "metadata": {},
   "outputs": [],
   "source": []
  },
  {
   "cell_type": "markdown",
   "id": "mental-plate",
   "metadata": {},
   "source": [
    "Zum Programmieren ist es außerdem wichtig Wahrheitswerte logisch verknüpfen zu können, also mit Wahrheitswerten zu \"rechnen\".\n",
    "\n",
    "* `&&`: logisches UND\n",
    "* `||`: logisches ODER\n",
    "* `!`: Negierung"
   ]
  },
  {
   "cell_type": "code",
   "execution_count": null,
   "id": "advisory-python",
   "metadata": {},
   "outputs": [],
   "source": []
  },
  {
   "cell_type": "code",
   "execution_count": null,
   "id": "muslim-triumph",
   "metadata": {},
   "outputs": [],
   "source": []
  },
  {
   "cell_type": "code",
   "execution_count": null,
   "id": "micro-elements",
   "metadata": {},
   "outputs": [],
   "source": []
  },
  {
   "cell_type": "code",
   "execution_count": null,
   "id": "stock-columbus",
   "metadata": {},
   "outputs": [],
   "source": []
  },
  {
   "cell_type": "code",
   "execution_count": null,
   "id": "speaking-sheet",
   "metadata": {},
   "outputs": [],
   "source": []
  },
  {
   "cell_type": "markdown",
   "id": "contemporary-perspective",
   "metadata": {},
   "source": [
    "## `if`-statements\n",
    "\n",
    "Durch `if`-statements können wir *Verzweigungen* in unseren Algorithmus einbauen.\n",
    "\n",
    "Syntax:\n",
    "```julia\n",
    "if <Bedingung>\n",
    "    <Anweisungen>\n",
    "elseif <alternative Bedingung>\n",
    "    <Anweisungen>\n",
    "else\n",
    "    <Anweisungen>\n",
    "end\n",
    "```"
   ]
  },
  {
   "cell_type": "code",
   "execution_count": null,
   "id": "bored-portsmouth",
   "metadata": {},
   "outputs": [],
   "source": []
  },
  {
   "cell_type": "code",
   "execution_count": null,
   "id": "interracial-macro",
   "metadata": {},
   "outputs": [],
   "source": []
  },
  {
   "cell_type": "code",
   "execution_count": null,
   "id": "sustained-neighbor",
   "metadata": {},
   "outputs": [],
   "source": []
  },
  {
   "cell_type": "code",
   "execution_count": null,
   "id": "initial-venture",
   "metadata": {},
   "outputs": [],
   "source": []
  },
  {
   "cell_type": "markdown",
   "id": "comfortable-tract",
   "metadata": {},
   "source": [
    "## `while`-Schleifen\n",
    "\n",
    "Der Computer ist nützlich, weil er uns ermöglicht ähnliche Operationen sehr schnell sehr häufig auszuführen. Dafür verwenden wir beim Programmieren **Schleifen**. Hier führen wir die `while`-Schleife ein, später werden wir auch noch die `for`-Schleife kennenlernen.\n",
    "\n",
    "Syntax:\n",
    "```julia\n",
    "while <Bedingung>\n",
    "    <Anweisungen>\n",
    "end\n",
    "```\n",
    "\n",
    "In der `while`-Schleife führt der Computer die `<Anweisungen>` im Schleifenkörper (oder \"body\") immer wieder aus, solange die `<Bedingung>` erfüllt ist.\n",
    "\n",
    "**Achtung:** Mit der `while`-Schleife kann man leicht eine `Endlosschleife` produzieren, wenn die `Bedingung` nie nicht erfüllt ist. In so einem Fall wird die Schleife endlos iteriert und die `<Anweisungen>` werden immer wieder ausgeführt."
   ]
  },
  {
   "cell_type": "code",
   "execution_count": null,
   "id": "radio-inclusion",
   "metadata": {},
   "outputs": [],
   "source": []
  },
  {
   "cell_type": "markdown",
   "id": "noble-drilling",
   "metadata": {},
   "source": [
    "Schleifen können mit dem Befehl `break` aus dem Schleifenkörper heraus abgebrochen werden:"
   ]
  },
  {
   "cell_type": "code",
   "execution_count": null,
   "id": "unusual-uniform",
   "metadata": {},
   "outputs": [],
   "source": []
  },
  {
   "cell_type": "markdown",
   "id": "rolled-brunei",
   "metadata": {},
   "source": [
    "Mit dem Befehl `continue` können wir zur nächsten Iteration der Schleife springen (und damit den Rest der aktuellen Iteration überspringen):"
   ]
  },
  {
   "cell_type": "code",
   "execution_count": null,
   "id": "coral-manor",
   "metadata": {},
   "outputs": [],
   "source": []
  },
  {
   "cell_type": "markdown",
   "id": "communist-kansas",
   "metadata": {},
   "source": [
    "## Erster Algorithmus: Fakultät berechnen\n",
    "\n",
    "Jetzt kennen wir alle Werkzeuge um einen ersten einfachen Algorithmus zu implementieren.\n",
    "\n",
    "Zur Erinnerung: Die Fakultät von $n$ ist definiert als\n",
    "$$n!=\\prod_{j=1}^{n}j$$\n",
    "und in der Vorlesung wurde der folgende Algorithmus zur Berechnung eingeführt:\n",
    "\n",
    "<img src=\"https://github.com/markusschmitt/compphys2021/raw/main/tutorials/figures/factorial_diagram.png\" width=\"400\">"
   ]
  },
  {
   "cell_type": "code",
   "execution_count": null,
   "id": "mineral-governor",
   "metadata": {},
   "outputs": [],
   "source": []
  },
  {
   "cell_type": "code",
   "execution_count": null,
   "id": "restricted-winner",
   "metadata": {},
   "outputs": [],
   "source": []
  },
  {
   "cell_type": "code",
   "execution_count": null,
   "id": "novel-slovakia",
   "metadata": {},
   "outputs": [],
   "source": []
  }
 ],
 "metadata": {
  "kernelspec": {
   "display_name": "Julia 1.6.0",
   "language": "julia",
   "name": "julia-1.6"
  },
  "language_info": {
   "file_extension": ".jl",
   "mimetype": "application/julia",
   "name": "julia",
   "version": "1.6.0"
  }
 },
 "nbformat": 4,
 "nbformat_minor": 5
}
