{
 "cells": [
  {
   "cell_type": "markdown",
   "id": "informed-nepal",
   "metadata": {},
   "source": [
    "# Computerphysik Programmiertutorial 6\n",
    "Prof. Dr. Matteo Rizzi und Dr. Markus Schmitt - Institut für Theoretische Physik, Universität zu Köln\n",
    "&nbsp;\n",
    "\n",
    "\n",
    "**Github**: [https://github.com/markusschmitt/compphys2022](https://github.com/markusschmitt/compphys2022)\n",
    "\n",
    "**Inhalt dieses Notebooks**: Rechnungen geschickt sortieren, Arithmetische Intensität\n",
    "\n",
    "\n",
    "## Rechnungen geschickt sortieren\n",
    "\n",
    "Die Rechenzeit verschiedener mathematisch identischer Operationen kann sehr unterschiedlich sein. Ein Beispiel ist die Multiplikation von drei oder mehr Matrizen.\n",
    "\n",
    "Sehen wir uns das Produkt der Matrizen A (Größe $p_1\\times p_2$), B (Größe $p_2\\times p_3$) und C (Größe $p_3\\times p_4$) an:"
   ]
  },
  {
   "cell_type": "code",
   "execution_count": null,
   "id": "continent-pocket",
   "metadata": {},
   "outputs": [],
   "source": [
    "using BenchmarkTools\n",
    "\n",
    "# Abschalten der automatischen Parallelisierung von Julia\n",
    "using LinearAlgebra\n",
    "BLAS.set_num_threads(1);\n",
    "\n",
    "p=[70,99,123,4]\n",
    "\n",
    "A=rand(p[1],p[2])\n",
    "B=rand(p[2],p[3])\n",
    "C=rand(p[3],p[4]);"
   ]
  },
  {
   "cell_type": "markdown",
   "id": "alternative-encounter",
   "metadata": {},
   "source": [
    "Messe die Zeit um das Produkt $A\\cdot B\\cdot C$ zu berechnen:"
   ]
  },
  {
   "cell_type": "code",
   "execution_count": null,
   "id": "corresponding-calvin",
   "metadata": {},
   "outputs": [],
   "source": []
  },
  {
   "cell_type": "markdown",
   "id": "velvet-limit",
   "metadata": {},
   "source": [
    "Da Matrixmultiplikation assoziativ ist, gilt mathematisch\n",
    "\n",
    "$$A\\cdot B\\cdot C = A\\cdot (B\\cdot C)$$\n",
    "\n",
    "Timing von $A\\cdot (B\\cdot C)$:"
   ]
  },
  {
   "cell_type": "code",
   "execution_count": null,
   "id": "suspected-oriental",
   "metadata": {},
   "outputs": [],
   "source": []
  },
  {
   "cell_type": "markdown",
   "id": "oriental-occurrence",
   "metadata": {},
   "source": [
    "Timing von $(A\\cdot B)\\cdot C$:"
   ]
  },
  {
   "cell_type": "code",
   "execution_count": null,
   "id": "possible-plaza",
   "metadata": {},
   "outputs": [],
   "source": []
  },
  {
   "cell_type": "markdown",
   "id": "compact-minimum",
   "metadata": {},
   "source": [
    "Wie viele Rechenoperationen werden jeweils durchgeführt? Multiplizieren einer $p\\times q$-Matrix mit einer $q\\times r$-Matrix braucht $pqr$ Rechenoperationen.\n",
    "\n",
    "* $(A\\cdot B)\\cdot C$ kostet $p_1 p_2 p_3 + p_1p_3p_4$ Rechenoperationen\n",
    "* $A\\cdot (B\\cdot C)$ kostet $p_2 p_3 p_4 + p_1p_2p_4$ Rechenoperationen"
   ]
  },
  {
   "cell_type": "code",
   "execution_count": null,
   "id": "renewable-examination",
   "metadata": {},
   "outputs": [],
   "source": [
    "cost_ab_c(p) = p[1]*p[2]*p[3] + p[1]*p[3]*p[4]\n",
    "cost_a_bc(p) = p[2]*p[3]*p[4] + p[1]*p[2]*p[4]"
   ]
  },
  {
   "cell_type": "markdown",
   "id": "particular-queue",
   "metadata": {},
   "source": [
    "Anzahl Rechenoperationen für $(A\\cdot B)\\cdot C$:"
   ]
  },
  {
   "cell_type": "code",
   "execution_count": null,
   "id": "corporate-honey",
   "metadata": {},
   "outputs": [],
   "source": []
  },
  {
   "cell_type": "markdown",
   "id": "revised-typing",
   "metadata": {},
   "source": [
    "Anzahl Rechenoperationen für $A\\cdot (B\\cdot C)$:"
   ]
  },
  {
   "cell_type": "code",
   "execution_count": null,
   "id": "minor-bulgaria",
   "metadata": {
    "scrolled": true
   },
   "outputs": [],
   "source": []
  },
  {
   "cell_type": "markdown",
   "id": "infinite-sheet",
   "metadata": {},
   "source": [
    "**Ergebnis:** Der Faktor 10 im Laufzeitunterschied entspricht in etwa dem Unterschied in der Zahl an Rechenoperationen"
   ]
  },
  {
   "cell_type": "markdown",
   "id": "computational-reasoning",
   "metadata": {},
   "source": [
    "## Arithmetische Intensität\n",
    "\n",
    "Neben den eigentlichen Rechnungen können auch Speicherzugriffe die Operation sein, die den Preis einer Rechnung bestimmen. Das Lesen und Schreiben von Daten im Speicher ist generell teuer. Diese Operationen sind *mindestens* $10\\times$ langsamer als eine Fließkommarechnung.\n",
    "\n",
    "Die Geschwindigkeit einer Rechnung kann also generell entweder durch die Frequenz elementarer Rechenoperationen (*compute-bound*) oder durch die maximale Geschwindigkeit von Speicherzugriffen (*compute-bound*) beschränkt sein. Welcher der beiden Fälle auf einen bestimmten Algorithmus zutrifft wird durch die **arithmetische Intensität** angezeigt. Die arithmetische Intensität ist definiert als die Zahl der Rechenoperationen pro Menge der gelesenen/geschriebenen Daten:\n",
    "\n",
    "$$I_A=\\frac{\\text{# Rechenoperationen}}{\\text{# gelesene/geschriebene Daten}} \\text{ [1/Byte]}$$\n",
    "\n",
    "* Eine hohe arithmetische Intensität bedeutet, dass viele Rechnungen pro Speicherzugriff ausgeführt werden - der Algorithmus ist daher *compute-bound*.\n",
    "\n",
    "* Eine niedrige arithmetische Intensität bedeutet, dass viele Speicherzugriffe pro Rechnung ausgeführt werden - der Algorithmus ist daher *memory-bound*.\n",
    "\n",
    "### Beispiel: Matrix-Matrix Multiplikation\n",
    "\n",
    "Die Multiplikation einer $p\\times p$-Matrix mit einer $p\\times q$-Matrix kostet $2p^2q$ elementare Rechenoperationen. Gleichzeitig müssen beide Matrizen aus dem Speicher ausgelesen werden und das Ergebnis muss im Speicher abgelegt werden. Das ergibt $p^2+2pq$ Speicherzugriffe. Die arithmetische Intensität ist also\n",
    "\n",
    "$$I_A\\propto\\frac{p^2q}{p^2+2pq}$$\n",
    "\n",
    "Wir nehmen an, dass $p\\gg1$. Daraus ergeben sich zwei interessante Grenzfälle, abhängig von $q$:\n",
    "\n",
    "$$\n",
    "I_A\\propto\n",
    "\\begin{cases}\n",
    "q&\\text{if }q\\ll p\\\\\n",
    "p&\\text{if }p\\approx q\n",
    "\\end{cases}\n",
    "$$\n",
    "\n",
    "Wir haben also geringe arithmetische Intensität, falls $q$ klein ist, und große arithmetische Intensität, falls $p$ und $q$ ähnlich groß sind.\n",
    "\n",
    "Im folgenden Experiment messen wir die Rechenzeit von Matrix-Matrix Multiplikationen in Abhängigkeit von $q$:"
   ]
  },
  {
   "cell_type": "code",
   "execution_count": null,
   "id": "loose-somewhere",
   "metadata": {},
   "outputs": [],
   "source": [
    "p=2000\n",
    "qs = [2^j for j in 1:14]\n",
    "\n",
    "A=rand(p,p)\n",
    "\n",
    "times=[]\n",
    "\n",
    "for q in qs\n",
    "    B=rand(p,q)\n",
    "    \n",
    "    time=@elapsed A*B\n",
    "    push!(times, time)\n",
    "    println(\"$q $time\")\n",
    "end"
   ]
  },
  {
   "cell_type": "code",
   "execution_count": null,
   "id": "faced-invasion",
   "metadata": {
    "scrolled": false
   },
   "outputs": [],
   "source": [
    "using Plots\n",
    "using LaTeXStrings\n",
    "\n",
    "plot(qs, times)\n",
    "xlabel!(L\"$q$\")\n",
    "ylabel!(\"time [s]\")"
   ]
  },
  {
   "cell_type": "markdown",
   "id": "minute-seventh",
   "metadata": {},
   "source": [
    "Um herauszufinden wie effizient diese Rechnungen sind, können wir ausrechnen wie viele Fließkommaoperationen pro Sekunde ausgeführt werden (FLOPS):"
   ]
  },
  {
   "cell_type": "code",
   "execution_count": null,
   "id": "informative-completion",
   "metadata": {
    "scrolled": false
   },
   "outputs": [],
   "source": [
    "flops = p^2 * qs ./ times # Anzal der Fließkommaoperationen pro Sekunde\n",
    "\n",
    "I_A(p,q) = 2p^2*q / (p^2 + 2p*q)\n",
    "I = I_A.(p,qs);           # Arithmetische Intensität\n",
    "\n",
    "plot(I, flops, xaxis=:log)\n",
    "xlabel!(L\"$I_A$\")\n",
    "ylabel!(\"FLOPS\")"
   ]
  },
  {
   "cell_type": "markdown",
   "id": "specified-ukraine",
   "metadata": {},
   "source": [
    "**Ergebnis:** Bei großer arithmetischer Intensität saturiert die Performance wegen der beschränkten Rechenkapazität des Computers und der Algorithmus ist *compute-bound*. Im Bereich geringer arithmetischer Intensität ist der Algorithmus *memory-bound* und kann deshalb nicht die theoretisch verfügbaren Rechenoperationen ausnutzen."
   ]
  }
 ],
 "metadata": {
  "kernelspec": {
   "display_name": "Julia 1.7.1",
   "language": "julia",
   "name": "julia-1.7"
  },
  "language_info": {
   "file_extension": ".jl",
   "mimetype": "application/julia",
   "name": "julia",
   "version": "1.7.1"
  }
 },
 "nbformat": 4,
 "nbformat_minor": 5
}
