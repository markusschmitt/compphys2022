{
 "cells": [
  {
   "cell_type": "markdown",
   "id": "informed-nepal",
   "metadata": {},
   "source": [
    "# Computerphysik Programmiertutorial 8a\n",
    "Prof. Dr. Matteo Rizzi und Dr. Markus Schmitt - Institut für Theoretische Physik, Universität zu Köln\n",
    "&nbsp;\n",
    "\n",
    "**Github**: [https://github.com/markusschmitt/compphys2022](https://github.com/markusschmitt/compphys2022)\n",
    "\n",
    "**Inhalt dieses Notebooks**: Tabulare Datenstruktur"
   ]
  },
  {
   "cell_type": "markdown",
   "id": "coated-basket",
   "metadata": {},
   "source": [
    "## Hantieren mit Daten: `DataFrames` und `CSV`/`CSVFiles`\n",
    "\n",
    "`DataFrames` stellt eine Datenstruktur für tabulare Daten zur Verfügung ([Dokumentation](https://dataframes.juliadata.org/stable/man/working_with_dataframes/)).\n",
    "\n",
    "Mit `CSV` und `CSVFiles` können tabulare Daten importiert und exportiert werden."
   ]
  },
  {
   "cell_type": "code",
   "execution_count": null,
   "id": "finnish-evidence",
   "metadata": {},
   "outputs": [],
   "source": [
    "using DataFrames\n",
    "using CSV\n",
    "using CSVFiles"
   ]
  },
  {
   "cell_type": "markdown",
   "id": "intelligent-crest",
   "metadata": {},
   "source": [
    "Ein DataFrame kann zum Beispiel so erstellt werden:"
   ]
  },
  {
   "cell_type": "code",
   "execution_count": null,
   "id": "potential-preliminary",
   "metadata": {
    "scrolled": true
   },
   "outputs": [],
   "source": [
    "data=DataFrame(Name=[\"Hans\", \"Anna\", \"Klaus\", \"Petra\"], Alter=[55,23,124,3],Geschlecht=[\"M\",\"W\",\"M\",\"W\"])"
   ]
  },
  {
   "cell_type": "markdown",
   "id": "floral-stack",
   "metadata": {},
   "source": [
    "Wir können weitere Zeilen mit `push!` hinzufügen"
   ]
  },
  {
   "cell_type": "code",
   "execution_count": null,
   "id": "fuzzy-luxembourg",
   "metadata": {},
   "outputs": [],
   "source": []
  },
  {
   "cell_type": "markdown",
   "id": "focused-leisure",
   "metadata": {},
   "source": [
    "Es sind viele Funktionen definiert um die Daten in der Tabelle zu verarbeiten (siehe [Dokumentation](https://dataframes.juliadata.org/stable/man/working_with_dataframes/)). Z.B. können wir nur die Frauen aus der Liste heraussuchen:"
   ]
  },
  {
   "cell_type": "code",
   "execution_count": null,
   "id": "expanded-church",
   "metadata": {
    "scrolled": true
   },
   "outputs": [],
   "source": []
  },
  {
   "cell_type": "markdown",
   "id": "latter-instrumentation",
   "metadata": {},
   "source": [
    "Die Tabelle kann mit `CSV.write()` exportiert werden."
   ]
  },
  {
   "cell_type": "code",
   "execution_count": null,
   "id": "welcome-narrative",
   "metadata": {},
   "outputs": [],
   "source": []
  },
  {
   "cell_type": "code",
   "execution_count": null,
   "id": "dated-princeton",
   "metadata": {
    "scrolled": false
   },
   "outputs": [],
   "source": []
  }
 ],
 "metadata": {
  "kernelspec": {
   "display_name": "Julia 1.7.1",
   "language": "julia",
   "name": "julia-1.7"
  },
  "language_info": {
   "file_extension": ".jl",
   "mimetype": "application/julia",
   "name": "julia",
   "version": "1.7.1"
  }
 },
 "nbformat": 4,
 "nbformat_minor": 5
}
