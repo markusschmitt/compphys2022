{
 "cells": [
  {
   "cell_type": "markdown",
   "id": "informed-nepal",
   "metadata": {},
   "source": [
    "# Computerphysik Programmiertutorial 3\n",
    "Prof. Dr. Matteo Rizzi und Dr. Markus Schmitt - Institut für Theoretische Physik, Universität zu Köln\n",
    "&nbsp;\n",
    "\n",
    "**ILIAS**: [https://www.ilias.uni-koeln.de/ilias/goto_uk_crs_3862489.html](https://www.ilias.uni-koeln.de/ilias/goto_uk_crs_3862489.html)\n",
    "\n",
    "**Github**: [https://github.com/markusschmitt/compphys2021](https://github.com/markusschmitt/compphys2021)\n",
    "\n",
    "**Inhalt dieses Notebooks**: Zahlenreihen und Tupel, `for`-Schleife, Funktionen, Kommentare, Pakete laden und einfaches Plotten"
   ]
  },
  {
   "cell_type": "markdown",
   "id": "virgin-coordinate",
   "metadata": {},
   "source": [
    "## Zahlenreihen und Tupel\n",
    "\n",
    "Zahlenreihen und Tupel sind weitere Datenstrukturen, die einzelne Daten zusammenfassen. Beide sind **nicht veränderliche Datenstrukturen**, d.h. einmal erstellt, können ihre Elemente nicht verändert werden.\n",
    "\n",
    "Mit Zahlenreihen können geordnete Mengen von Zahlen in regelmäßigen abständen erstellt werden. Auf einzelne Elemente wird wie bei Arrays über eckige Klammern `[]` zugegriffen:"
   ]
  },
  {
   "cell_type": "code",
   "execution_count": null,
   "id": "weird-gamma",
   "metadata": {},
   "outputs": [],
   "source": [
    "x=1:10"
   ]
  },
  {
   "cell_type": "code",
   "execution_count": null,
   "id": "fifteen-insurance",
   "metadata": {},
   "outputs": [],
   "source": [
    "x[9]"
   ]
  },
  {
   "cell_type": "markdown",
   "id": "respiratory-shopper",
   "metadata": {},
   "source": [
    "Zahlenreihen können durch `collect()` zu Arrays konvertiert werden:"
   ]
  },
  {
   "cell_type": "code",
   "execution_count": null,
   "id": "hungarian-toilet",
   "metadata": {},
   "outputs": [],
   "source": [
    "array=collect(x)"
   ]
  },
  {
   "cell_type": "markdown",
   "id": "obvious-arkansas",
   "metadata": {},
   "source": [
    "In der allgemeinen Syntax\n",
    "```julia\n",
    "<Startwert>:<Schrittweite>:<Maximalwert>\n",
    "```\n",
    "kann auch eine Schrittweite angegeben werden:"
   ]
  },
  {
   "cell_type": "code",
   "execution_count": null,
   "id": "induced-control",
   "metadata": {
    "scrolled": true
   },
   "outputs": [],
   "source": [
    "collect(1:2:10)"
   ]
  },
  {
   "cell_type": "markdown",
   "id": "israeli-governor",
   "metadata": {},
   "source": [
    "Alternativ können Zahlenreihen mit der Funktion `range()` erstellt werden:"
   ]
  },
  {
   "cell_type": "code",
   "execution_count": null,
   "id": "sorted-enterprise",
   "metadata": {},
   "outputs": [],
   "source": [
    "collect(range(0,1,step=0.2))"
   ]
  },
  {
   "cell_type": "markdown",
   "id": "innovative-postcard",
   "metadata": {},
   "source": [
    "Ist das Argument `length` gegeben, produziert `range` eine gleichmäßige Zahlenreihe mit `length` Elementen:"
   ]
  },
  {
   "cell_type": "code",
   "execution_count": null,
   "id": "royal-surgery",
   "metadata": {},
   "outputs": [],
   "source": [
    "collect(range(0,1,length=4))"
   ]
  },
  {
   "cell_type": "markdown",
   "id": "adapted-nylon",
   "metadata": {},
   "source": [
    "**Tupel** werden durch runde Klammern `()` erstellt."
   ]
  },
  {
   "cell_type": "code",
   "execution_count": null,
   "id": "endangered-dayton",
   "metadata": {},
   "outputs": [],
   "source": [
    "mein_tupel=(\"Mo\", 23, true)"
   ]
  },
  {
   "cell_type": "markdown",
   "id": "appreciated-material",
   "metadata": {},
   "source": [
    "Auf einzelne Elemente wird durch eckige Klammern `[]` zugegriffen:"
   ]
  },
  {
   "cell_type": "code",
   "execution_count": null,
   "id": "adult-blood",
   "metadata": {},
   "outputs": [],
   "source": [
    "mein_tupel[2]"
   ]
  },
  {
   "cell_type": "markdown",
   "id": "generous-rough",
   "metadata": {},
   "source": [
    "## `for`-Schleife\n",
    "\n",
    "In einer `for`-Schleife wird der Anweisungsblock für jedes Element einer iterierbaren Datenstruktur (Array, Zahlenreihe, Tupel, ...) durchgeführt.\n",
    "\n",
    "Die Syntax ist\n",
    "```julia\n",
    "for <Variable> in <iterierbares Objekt>\n",
    "    <Anweisungsblock>\n",
    "end\n",
    "```\n",
    "\n",
    "Eine sehr häufige Anwendung ist das Iterieren von Zahlenreihen:"
   ]
  },
  {
   "cell_type": "code",
   "execution_count": null,
   "id": "turned-meaning",
   "metadata": {},
   "outputs": [],
   "source": [
    "for j in 1:10\n",
    "    println(\"j hat den Wert $j\")\n",
    "end"
   ]
  },
  {
   "cell_type": "code",
   "execution_count": null,
   "id": "martial-narrow",
   "metadata": {
    "scrolled": true
   },
   "outputs": [],
   "source": [
    "for j in 10:-1:0\n",
    "    println(\"j hat den Wert $j\")\n",
    "end"
   ]
  },
  {
   "cell_type": "markdown",
   "id": "right-reception",
   "metadata": {},
   "source": [
    "Genauso können z.B. Tupel iteriert werden:"
   ]
  },
  {
   "cell_type": "code",
   "execution_count": null,
   "id": "occasional-distribution",
   "metadata": {
    "scrolled": true
   },
   "outputs": [],
   "source": [
    "for el in mein_tupel\n",
    "    println(el)\n",
    "end"
   ]
  },
  {
   "cell_type": "markdown",
   "id": "legal-cruise",
   "metadata": {},
   "source": [
    "## Funktionen\n",
    "\n",
    "Durch Funktionen werden Programmabschnitte zusammengefasst, die eine bestimmte Aufgabe erfüllen. Dadurch wird der Code strukturiert und die wiederholte Eingabe identischer Abschnitte wird vermieden. Außerdem erweitern Funktionen die möglichen Programmiermuster, z.B. durch *Rekursion*.\n",
    "\n",
    "Syntax der Funktionsdefinition:\n",
    "```julia\n",
    "function <Funktionenname>(<Argumente>)\n",
    "    <Anweisungsblock> \n",
    "    return <Rückgabewert>\n",
    "end\n",
    "```"
   ]
  },
  {
   "cell_type": "code",
   "execution_count": null,
   "id": "liable-client",
   "metadata": {},
   "outputs": [],
   "source": [
    "function polynom(x)\n",
    "    y = 3x+4x^2\n",
    "    return y\n",
    "end\n",
    "\n",
    "polynom(2)"
   ]
  },
  {
   "cell_type": "markdown",
   "id": "outside-possible",
   "metadata": {},
   "source": [
    "Wenn keine Rückgabe erfolgen soll, ist der Rückgabewert `nothing`:"
   ]
  },
  {
   "cell_type": "code",
   "execution_count": null,
   "id": "floppy-quick",
   "metadata": {},
   "outputs": [],
   "source": [
    "function say_hi()\n",
    "    println(\"Hi!\")\n",
    "    return nothing\n",
    "end\n",
    "\n",
    "say_hi()"
   ]
  },
  {
   "cell_type": "markdown",
   "id": "plastic-syndicate",
   "metadata": {},
   "source": [
    "**Wichtig:** Argumente werden in Julia nach dem Prinzip **pass-by-sharing** übergeben. Das bedeutet, dass Veränderungen, die im Anweisungsblock der Funktion an veränderlichen Datenstrukturen (z.B. Arrays oder Dictionaries) vorgenommen werden auch außerhalb der Funktion sichtbar sind. Das gilt allerdings *nicht* für die primitiven Datentypen (z.B. `Int` oder `Float`) und die unveränderlichen Datenstrukturen."
   ]
  },
  {
   "cell_type": "code",
   "execution_count": null,
   "id": "periodic-founder",
   "metadata": {},
   "outputs": [],
   "source": [
    "a=(3,4)\n",
    "\n",
    "function f(x)\n",
    "    println(\"x ist \", x)\n",
    "    x=(1,2,3)\n",
    "    println(\"x ist jetzt \", x)\n",
    "    return nothing\n",
    "end\n",
    "\n",
    "f(a)\n",
    "println(\"a ist \", a)"
   ]
  },
  {
   "cell_type": "markdown",
   "id": "burning-superior",
   "metadata": {},
   "source": [
    "In Julia ist es *Konvention*, dass bei Funktionen, die Änderungen an den gegebenen Argumenten vornehmen, dem Funktionennamen ein `!` angehängt wird:"
   ]
  },
  {
   "cell_type": "code",
   "execution_count": null,
   "id": "hazardous-hunter",
   "metadata": {},
   "outputs": [],
   "source": [
    "a=[3,4]\n",
    "\n",
    "function f!(x)\n",
    "    println(\"x ist \", x)\n",
    "    x[1] = 1\n",
    "    x[2] = 2\n",
    "    push!(x,3)\n",
    "    println(\"x ist jetzt \", x)\n",
    "    return nothing\n",
    "end\n",
    "\n",
    "f!(a)\n",
    "println(\"a ist \", a)"
   ]
  },
  {
   "cell_type": "markdown",
   "id": "technological-thermal",
   "metadata": {},
   "source": [
    "Funktionen können **mehrere Argumente** haben:"
   ]
  },
  {
   "cell_type": "code",
   "execution_count": null,
   "id": "signal-right",
   "metadata": {},
   "outputs": [],
   "source": [
    "function produkt(x,y)\n",
    "    return x*y\n",
    "end\n",
    "\n",
    "produkt(2,3)"
   ]
  },
  {
   "cell_type": "markdown",
   "id": "prompt-demonstration",
   "metadata": {},
   "source": [
    "Funktionen können **elementweise** angewendet werden. Dazu wird einem definierten Funktionennamen der Punkt `.` angehängt:"
   ]
  },
  {
   "cell_type": "code",
   "execution_count": null,
   "id": "severe-rough",
   "metadata": {},
   "outputs": [],
   "source": [
    "function quadrat(x)\n",
    "    return x^2\n",
    "end\n",
    "\n",
    "array=collect(1:10)\n",
    "quadrat.(array)"
   ]
  },
  {
   "cell_type": "markdown",
   "id": "changed-security",
   "metadata": {},
   "source": [
    "Funktionen können sich selbst aufrufen. Das ermöglicht eine neue Programmierstruktur: die **Rekursion**\n",
    "\n",
    "So kann z.B. die Fakultät durch Rekursion berechnet werden, da\n",
    "$$n!=n\\big[(n-1)!\\big]$$\n",
    "und\n",
    "$$1!=1$$"
   ]
  },
  {
   "cell_type": "code",
   "execution_count": null,
   "id": "understood-bottom",
   "metadata": {},
   "outputs": [],
   "source": [
    "function fact(n)\n",
    "    if n<=1\n",
    "        return 1\n",
    "    else\n",
    "        return n * fact(n-1)\n",
    "    end\n",
    "end\n",
    "\n",
    "fact(7)"
   ]
  },
  {
   "cell_type": "markdown",
   "id": "formal-jamaica",
   "metadata": {},
   "source": [
    "## Kommentare\n",
    "\n",
    "Ein **Kommentar** ist Text im Quellcode, der nicht als Teil des Programms interpretiert wird. Dadurch können Anmerkungen in den Code eingefügt werden, die ihn verständlicher machen. Es ist sehr wichtig den eigenen Programmcode zu *kommentieren*, also den wesentlichen Ablauf durch das einfügen von Kommentaren zu erklären.\n",
    "\n",
    "Syntax:\n",
    "```julia\n",
    "# Dies ist ein einzeiliger Kommentar\n",
    "\n",
    "#=\n",
    "Mehrzeilige Kommentare werden mit '#=' und '=#' eingeschlossen.\n",
    "=#\n",
    "```\n",
    "\n",
    "So können wir zum Beispiel unsere Fakultätsfunktion kommentieren:"
   ]
  },
  {
   "cell_type": "code",
   "execution_count": null,
   "id": "accredited-increase",
   "metadata": {},
   "outputs": [],
   "source": [
    "#=\n",
    "Die folgende Funktion berechnet die Fakultät einer Ganzzahl rekursiv.\n",
    "Argument n: Integer\n",
    "Rückgabewert: Fakultät von n (n!)\n",
    "=#\n",
    "function fact(n)\n",
    "    if n <= 1\n",
    "        # Fakultät von 1 ist 1\n",
    "        return 1\n",
    "    else\n",
    "        # Rekursion: n! = n * (n-1)!\n",
    "        return n * fact(n-1) \n",
    "    end\n",
    "end\n",
    "\n",
    "fact(7)"
   ]
  },
  {
   "cell_type": "markdown",
   "id": "proper-klein",
   "metadata": {},
   "source": [
    "## Pakete laden und einfaches Plotten\n",
    "\n",
    "Bisher haben wir gesehen wie die Programmierung in Julia auf einer elementaren Ebene Funktioniert. Im Prinzip können wir damit beliebig komplizierte Programme bauen. Allerdings müssen wir zur Lösung typischer Probleme das Rad nicht immer neu erfinden, da oft gebrauchte Funktionalität in Julia bereits in **Paketen** implementiert ist, die wir in unser Programm einbinden können.\n",
    "\n",
    "Syntax:\n",
    "```julia\n",
    "using <Paketname>\n",
    "```\n",
    "\n",
    "Hier laden wir das Paket `Plots`, das Funktionen zum Plotten enthält:"
   ]
  },
  {
   "cell_type": "code",
   "execution_count": null,
   "id": "falling-rolling",
   "metadata": {},
   "outputs": [],
   "source": []
  },
  {
   "cell_type": "markdown",
   "id": "junior-structure",
   "metadata": {},
   "source": [
    "Zum Test definieren wir eine Funktion"
   ]
  },
  {
   "cell_type": "code",
   "execution_count": null,
   "id": "complete-leave",
   "metadata": {},
   "outputs": [],
   "source": [
    "function f(x)\n",
    "    if x<1\n",
    "        return 0.\n",
    "    end\n",
    "    return sqrt(x)\n",
    "end"
   ]
  },
  {
   "cell_type": "markdown",
   "id": "outer-blond",
   "metadata": {},
   "source": [
    "Generiere Daten:"
   ]
  },
  {
   "cell_type": "code",
   "execution_count": null,
   "id": "ready-community",
   "metadata": {},
   "outputs": [],
   "source": [
    "x_werte=collect(0:0.1:10)\n",
    "y_werte=f.(x_werte)\n",
    "\n",
    "println(\"x: \", x_werte)\n",
    "println(\"y: \", y_werte)"
   ]
  },
  {
   "cell_type": "code",
   "execution_count": null,
   "id": "purple-blues",
   "metadata": {},
   "outputs": [],
   "source": []
  },
  {
   "cell_type": "markdown",
   "id": "worse-sapphire",
   "metadata": {},
   "source": [
    "Wir hätten natürlich auch gerne Achsenbeschriftungen:"
   ]
  },
  {
   "cell_type": "code",
   "execution_count": null,
   "id": "sitting-microphone",
   "metadata": {},
   "outputs": [],
   "source": [
    "plot(x_werte,y_werte,label=\"Meine Funktion\")\n",
    "plot!(x_werte,x_werte,label=\"f(x)=x\")\n",
    "xlabel!(\"x\")\n",
    "ylabel!(\"f(x)\")"
   ]
  },
  {
   "cell_type": "markdown",
   "id": "minimal-scheme",
   "metadata": {},
   "source": [
    "Natürlich können wir auch Datenpunkte markieren oder die Linienart verändern"
   ]
  },
  {
   "cell_type": "code",
   "execution_count": null,
   "id": "funky-bacon",
   "metadata": {},
   "outputs": [],
   "source": [
    "data=rand(10)\n",
    "plot(data, line=:dash, markershape=:pentagon)"
   ]
  },
  {
   "cell_type": "markdown",
   "id": "electronic-honor",
   "metadata": {},
   "source": [
    "Es gibt zahlreiche Möglichkeiten die Plots zu gestalten: [Plots.jl Dokumentation](https://docs.juliaplots.org/stable/)"
   ]
  }
 ],
 "metadata": {
  "kernelspec": {
   "display_name": "Julia 1.7.1",
   "language": "julia",
   "name": "julia-1.7"
  },
  "language_info": {
   "file_extension": ".jl",
   "mimetype": "application/julia",
   "name": "julia",
   "version": "1.7.1"
  }
 },
 "nbformat": 4,
 "nbformat_minor": 5
}
